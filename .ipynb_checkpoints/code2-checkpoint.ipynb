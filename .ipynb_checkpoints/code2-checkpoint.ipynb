{
 "cells": [
  {
   "cell_type": "markdown",
   "metadata": {},
   "source": [
    "<h1><center>Students performance and difficulties prediction</center></h1>"
   ]
  },
  {
   "cell_type": "markdown",
   "metadata": {},
   "source": [
    "<img src='http://www.inpt.ac.ma/sites/default/files/article/image/inpt%20_0.png' width=\"242\" height=\"42\" style=\"float:right\">\n",
    "<h3>Project Advisor:</h3>\n",
    "\n",
    "<a href='https://www.linkedin.com/in/amina-radgui-88017424/' style=\"text-decoration: none\">Prof. RADGUI Amina</a>\n",
    "    \n",
    "<h3>Working team:</h3>\n",
    "    \n",
    "<a href='https://www.linkedin.com/in/mohammed-al-jadd-a540281b7/' style=\"text-decoration: none\">AL JADD Mohammed</a>\n",
    "    \n",
    "<a href='https://www.linkedin.com/in/hafssa-boujida-248aa5202/' style=\"text-decoration: none\">BOUJIDA Hafssa</a>\n",
    "    \n",
    "<a href='https://www.linkedin.com/in/nouhaila-elnabaoui-b43b8b19b/' style=\"text-decoration: none\">EL NABAOUI Nouhaila</a>\n",
    "    \n",
    "    \n",
    "    \n",
    "    "
   ]
  },
  {
   "cell_type": "markdown",
   "metadata": {},
   "source": [
    "<img src='plots\\project.cover\\cover.png' width=\"600\" height=\"600\">"
   ]
  },
  {
   "cell_type": "markdown",
   "metadata": {},
   "source": [
    "In this notebook, we will  :\n",
    "\n",
    "- Predict whether or not a student will pass the final exam based on certain information given\n",
    "- Compare the three learning algorithms\n",
    "- Find out what most affects student achievement\n",
    "- Find the best algorithm with high accuracy\n",
    "\n",
    "We will be using three learning algorithms:\n",
    "\n",
    "- Logistic regression\n",
    "- Supported vector machine\n",
    "- KNN"
   ]
  },
  {
   "cell_type": "markdown",
   "metadata": {},
   "source": [
    "# Reading data"
   ]
  },
  {
   "cell_type": "code",
   "execution_count": 262,
   "metadata": {},
   "outputs": [],
   "source": [
    "import numpy as np\n",
    "import pandas as pd\n",
    "import seaborn as sns\n",
    "import matplotlib.pyplot as plt\n",
    "from time import time\n",
    "from sklearn.linear_model import LogisticRegression\n",
    "from sklearn.neighbors import KNeighborsClassifier\n",
    "from sklearn.svm import SVC\n",
    "from sklearn.model_selection import train_test_split\n",
    "from sklearn.metrics import confusion_matrix, roc_curve, accuracy_score, f1_score, roc_auc_score, classification_report\n",
    "from astropy.table import Table\n",
    "\n",
    "\n",
    "df = pd.read_csv('student-data.csv')\n",
    "dfv = pd.read_csv('student-data.csv')"
   ]
  },
  {
   "cell_type": "markdown",
   "metadata": {},
   "source": [
    "# Data <h5 style='color:red;font-family:cursive;font-size:4.5mm'>Réalisé par Mohammed AL JADD </h5>"
   ]
  },
  {
   "cell_type": "markdown",
   "metadata": {},
   "source": [
    "**Before process the data let's describe it briefly:**\n",
    "- Source : **Paulo Cortez, University of Minho, GuimarÃ£es, Portugal**, http://www3.dsi.uminho.pt/pcortez\n",
    "\n",
    "- This data approach student achievement in secondary education of two Portuguese schools.\n",
    "\n",
    "- The shape of our data set is **(395 rows × 31 columns)**.\n",
    "\n",
    "- **No missing** values in the data.\n",
    "\n",
    "- The data attributes **include demographic**, social and school related features and it was collected by using school reports and questionnaires.\n",
    "\n",
    "- **The last column tell us whether a student passed the final exam or not**.\n",
    "\n",
    "- The dataset is taken from : https://archive.ics.uci.edu/ml/datasets/student+performance"
   ]
  },
  {
   "cell_type": "markdown",
   "metadata": {},
   "source": [
    "**Now let's explain every column in the dataframe**\n",
    "- `school` : student's school (binary: \"GP\" or \"MS\")\n",
    "- `sex` : student's sex (binary: \"F\" - female or \"M\" - male)\n",
    "- `age` : student's age (numeric: from 15 to 22)\n",
    "- `address` : student's home address type (binary: \"U\" - urban or \"R\" - rural)\n",
    "- `famsize` : family size (binary: \"LE3\" - less or equal to 3 or \"GT3\" - greater than 3)\n",
    "- `Pstatus` : parent's cohabitation status (binary: \"T\" - living together or \"A\" - apart)\n",
    "- `Medu` : mother's education (numeric: 0 - none,  1 - primary education (4th grade), 2 - 5th to 9th grade, 3 - secondary education or 4 - higher education)\n",
    "- `Fedu` : father's education (numeric: 0 - none,  1 - primary education (4th grade), 2 - 5th to 9th grade, 3 - secondary education or 4 - higher education)\n",
    "- `Mjob` : mother's job (nominal: \"teacher\", \"health\" care related, civil \"services\" (e.g. administrative or police), \"at_home\" or \"other\")\n",
    "- `Fjob` : father's job (nominal: \"teacher\", \"health\" care related, civil \"services\" (e.g. administrative or police), \"at_home\" or \"other\")\n",
    "- `reason` : reason to choose this school (nominal: close to \"home\", school \"reputation\", \"course\" preference or \"other\")\n",
    "- `guardian` : student's guardian (nominal: \"mother\", \"father\" or \"other\")\n",
    "- `traveltime` : home to school travel time (numeric: 1 - <15 min., 2 - 15 to 30 min., 3 - 30 min. to 1 hour, or 4 - >1 hour)\n",
    "- `studytime` : weekly study time (numeric: 1 - <2 hours, 2 - 2 to 5 hours, 3 - 5 to 10 hours, or 4 - >10 hours)\n",
    "- `failures` : number of past class failures (numeric: n if 1<=n<3, else 4)\n",
    "- `schoolsup` : extra educational support (binary: yes or no)\n",
    "- `famsup` : family educational support (binary: yes or no)\n",
    "- `paid` : extra paid classes within the course subject (Math or Portuguese) (binary: yes or no)\n",
    "- `activities` : extra-curricular activities (binary: yes or no)\n",
    "- `nursery` : attended nursery school (binary: yes or no)\n",
    "- `higher` : wants to take higher education (binary: yes or no)\n",
    "- `internet` : Internet access at home (binary: yes or no)\n",
    "- `romantic` : with a romantic relationship (binary: yes or no)\n",
    "- `famrel` : quality of family relationships (numeric: from 1 - very bad to 5 - excellent)\n",
    "- `freetime` : free time after school (numeric: from 1 - very low to 5 - very high)\n",
    "- `goout` : going out with friends (numeric: from 1 - very low to 5 - very high)\n",
    "- `Dalc` : workday alcohol consumption (numeric: from 1 - very low to 5 - very high)\n",
    "- `Walc` : weekend alcohol consumption (numeric: from 1 - very low to 5 - very high)\n",
    "- `health` : current health status (numeric: from 1 - very bad to 5 - very good)\n",
    "- `absences` : number of school absences (numeric: from 0 to 93)\n",
    "\n",
    "**The last column:**\n",
    "- `passed` : did the student pass the final exam (binary: yes or no)"
   ]
  },
  {
   "cell_type": "markdown",
   "metadata": {},
   "source": [
    "**Displaying the dataset**"
   ]
  },
  {
   "cell_type": "code",
   "execution_count": 284,
   "metadata": {},
   "outputs": [
    {
     "data": {
      "text/html": [
       "<div>\n",
       "<style scoped>\n",
       "    .dataframe tbody tr th:only-of-type {\n",
       "        vertical-align: middle;\n",
       "    }\n",
       "\n",
       "    .dataframe tbody tr th {\n",
       "        vertical-align: top;\n",
       "    }\n",
       "\n",
       "    .dataframe thead th {\n",
       "        text-align: right;\n",
       "    }\n",
       "</style>\n",
       "<table border=\"1\" class=\"dataframe\">\n",
       "  <thead>\n",
       "    <tr style=\"text-align: right;\">\n",
       "      <th></th>\n",
       "      <th>school</th>\n",
       "      <th>sex</th>\n",
       "      <th>age</th>\n",
       "      <th>address</th>\n",
       "      <th>famsize</th>\n",
       "      <th>Pstatus</th>\n",
       "      <th>Medu</th>\n",
       "      <th>Fedu</th>\n",
       "      <th>Mjob</th>\n",
       "      <th>Fjob</th>\n",
       "      <th>...</th>\n",
       "      <th>internet</th>\n",
       "      <th>romantic</th>\n",
       "      <th>famrel</th>\n",
       "      <th>freetime</th>\n",
       "      <th>goout</th>\n",
       "      <th>Dalc</th>\n",
       "      <th>Walc</th>\n",
       "      <th>health</th>\n",
       "      <th>absences</th>\n",
       "      <th>passed</th>\n",
       "    </tr>\n",
       "  </thead>\n",
       "  <tbody>\n",
       "    <tr>\n",
       "      <th>0</th>\n",
       "      <td>0.0</td>\n",
       "      <td>1.0</td>\n",
       "      <td>0.059264</td>\n",
       "      <td>0.0</td>\n",
       "      <td>1.0</td>\n",
       "      <td>1.0</td>\n",
       "      <td>1.00</td>\n",
       "      <td>1.00</td>\n",
       "      <td>0.75</td>\n",
       "      <td>0.0</td>\n",
       "      <td>...</td>\n",
       "      <td>0.0</td>\n",
       "      <td>0.0</td>\n",
       "      <td>0.75</td>\n",
       "      <td>0.50</td>\n",
       "      <td>0.75</td>\n",
       "      <td>0.00</td>\n",
       "      <td>0.00</td>\n",
       "      <td>0.5</td>\n",
       "      <td>0.003882</td>\n",
       "      <td>0.0</td>\n",
       "    </tr>\n",
       "    <tr>\n",
       "      <th>1</th>\n",
       "      <td>0.0</td>\n",
       "      <td>1.0</td>\n",
       "      <td>0.013809</td>\n",
       "      <td>0.0</td>\n",
       "      <td>1.0</td>\n",
       "      <td>0.0</td>\n",
       "      <td>0.25</td>\n",
       "      <td>0.25</td>\n",
       "      <td>0.75</td>\n",
       "      <td>1.0</td>\n",
       "      <td>...</td>\n",
       "      <td>1.0</td>\n",
       "      <td>0.0</td>\n",
       "      <td>1.00</td>\n",
       "      <td>0.50</td>\n",
       "      <td>0.50</td>\n",
       "      <td>0.00</td>\n",
       "      <td>0.00</td>\n",
       "      <td>0.5</td>\n",
       "      <td>-0.022785</td>\n",
       "      <td>0.0</td>\n",
       "    </tr>\n",
       "    <tr>\n",
       "      <th>2</th>\n",
       "      <td>0.0</td>\n",
       "      <td>1.0</td>\n",
       "      <td>-0.077100</td>\n",
       "      <td>0.0</td>\n",
       "      <td>0.0</td>\n",
       "      <td>0.0</td>\n",
       "      <td>0.25</td>\n",
       "      <td>0.25</td>\n",
       "      <td>0.75</td>\n",
       "      <td>1.0</td>\n",
       "      <td>...</td>\n",
       "      <td>1.0</td>\n",
       "      <td>0.0</td>\n",
       "      <td>0.75</td>\n",
       "      <td>0.50</td>\n",
       "      <td>0.25</td>\n",
       "      <td>0.25</td>\n",
       "      <td>0.50</td>\n",
       "      <td>0.5</td>\n",
       "      <td>0.057215</td>\n",
       "      <td>1.0</td>\n",
       "    </tr>\n",
       "    <tr>\n",
       "      <th>3</th>\n",
       "      <td>0.0</td>\n",
       "      <td>1.0</td>\n",
       "      <td>-0.077100</td>\n",
       "      <td>0.0</td>\n",
       "      <td>1.0</td>\n",
       "      <td>0.0</td>\n",
       "      <td>1.00</td>\n",
       "      <td>0.50</td>\n",
       "      <td>0.25</td>\n",
       "      <td>0.5</td>\n",
       "      <td>...</td>\n",
       "      <td>1.0</td>\n",
       "      <td>1.0</td>\n",
       "      <td>0.50</td>\n",
       "      <td>0.25</td>\n",
       "      <td>0.25</td>\n",
       "      <td>0.00</td>\n",
       "      <td>0.00</td>\n",
       "      <td>1.0</td>\n",
       "      <td>-0.049451</td>\n",
       "      <td>1.0</td>\n",
       "    </tr>\n",
       "    <tr>\n",
       "      <th>4</th>\n",
       "      <td>0.0</td>\n",
       "      <td>1.0</td>\n",
       "      <td>-0.031646</td>\n",
       "      <td>0.0</td>\n",
       "      <td>1.0</td>\n",
       "      <td>0.0</td>\n",
       "      <td>0.75</td>\n",
       "      <td>0.75</td>\n",
       "      <td>1.00</td>\n",
       "      <td>1.0</td>\n",
       "      <td>...</td>\n",
       "      <td>0.0</td>\n",
       "      <td>0.0</td>\n",
       "      <td>0.75</td>\n",
       "      <td>0.50</td>\n",
       "      <td>0.25</td>\n",
       "      <td>0.00</td>\n",
       "      <td>0.25</td>\n",
       "      <td>1.0</td>\n",
       "      <td>-0.022785</td>\n",
       "      <td>1.0</td>\n",
       "    </tr>\n",
       "  </tbody>\n",
       "</table>\n",
       "<p>5 rows × 31 columns</p>\n",
       "</div>"
      ],
      "text/plain": [
       "   school  sex       age  address  famsize  Pstatus  Medu  Fedu  Mjob  Fjob  \\\n",
       "0     0.0  1.0  0.059264      0.0      1.0      1.0  1.00  1.00  0.75   0.0   \n",
       "1     0.0  1.0  0.013809      0.0      1.0      0.0  0.25  0.25  0.75   1.0   \n",
       "2     0.0  1.0 -0.077100      0.0      0.0      0.0  0.25  0.25  0.75   1.0   \n",
       "3     0.0  1.0 -0.077100      0.0      1.0      0.0  1.00  0.50  0.25   0.5   \n",
       "4     0.0  1.0 -0.031646      0.0      1.0      0.0  0.75  0.75  1.00   1.0   \n",
       "\n",
       "   ...  internet  romantic  famrel  freetime  goout  Dalc  Walc  health  \\\n",
       "0  ...       0.0       0.0    0.75      0.50   0.75  0.00  0.00     0.5   \n",
       "1  ...       1.0       0.0    1.00      0.50   0.50  0.00  0.00     0.5   \n",
       "2  ...       1.0       0.0    0.75      0.50   0.25  0.25  0.50     0.5   \n",
       "3  ...       1.0       1.0    0.50      0.25   0.25  0.00  0.00     1.0   \n",
       "4  ...       0.0       0.0    0.75      0.50   0.25  0.00  0.25     1.0   \n",
       "\n",
       "   absences  passed  \n",
       "0  0.003882     0.0  \n",
       "1 -0.022785     0.0  \n",
       "2  0.057215     1.0  \n",
       "3 -0.049451     1.0  \n",
       "4 -0.022785     1.0  \n",
       "\n",
       "[5 rows x 31 columns]"
      ]
     },
     "execution_count": 284,
     "metadata": {},
     "output_type": "execute_result"
    }
   ],
   "source": [
    "df.iloc[0:5]"
   ]
  },
  {
   "cell_type": "markdown",
   "metadata": {},
   "source": [
    "## Data processing <h5 style='color:red;font-family:cursive;font-size:4.5mm'>Réalisé par Mohammed AL JADD </h5>"
   ]
  },
  {
   "cell_type": "code",
   "execution_count": 264,
   "metadata": {},
   "outputs": [],
   "source": [
    "# mapping strings to numeric values:\n",
    "def numerical_data():\n",
    "    df['school'] = df['school'].map({'GP': 0, 'MS': 1})\n",
    "    df['sex'] = df['sex'].map({'M': 0, 'F': 1})\n",
    "    df['address'] = df['address'].map({'U': 0, 'R': 1})\n",
    "    df['famsize'] = df['famsize'].map({'LE3': 0, 'GT3': 1})\n",
    "    df['Pstatus'] = df['Pstatus'].map({'T': 0, 'A': 1})\n",
    "    df['Mjob'] = df['Mjob'].map({'teacher': 0, 'health': 1, 'services': 2, 'at_home': 3, 'other': 4})\n",
    "    df['Fjob'] = df['Fjob'].map({'teacher': 0, 'health': 1, 'services': 2, 'at_home': 3, 'other': 4})\n",
    "    df['reason'] = df['reason'].map({'home': 0, 'reputation': 1, 'course': 2, 'other': 3})\n",
    "    df['guardian'] = df['guardian'].map({'mother': 0, 'father': 1, 'other': 2})\n",
    "    df['schoolsup'] = df['schoolsup'].map({'no': 0, 'yes': 1})\n",
    "    df['famsup'] = df['famsup'].map({'no': 0, 'yes': 1})\n",
    "    df['paid'] = df['paid'].map({'no': 0, 'yes': 1})\n",
    "    df['activities'] = df['activities'].map({'no': 0, 'yes': 1})\n",
    "    df['nursery'] = df['nursery'].map({'no': 0, 'yes': 1})\n",
    "    df['higher'] = df['higher'].map({'no': 0, 'yes': 1})\n",
    "    df['internet'] = df['internet'].map({'no': 0, 'yes': 1})\n",
    "    df['romantic'] = df['romantic'].map({'no': 0, 'yes' : 1})\n",
    "    df['passed'] = df['passed'].map({'no': 0, 'yes': 1})\n",
    "    # reorder dataframe columns :\n",
    "    col = df['passed']\n",
    "    del df['passed']\n",
    "    df['passed'] = col\n",
    "\n",
    "    \n",
    "# feature scaling will allow the algorithm to converge faster, large data will have same scal\n",
    "def feature_scaling(df):\n",
    "    for i in df:\n",
    "        col = df[i]\n",
    "        # let's choose columns that have large values\n",
    "        if(np.max(col)>6):\n",
    "            Max = max(col)\n",
    "            Min = min(col)\n",
    "            mean = np.mean(col)\n",
    "            col  = (col-mean)/(Max)\n",
    "            df[i] = col\n",
    "        elif(np.max(col)<6):\n",
    "            col = (col-np.min(col))\n",
    "            col /= np.max(col)\n",
    "            df[i] = col\n",
    "\n",
    "\n",
    "# This function will transform dataframe to a numpy array and split it into training set, test set and cross validation set :\n",
    "def split(df,rest_size,test_size,randomState):\n",
    "    data = df.to_numpy()\n",
    "    n = data.shape[1]\n",
    "    x = data[:,0:n-1]\n",
    "    y = data[:,n-1]\n",
    "    if(randomState):\n",
    "        X_train,X_rest,y_train,y_rest = train_test_split(x,y,test_size=rest_size,random_state=randomState)\n",
    "        X_val,X_test,y_val,y_test = train_test_split(X_rest,y_rest,test_size=test_size,random_state=randomState)\n",
    "    else:\n",
    "        X_train,X_rest,y_train,y_rest = train_test_split(x,y,test_size=rest_size,random_state=0)\n",
    "        X_val,X_test,y_val,y_test = train_test_split(X_rest,y_rest,test_size=test_size,random_state=0)\n",
    "    \n",
    "    return X_train,X_val,X_test,y_train,y_val,y_test"
   ]
  },
  {
   "cell_type": "markdown",
   "metadata": {},
   "source": [
    "**digitization of values**"
   ]
  },
  {
   "cell_type": "code",
   "execution_count": 265,
   "metadata": {},
   "outputs": [
    {
     "data": {
      "text/html": [
       "<div>\n",
       "<style scoped>\n",
       "    .dataframe tbody tr th:only-of-type {\n",
       "        vertical-align: middle;\n",
       "    }\n",
       "\n",
       "    .dataframe tbody tr th {\n",
       "        vertical-align: top;\n",
       "    }\n",
       "\n",
       "    .dataframe thead th {\n",
       "        text-align: right;\n",
       "    }\n",
       "</style>\n",
       "<table border=\"1\" class=\"dataframe\">\n",
       "  <thead>\n",
       "    <tr style=\"text-align: right;\">\n",
       "      <th></th>\n",
       "      <th>school</th>\n",
       "      <th>sex</th>\n",
       "      <th>age</th>\n",
       "      <th>address</th>\n",
       "      <th>famsize</th>\n",
       "      <th>Pstatus</th>\n",
       "      <th>Medu</th>\n",
       "      <th>Fedu</th>\n",
       "      <th>Mjob</th>\n",
       "      <th>Fjob</th>\n",
       "      <th>...</th>\n",
       "      <th>internet</th>\n",
       "      <th>romantic</th>\n",
       "      <th>famrel</th>\n",
       "      <th>freetime</th>\n",
       "      <th>goout</th>\n",
       "      <th>Dalc</th>\n",
       "      <th>Walc</th>\n",
       "      <th>health</th>\n",
       "      <th>absences</th>\n",
       "      <th>passed</th>\n",
       "    </tr>\n",
       "  </thead>\n",
       "  <tbody>\n",
       "    <tr>\n",
       "      <th>0</th>\n",
       "      <td>0</td>\n",
       "      <td>1</td>\n",
       "      <td>18</td>\n",
       "      <td>0</td>\n",
       "      <td>1</td>\n",
       "      <td>1</td>\n",
       "      <td>4</td>\n",
       "      <td>4</td>\n",
       "      <td>3</td>\n",
       "      <td>0</td>\n",
       "      <td>...</td>\n",
       "      <td>0</td>\n",
       "      <td>0</td>\n",
       "      <td>4</td>\n",
       "      <td>3</td>\n",
       "      <td>4</td>\n",
       "      <td>1</td>\n",
       "      <td>1</td>\n",
       "      <td>3</td>\n",
       "      <td>6</td>\n",
       "      <td>0</td>\n",
       "    </tr>\n",
       "    <tr>\n",
       "      <th>1</th>\n",
       "      <td>0</td>\n",
       "      <td>1</td>\n",
       "      <td>17</td>\n",
       "      <td>0</td>\n",
       "      <td>1</td>\n",
       "      <td>0</td>\n",
       "      <td>1</td>\n",
       "      <td>1</td>\n",
       "      <td>3</td>\n",
       "      <td>4</td>\n",
       "      <td>...</td>\n",
       "      <td>1</td>\n",
       "      <td>0</td>\n",
       "      <td>5</td>\n",
       "      <td>3</td>\n",
       "      <td>3</td>\n",
       "      <td>1</td>\n",
       "      <td>1</td>\n",
       "      <td>3</td>\n",
       "      <td>4</td>\n",
       "      <td>0</td>\n",
       "    </tr>\n",
       "    <tr>\n",
       "      <th>2</th>\n",
       "      <td>0</td>\n",
       "      <td>1</td>\n",
       "      <td>15</td>\n",
       "      <td>0</td>\n",
       "      <td>0</td>\n",
       "      <td>0</td>\n",
       "      <td>1</td>\n",
       "      <td>1</td>\n",
       "      <td>3</td>\n",
       "      <td>4</td>\n",
       "      <td>...</td>\n",
       "      <td>1</td>\n",
       "      <td>0</td>\n",
       "      <td>4</td>\n",
       "      <td>3</td>\n",
       "      <td>2</td>\n",
       "      <td>2</td>\n",
       "      <td>3</td>\n",
       "      <td>3</td>\n",
       "      <td>10</td>\n",
       "      <td>1</td>\n",
       "    </tr>\n",
       "    <tr>\n",
       "      <th>3</th>\n",
       "      <td>0</td>\n",
       "      <td>1</td>\n",
       "      <td>15</td>\n",
       "      <td>0</td>\n",
       "      <td>1</td>\n",
       "      <td>0</td>\n",
       "      <td>4</td>\n",
       "      <td>2</td>\n",
       "      <td>1</td>\n",
       "      <td>2</td>\n",
       "      <td>...</td>\n",
       "      <td>1</td>\n",
       "      <td>1</td>\n",
       "      <td>3</td>\n",
       "      <td>2</td>\n",
       "      <td>2</td>\n",
       "      <td>1</td>\n",
       "      <td>1</td>\n",
       "      <td>5</td>\n",
       "      <td>2</td>\n",
       "      <td>1</td>\n",
       "    </tr>\n",
       "    <tr>\n",
       "      <th>4</th>\n",
       "      <td>0</td>\n",
       "      <td>1</td>\n",
       "      <td>16</td>\n",
       "      <td>0</td>\n",
       "      <td>1</td>\n",
       "      <td>0</td>\n",
       "      <td>3</td>\n",
       "      <td>3</td>\n",
       "      <td>4</td>\n",
       "      <td>4</td>\n",
       "      <td>...</td>\n",
       "      <td>0</td>\n",
       "      <td>0</td>\n",
       "      <td>4</td>\n",
       "      <td>3</td>\n",
       "      <td>2</td>\n",
       "      <td>1</td>\n",
       "      <td>2</td>\n",
       "      <td>5</td>\n",
       "      <td>4</td>\n",
       "      <td>1</td>\n",
       "    </tr>\n",
       "  </tbody>\n",
       "</table>\n",
       "<p>5 rows × 31 columns</p>\n",
       "</div>"
      ],
      "text/plain": [
       "   school  sex  age  address  famsize  Pstatus  Medu  Fedu  Mjob  Fjob  ...  \\\n",
       "0       0    1   18        0        1        1     4     4     3     0  ...   \n",
       "1       0    1   17        0        1        0     1     1     3     4  ...   \n",
       "2       0    1   15        0        0        0     1     1     3     4  ...   \n",
       "3       0    1   15        0        1        0     4     2     1     2  ...   \n",
       "4       0    1   16        0        1        0     3     3     4     4  ...   \n",
       "\n",
       "   internet  romantic  famrel  freetime  goout  Dalc  Walc  health  absences  \\\n",
       "0         0         0       4         3      4     1     1       3         6   \n",
       "1         1         0       5         3      3     1     1       3         4   \n",
       "2         1         0       4         3      2     2     3       3        10   \n",
       "3         1         1       3         2      2     1     1       5         2   \n",
       "4         0         0       4         3      2     1     2       5         4   \n",
       "\n",
       "   passed  \n",
       "0       0  \n",
       "1       0  \n",
       "2       1  \n",
       "3       1  \n",
       "4       1  \n",
       "\n",
       "[5 rows x 31 columns]"
      ]
     },
     "execution_count": 265,
     "metadata": {},
     "output_type": "execute_result"
    }
   ],
   "source": [
    "# All values in numerical after calling numerical_data() function\n",
    "numerical_data()\n",
    "df.iloc[0:5]"
   ]
  },
  {
   "cell_type": "markdown",
   "metadata": {},
   "source": [
    "**Features scalling**"
   ]
  },
  {
   "cell_type": "code",
   "execution_count": 266,
   "metadata": {},
   "outputs": [
    {
     "data": {
      "text/html": [
       "<div>\n",
       "<style scoped>\n",
       "    .dataframe tbody tr th:only-of-type {\n",
       "        vertical-align: middle;\n",
       "    }\n",
       "\n",
       "    .dataframe tbody tr th {\n",
       "        vertical-align: top;\n",
       "    }\n",
       "\n",
       "    .dataframe thead th {\n",
       "        text-align: right;\n",
       "    }\n",
       "</style>\n",
       "<table border=\"1\" class=\"dataframe\">\n",
       "  <thead>\n",
       "    <tr style=\"text-align: right;\">\n",
       "      <th></th>\n",
       "      <th>school</th>\n",
       "      <th>sex</th>\n",
       "      <th>age</th>\n",
       "      <th>address</th>\n",
       "      <th>famsize</th>\n",
       "      <th>Pstatus</th>\n",
       "      <th>Medu</th>\n",
       "      <th>Fedu</th>\n",
       "      <th>Mjob</th>\n",
       "      <th>Fjob</th>\n",
       "      <th>...</th>\n",
       "      <th>internet</th>\n",
       "      <th>romantic</th>\n",
       "      <th>famrel</th>\n",
       "      <th>freetime</th>\n",
       "      <th>goout</th>\n",
       "      <th>Dalc</th>\n",
       "      <th>Walc</th>\n",
       "      <th>health</th>\n",
       "      <th>absences</th>\n",
       "      <th>passed</th>\n",
       "    </tr>\n",
       "  </thead>\n",
       "  <tbody>\n",
       "    <tr>\n",
       "      <th>0</th>\n",
       "      <td>0.0</td>\n",
       "      <td>1.0</td>\n",
       "      <td>0.059264</td>\n",
       "      <td>0.0</td>\n",
       "      <td>1.0</td>\n",
       "      <td>1.0</td>\n",
       "      <td>1.00</td>\n",
       "      <td>1.00</td>\n",
       "      <td>0.75</td>\n",
       "      <td>0.0</td>\n",
       "      <td>...</td>\n",
       "      <td>0.0</td>\n",
       "      <td>0.0</td>\n",
       "      <td>0.75</td>\n",
       "      <td>0.5</td>\n",
       "      <td>0.75</td>\n",
       "      <td>0.00</td>\n",
       "      <td>0.0</td>\n",
       "      <td>0.5</td>\n",
       "      <td>0.003882</td>\n",
       "      <td>0.0</td>\n",
       "    </tr>\n",
       "    <tr>\n",
       "      <th>1</th>\n",
       "      <td>0.0</td>\n",
       "      <td>1.0</td>\n",
       "      <td>0.013809</td>\n",
       "      <td>0.0</td>\n",
       "      <td>1.0</td>\n",
       "      <td>0.0</td>\n",
       "      <td>0.25</td>\n",
       "      <td>0.25</td>\n",
       "      <td>0.75</td>\n",
       "      <td>1.0</td>\n",
       "      <td>...</td>\n",
       "      <td>1.0</td>\n",
       "      <td>0.0</td>\n",
       "      <td>1.00</td>\n",
       "      <td>0.5</td>\n",
       "      <td>0.50</td>\n",
       "      <td>0.00</td>\n",
       "      <td>0.0</td>\n",
       "      <td>0.5</td>\n",
       "      <td>-0.022785</td>\n",
       "      <td>0.0</td>\n",
       "    </tr>\n",
       "    <tr>\n",
       "      <th>2</th>\n",
       "      <td>0.0</td>\n",
       "      <td>1.0</td>\n",
       "      <td>-0.077100</td>\n",
       "      <td>0.0</td>\n",
       "      <td>0.0</td>\n",
       "      <td>0.0</td>\n",
       "      <td>0.25</td>\n",
       "      <td>0.25</td>\n",
       "      <td>0.75</td>\n",
       "      <td>1.0</td>\n",
       "      <td>...</td>\n",
       "      <td>1.0</td>\n",
       "      <td>0.0</td>\n",
       "      <td>0.75</td>\n",
       "      <td>0.5</td>\n",
       "      <td>0.25</td>\n",
       "      <td>0.25</td>\n",
       "      <td>0.5</td>\n",
       "      <td>0.5</td>\n",
       "      <td>0.057215</td>\n",
       "      <td>1.0</td>\n",
       "    </tr>\n",
       "  </tbody>\n",
       "</table>\n",
       "<p>3 rows × 31 columns</p>\n",
       "</div>"
      ],
      "text/plain": [
       "   school  sex       age  address  famsize  Pstatus  Medu  Fedu  Mjob  Fjob  \\\n",
       "0     0.0  1.0  0.059264      0.0      1.0      1.0  1.00  1.00  0.75   0.0   \n",
       "1     0.0  1.0  0.013809      0.0      1.0      0.0  0.25  0.25  0.75   1.0   \n",
       "2     0.0  1.0 -0.077100      0.0      0.0      0.0  0.25  0.25  0.75   1.0   \n",
       "\n",
       "   ...  internet  romantic  famrel  freetime  goout  Dalc  Walc  health  \\\n",
       "0  ...       0.0       0.0    0.75       0.5   0.75  0.00   0.0     0.5   \n",
       "1  ...       1.0       0.0    1.00       0.5   0.50  0.00   0.0     0.5   \n",
       "2  ...       1.0       0.0    0.75       0.5   0.25  0.25   0.5     0.5   \n",
       "\n",
       "   absences  passed  \n",
       "0  0.003882     0.0  \n",
       "1 -0.022785     0.0  \n",
       "2  0.057215     1.0  \n",
       "\n",
       "[3 rows x 31 columns]"
      ]
     },
     "execution_count": 266,
     "metadata": {},
     "output_type": "execute_result"
    }
   ],
   "source": [
    "feature_scaling(df)\n",
    "\n",
    "# Now we are ready for models training\n",
    "df.iloc[0:3]"
   ]
  },
  {
   "cell_type": "markdown",
   "metadata": {},
   "source": [
    "## Data visualisation <h5 style='color:red;font-family:cursive;font-size:4.5mm'>Réalisé par nabaoui nouhaila et boujida hafssa good lecture:)</h5>"
   ]
  },
  {
   "cell_type": "markdown",
   "metadata": {},
   "source": [
    "## 1) data inspection"
   ]
  },
  {
   "cell_type": "code",
   "execution_count": 285,
   "metadata": {},
   "outputs": [
    {
     "data": {
      "text/plain": [
       "(395, 31)"
      ]
     },
     "execution_count": 285,
     "metadata": {},
     "output_type": "execute_result"
    }
   ],
   "source": [
    "df.shape"
   ]
  },
  {
   "cell_type": "code",
   "execution_count": 286,
   "metadata": {},
   "outputs": [
    {
     "data": {
      "text/plain": [
       "(395, 31)"
      ]
     },
     "execution_count": 286,
     "metadata": {},
     "output_type": "execute_result"
    }
   ],
   "source": [
    "df.dropna().shape # their is no null value \"fortunately:)\""
   ]
  },
  {
   "cell_type": "code",
   "execution_count": 287,
   "metadata": {},
   "outputs": [
    {
     "data": {
      "text/plain": [
       "Index(['school', 'sex', 'age', 'address', 'famsize', 'Pstatus', 'Medu', 'Fedu',\n",
       "       'Mjob', 'Fjob', 'reason', 'guardian', 'traveltime', 'studytime',\n",
       "       'failures', 'schoolsup', 'famsup', 'paid', 'activities', 'nursery',\n",
       "       'higher', 'internet', 'romantic', 'famrel', 'freetime', 'goout', 'Dalc',\n",
       "       'Walc', 'health', 'absences', 'passed'],\n",
       "      dtype='object')"
      ]
     },
     "execution_count": 287,
     "metadata": {},
     "output_type": "execute_result"
    }
   ],
   "source": [
    "df.columns"
   ]
  },
  {
   "cell_type": "markdown",
   "metadata": {},
   "source": [
    "## 2)features visualisation"
   ]
  },
  {
   "cell_type": "markdown",
   "metadata": {},
   "source": [
    "-firstly we are going to look deeper into each features by using multiple methods of visualisation such as distribution plot ,Density...\n",
    "After the visualisation we are going to understand wish features are most impactfull for  student's performances."
   ]
  },
  {
   "cell_type": "markdown",
   "metadata": {},
   "source": [
    "<img src='data:image/jpeg;base64,/9j/4AAQSkZJRgABAQAAAQABAAD/2wCEAAkGBxITEhUSEhIWFhUWFxUVFRcVFRAWFRUVFxYXFhYSFRcYHSggGBolHRUWITEhJS0rLi4uGCAzODMsNygtLisBCgoKDg0OGhAQGy0mHyYtLS0vLS0tLy0tLS0tLS0tLS0tLS0tLS0tLS0tLS0tLS0tLS0tLS0tLS0tLS0tLS0tLf/AABEIALEBHAMBEQACEQEDEQH/xAAbAAEAAgMBAQAAAAAAAAAAAAAABQYBBAcCA//EAEEQAAEDAgMEBwMJCAMAAwAAAAEAAgMEEQUSIQYxQVETImFxgZGhBzKxFCMzQlJicpLBFlSywtHS4fBzgqIVQ4P/xAAbAQEAAgMBAQAAAAAAAAAAAAAABQYBBAcDAv/EADQRAAICAQMDAgQDCAIDAAAAAAABAgMEBRExEiFBE1EGMmFxgZGxFBUWIjNCkqE00SNS4f/aAAwDAQACEQMRAD8A01bTnwQBAEAQBAEAQBAEAQBAEACAIAgCAIAgCAIAgCAIAgCAIAgCAIAgCAIAgCAIAgCAIAgCAIAgCAIAgCAIAgCAIAgCAIAgCAIAgCAIAgCAIAgCAIAgCA9MtxWDDMFZRkwgCAIAgCAIAgCAIAgCAIAgCAIAgCAzm0sgMIAgCAIAQgCAIAgCAIAgCAIAgCAIAgCAzZAYQBAEAQCyAIAgCAIAgCAIAEAQBAEAQBAEAQBAEAQBAEAQBAEAQBAEAQBAEAQAFAEAQBAAgCAyAgMvbZDCZ5QyEAQBAEAQBAEAQBAEAQBAEAQBAeoxqsGHwepGoYiz5rJ9BAAEAIQBAEAQBAEAQBAEAQBAZaUBhAEAQBAEAQBAZIQGEAQBAZBQbBAAsPt3Mpb8F7w3YyHomdO9wlkFwA4CxtmygfWIG9Q1uoyU2o8Flx9FjKrqlvv+hT8VoHQSuifvadDwc3g4d4UrTarIKSIDJodNjgzTXqeAKAIAEBklAYQBAEAQBAAEAcEAQBAEAQBAEAQBAEAQBAEAQBALID05ybGEjysOSR9JN8ElR4BVS+5A8jmRlHm6y8J5VUeWbVeFfZxFk9Rez6d2skjGDkLvd+gWpPUoL5Ub9Wi2P53sT9FsBTN1kc+Q9pDW+TRf1WpZqFsuNkSFWj0R7y3ZS9sMNbBVOYwWYQ1zRyBFviCpPDtdle75ITUaFTc4rg2dh8I6abpHD5uKzjfcX72jw3+AXnn39EeleT30rE9a3qa7IztFjrpKoSRnSI2j7bHrO8fhZVG25ue68HXMDToxxnGa7yJbaumbVUrKyIdZjeuOOT6zT2tdfwup7TcnZ7eGc91/TZRbe3eP6FEsp8p4QBAEAQBAehaywY7nlZMhALIDNkBhAEAQBAEAQBAEAQBAEAsgCANFzYankNT5LDklyfUYuXZErRbN1cvuwPA5vGQf+rLXnl1Q5f5G1XgX2cR/Mn6L2ezHWWVjOxoLz62C1J6nFdoIkKtEm/nlsT1FsFSstnzyH7zi0eTbLUnn2y47G/Xo9Efm7k9RYVBF9HExvc0X8961ZWzl8zJCGPVD5Yo3LLzPY8ueBvIF927XsCA0/wD5aD5R8l6QdP0fS9Hrm6O+XP3X0QFQ9plAXOgkY27nExacSeswfxKT0+1R6k/uQOsUObg1zwZxd4oaNtOw/OSA5iN+vvu/lH+FF5+S5Nstfw7pi7J8Lu/uUZQ+5fdi0bDYoGSGB/uS7r7s9rW7iNO+y28W1xexAa5hepD1EuOfsQu0mFGmncz6h60Z5tPDwOiuWLerK0/K5OQZ2N6FrXjwRS2TSCAIBZALIAgPpDA55sxrnHk1pcfIL4lZGPLPuNc5fKtyYo9kqyTdCWjnIQz0OvotaedTHz+Ru16ZkT8bfcnKP2dyH6WZreYY0u9Tb4LVnqa/tRvV6JJ/PL8jO0mx0NPSvljL3PaWklxHukgO0Atxv4LGPnTstSfB9ZemV00uUeUUYqXK+EACAIAgCABACgCAyxhJsASeQBJ8gvmUlHln1GEpcImKLZesltlgcAeL7MH/AK19FrzzaY+Tcq07Is7qP5k9R+zuU6yzNb2MaXHzNvgtSeppfKjfr0Sb+eRPUWwtIzVzXSH77jbybYLUnn2y87EjVpOPDlbk7SYfDELRxMZ+FrQtWVkpcs3oU1w+VGyvg9dhcICr4tt/QwNa/pHShzXub0EckoLWOLXuLmjK0Agg3I3ICJxH2gztoZa+Oge2FggdG6Z8Y6aOV+Vz2tYSWgAsOu/N2IBiOIVFbiTqKCrfTQxU0dQXRNYZZXSEZbF4IDACN3H0Ao219XUTUr46uW9RhdbEx9QwBrnQT6MnsPdcOqdOQQyb8mMVEGL4cK0WmZ0lM6ZoAjq6eUZYZhydncLt4G3NAder8lg54FmHOCfqkAjN5Ep1OKZhVepJLbuckxzEjUTOlO7cwfZaNw/XxUVbPrk34L9gYqx6VDz5NCy+Ntzbc4rlmWuIIINiNQRvB5ot0zEkpxafDLxXsGIUIkaPnorkgb8wHWb/ANhYjwU/p2V0vfw+TmXxBpbj1RS7ruvsUCysqe5Q2tjCboyk2btHhFRL9HDI7tykDzOi8p5FcOZI968S6fyxZOUewlW/3skY+8658m/1WrPUa1x3N6vR75fN2Juj9nUY+lmc7sY0MHrcrVnqUn8q2N+rRIL53uTlHslRx7oQ483kv/i0WrPLtnyzer07Hh/aTEULWizWho5AAD0Wu5N8m3GEY8I9lYPs+ZqGBwZnbmIJDbjMQN5A3kID44rTdLDJH9tjm+Y0X3VLpmmeN8OuuUfdHDiOatK4KK1s9gsmAgCAWQBAEAQAIDofswnBjljIGZrg4aC+VwtbzB81C6lHaSa8lk0WScGvKLyAownT4VtdHC0vlkZGwb3Pc1rfMoCuD2g0L3mOne+peGvdlp45JAcrS7KH2DLm1hrqSAgIqDbWuqKs0cFA2GRrGyu+WS5XdEXBuYMiBuey+iAr2JbSSOqqynrsUmpGxTFkMVJEBLNE4ZmOa8Nc7NlIvbmgPFTUVtNjVS+kc+Vr4I6v5M8v+eh6rZGx30bK113AW4kdhGTf9kdZDUw4jRsuYulkdGHDKRDUh3UI5ghwKA29hKc1WCTUEmr4vlNG7vYTk+LfJDB4wfZOu6GirI3Npq+GnFLKydvSRyxNJyh/RuvfRrr3vztZATOHbCNdDWNrZellri01D4xkaAwWjZEDewbzN0BYpcEp3MhZJE2UQZeiMrWyOaWgNDwXD3tBrzQFY2/xazRTtPWf1n9jODfE+gWrk2bLZE/omH1zdsuFx9yhFaBa2dcwekjZDGI2gAtadwubgHMeZUtCMduxz/JunK2Tk/JSdvqaNk7SwAFzLuAAAJzEB3f/AEWlkxSaLJodlk6mpPhmrshi3QTgOPUks13Yb9V3gT5FYx7OmR7avhq+nqXK/QuTNjKR0jpHNccxLsuazATqbBttFOLOtUVFM51LSqHNykiYo8Fp4vo4Y2nmGtv5714zvsly2bMMWmHyxX5G/ZeRsGHuA1Og4k6AICNh2ipHzCnZUxOmIJ6Nr2udYak2B0QGlQ7YU0tdLh7S4TxC5zABrtGlwYb6kBzb7t+l7FAVnFtr6uSsqqWllo4DS5LCqLs9Q9zc1mdZoazcL67whkh9r6yb5fTMrX1Qhnpc3QUEshzVLHddrcli9haQbm1ueiAlafCjHU4VU09LPExpqaaWOW75WRyZ3tfK7M6wzAm5J99DB0goDiu0dL0VVMzgHuI/C7rD0KsuLPqqiykZtfp3yX1I5bBqhAEAugCAIAgAQFn9nlXkqw3hIxzPEWcPgfNR+ow3q39iV0e3pv6fdHQdqazoaOplBsWQSuB5EMdY+dlBFsOaez3Em/M4biLmVLZ4oaymdKWyFsj2Z308gcSQ9rszm35nsCGSf2JtTYpidFYNY50dZE0aDK9obJlHIOyjyWG9luOT641TyDGKCrhie5jmT01QWtccjSA+NzyNzc19TyXnVarFuj6lFx5M4ts7iDcTfWUDqdjZqeOKUz9I4h7HnrNYwanKG7yOK9T4JOg2Vf8AKIKypqTLUwsljLmMZFHIyR1wxzNTZtzaxvzQEtQ4HTwzSzxQtZLNbpXtBBfbnw7dOOqAkAEB8qiqjjF3va0c3ODR6r6jFvg+J2RjyyDrts6OP/7M55Rgu9d3qtiGHbLwaNmp48P7t/sfWDHmvpjUuY5kYuWhxGZwGgNhpqdAF4Xw9FtN7m9gSll7dK5OXV1W6WR0j/ecST2cgOwbvBQs5dT3Oj41EaK1BeD4L5Pc6vsxLmpITyYG/l6v6KVqe8EUDUIdGTNfUpW3kl6oj7LGD4n9VpZT/nLLocNsff3ZXVr7ky+503YrF+mhDXHrx2a7mW/Vd6eYUjRZ1RKVquH6Fra4fdHjbvaWej+TNgije6pmEDXSvcxjHuF2l2VpJBsfJbBFFZxrafEmtraKboo6qOjdWQy0he5uWMjOxwkFw62gNv0QyWWpH/yWCniaikDv/wBCwO8w8eiGCt+yeWY01LK2noYabJkfI1xFTK9oLC+wYGtJc3UEnigK02hrqp9XU0VM0yRYhNURVBla0jogIzA2O15A4N3EgajtQyWrEBUVwiqH4PBURSQjqTjoamGYGzmuMo1juNC3gb94weMM9nNU2mox8qbBUU080zC1vTNijlBHydme2YDt01KAnaHZtkoMdVV1FURJFMDI5sbWvhJLTG2ICwudQb7hyXhXkQnJxR6zqlFJsuK9zyOY+0qly1LZOD4x+ZpIPoWqb02e9bj7Mq+tV7WqXuiolSRDhDAQBAEAQBAEBtYXVdFNHJ9h7XHuB19Lryvj1VyR741jrtjL6nWtqcMdV0c1Mx4YZmFmYgkAOtc2G/S6rBeYvdJkSz2dYf0EcPQNa6Mxv6WL5qUyMFuk6RvWudTv4rBknKyhhbIajo2dMWdF0lhnyXvkzb7X1stfKmowZ6VR3kfTDG6E93ovDBi0mz7yH32PvVVkcYvI9rBzc4D4qQhFze0TVnZGtbyexBVu3FGzQPMh+40kfmNgtuGDdLxsaFmq0Q4e/wBiArfaK86RQAdr3En8oA+K24aZ/wCzI+zW3/ZEga3aysk3zFo5MAaPMa+q2oYNMfBH2alkT87fYh5JXON3OLjzcST5lbKhGPCNOVkpcs3sBww1E7Ihu3vPJg949/DxXlkXelW2bGHju+1R8eSxbc4iLtpY9GRgZgN1wOqzwGvj2KnZdvVLY65oOCq4+q19EVNaJZQsg6RsFLelt9l7x52d/MpLHf8AIUvWodOS37opm1MmarmPJ2X8oA/Rad73myx6VDpxY/Uil4kiSOAYmaeZsn1fdeObTv8ALf4L0qs6JbmhqGKsilx8+C2e1DC31eGvFOC+Vjopocl8xc1w1ZbjlcdVKlFlFxezJfZ/ZSkp43GKEtfOwCZ0j3yyuu3VjnvJNhfcNEPkg9l9ia2mZFC7FHdBCbthihibducvyPlddzmm9rC2iA3aH2aYZG7N0BeQ4vaJJJXMYSb9WO+Qa9iAtNJSRxtyxsaxtybMa1oud5sOJ5oD7FDDaR8X1bBve3zC+LJxj8zPqCc/lIASZX3adx07dVB9fRZ1R9yV6OqGzNw4y47mgd5utp6hJ8I1/wBjS5ZzTaXE55ZXMmfmEbnBtmtbYc9BxFlc9PhD0o2R8ooWp22O+Vc3wyIW+RoQBAEAQBAEAQGLIDr2A43F8khklka3qAHM4A3b1Tv1OoVbupkrXFIuWLlQ9CMpPwbdJj0EocYnF4abEgOAvvsCbXWnky/ZvnXdm5jWQyN3W99j51Excb+QULfc7JbklXDpR8xM4aAm3IL5Vs0tkz6cIt7so+3GJte9sLdejN3H71rZR3cf8K2aJiShF2z88FP13LjOSqh45KvdWArougCwAm4L9gcIoaN1Q8fOyAZQd+t+jb/Mf8Kvalk7ye3CLv8AD+mOTiny+fsUuWQucXONy4kk8ydSVXJPfudSrrVcVGPCPKwfZhYBbNisahgbIyV+UEtc3RxvpY7geQW5RbGKaZXtXwrbpxlWtytV02eR7/tPc7zJK1pveTZNY0HXVGD8I+K+D3MLIL/sDi+ZhgcetHqztZy8D6ELfxrN10sqOtYfp2erHh8/cuUk7Wi7nADmSAPVbaTfBASnGK3bIis2to498wceTA5/8IstiGJdLiJp2ajj18yIKs9okY+ihe7teQ0elytqGmzfLNGzW4L5YshKzbyrf7uSMfdaSfNx/RbUNOrXPc0bNYulx2IOrxeol+kmkd2Z3Bv5RotmOPVFdkjQnl3T+aTJPZLEQx5id7shuOx+71sobXcL1K/Vjyic+H8/0rPSlxL9S4N4/wC8FTS87gN170XIKJtRHapf25XeYH9FfdFn1YkfxOd67DpzJfgyKUqQwQBAEAQBAEAQBALBY2M7l+2GjtTk/akcfINH6FU3Xpb5K+xddAhtjN+7LCoInjWr5+jie8/Va4+NtB52Wxi1+pdGP1NfLtVVMp+yOVE8TvP+3XRoR6YpHNZycm2zC+j5CA+tLA6R7WMF3ONgO1eVtsaoucn2R61VStmoR5ZY8E2VlNQ0TtAjb1nG7SHWtZnifQFRlmq0WVv05dyYx9HujcvUj25M7a4t003RtPUiuBbcX/WPhu81Wsizqex1TRcJU1dbXd/oV5apNhAYWTDLNslgEVSyR0jndU2DWkAjS+Y6H/QVs01Rmt2Qmqahbj2RjBfmV+siDJHsDswa5zQeYBtdeEls9kS1FjsrjJ9t0fJfB7BAbGHVjoZGyt3tN+8cWnvF19wn0y3NbLojfU4Mtu1eE/KxFUQEEuABBNhlIuHdhBuD/hT+JqNNK2mzlmq6XdZP+TldmVPFsGlp8vSZbOvYtJOotcG4HNS+Hn1ZW/R4K9mafbi7dfkjlvGgEACAyDy/3tXzKPUul8H1GTi1JF32bxV84fntduW1tNCN/mD5qlaxgwxmnDhl80TUJ5UWrOUTShCfKftpDaRj/tNy+LST/Mrh8PW71Sh7MpPxLVtdGfuiulWIrAQBAEAQBAEAQBAEB0rZaHLSxdoLvzEkehCoOq2KeVJ/U6BpFbhixJVRpJlL2zxnMfk7DoD84eZGoZ4ce3uVt0TT+hetPl8FR1zUet+jDhclVKsZWjCAIC87FYcGxdM5oLnnqniGjTwubqn67mOVvpR4XJcdBw1Gv1ZLu+Cw1MjgwljczhqATlv2X7lBJx8lkik2up9ik442meDLG7JJfrxOBBvfXTgfQr1W5P4M74NQkt4+5BLOxMbhNhuLrKB6ZIRucRfTQkX8llNrg85QjLlHlfJ9hNjO4TYbm/gsjBIM0JlP1Wg8eduPij3NHOUnX/LLp9zoNEZLEyBovbK0XOQci7ifDzXi2irTUd/5X/8ASP2qohLTus27mddvAi3vf+bqS0nI9LIXfZPsRGr43rY77d13Obq9lBMoAgAWASGB1/Qyhx909V/4Tx8LXUfqWJ+00uK5XBJ6Vmfst6k+H2Zf43hwDmkEHUEaghUCdbhJxktmdGrsjZFSi90yK2qpc8BI3sOcd253ob+Cl9FyPSyEnwyH17F9XGbXK7lFKvJz4IAgCAIAgCAIAEBt4XRGaVkQ+sdTyaPePktXMyFRU5s2sPGlfaoI6mxgAAGgAAHYBuXO5ycpOTOkQioxUV4NTGKzoYXycQOr+I6NHmQtnBo9e6MPqauff6FEp/Q5a4k6k3J1Ped5XQ4xUUkjnMpOTbZhfR8hAFh8GTp2BVkcsLDGLBoDS0fVIHu/54rn+o49lN76/Pff3Oh6bkVXUR9Ptt49jfJWhuSGx4bTxG5dDG4ni5jCfULYqv6FttuJSs4UmvsyvY9jkUEvRto4HWaCSWtFib6e7yt5qx6fhxyavUa2/Ar2oa3fjW+nGTfb3ZHftZH+4U/k3+1b37pr9/8ARo/xNk+7/wAmP2tj/cafyb/an7pr9/8ARj+Jsn6/5MftbH+40/k3+1Y/dNfv/oz/ABNk+7/yY/a2P9xp/Jv9qz+6a/f/AEY/ibJ+v+TH7WR/uFP5N/tT901+/wDoz/E2T7v/ACZLbO4tFUvc11HA3K0OFmsN9bfZUbqONHFipJb/AIEnpmr35c3GUmvxZOmKJurImMPNrWtPdoFAW39a222JxOx9pSb+7PTStcM18QqGMie6R1m2IPM3FrDtWziVTnalBbvc1cu2FdTdj7HKgujI5qFkBAEAQFq2MrdHQk7us3zs4fA+JVU+IMVJq5fZlw+G8tvemX3RZntBBBGh0Pcq3XNwkpItNkFOLi+GUjGNnJadgkcWuYTYEHXja4I7FfsTUK70l5aOd52mW4+8v7dyHKkSKMIAgCAIAgCA8ySBtt5JIa0DUucTYNA4kryttjXHeR70UTul0w5OsYPs62niZZgMmX5x1usSdSL/AGRut2Kp6pZbfxx7Fz0zFrx47P5vc2VAbE0ip7e1XVjiHEl57hoPifJWX4eo3crH9ir/ABFfso1/iUwq1lUCGAgF0BJYDipp5c29h0e0cRzHaFH6hhRya9vPgkdOzpYtnV48nSaedsjQ9jg5p1BG5UO6qVc3Ga7l+ptjbBSi+x70A7AsRi5NJH3OSSbZy3F6vpZpJOBccv4Ro30AXQsKn0aIw8pHOc6/1r5T92aa2zTCAIAgCAldmq7oahjj7ruo7uduPgbKN1TH9fHaXK7klpWT6GRGT4fY6UQqE+3J0FM166sZEwvkdZo8yeQHEr2x6J3z6IdzwycmFEHObOd45jD6h9zowe43l2nm5XjT8CGNDb+7yyiahqE8qf0XCIxSJHBAEAQBATGyz2ioBcTo19rcTawB7N6htdmo4rb9yc+H4uWYkvYt7q5vAFc9lkx8HRlRIjMXc6WNzTwByjgDvHqvfTs6UMquUn2T/U1NSwlZi2RS77foUtdTi91ujlMls9gsmAgCAIAgAQGlT462nrYZSwSNhdct5kixc37wvcX4haGVH1F0k5pv/i/nfk7xgmNQVUYlgkD28R9Zp+y9u9p7CoOcHF7SRYoTU1ujampWu37+YWtZjwnyj2jZKJQPaQ2NphYNZLOJPHJuAPj8CpjR6XXFpcFd16yMpR9yklThXQgCAIAsN9u5lLdnUMCpOip42HeG3d+I9Y/Fc+1C71b5SOiabR6WPGLNbayq6Omfbe+zB/23+l17aRR6mTHfx3PDWL3VjS25fY5xdXsoIWQEAQBAEAKw+D6jyjqtHL82wnU5W3tuvYKg5GI/Vlt7nTMVN1R39jXxelZNGWObfQlpP1XWIDgtjAUsexS3PjNw430uL/A5oRbQ8Fdk90mc3nHpk0eVk+AgCAIAgNzB5MszD228xb9VFazV6mHNfQlNGt9PMg/rsXLKFypnVUzw9iJ7dzO+/Yp+KwZJXDgesO4/6V1TRcr9oxYt8rscs1vE/Z8uS8PuailiICAIAgCA+VRMGNLjwF/HgF8yeyPWmHXNIqbiSSTvOp71qLv3JxLZdjaw3EZqd4kgkdG8cWm1+wjc4dhWJ1Rktmj6jZKPDL9hHtcqGANqIGS/fY7o3d5bYgnyWlPBX9rNyGa/JoV+LSVcslU5payR1oWm2jGANtcdt/ElbuFX0RcWyG1axTsTS2NcreIkIAgCAlNmqHpahjSOq3ru7m8PE2CjtUyfQx5Py+xJaVjevkRXhdzpaoDOgrstio7fz6RR/iefCwHxcrR8PV95T/Aq3xHb2jD8SnK0FVCAIAgCAIDKwEdC2Pmz0zb6ljnM113ageRCpesp1ZL24ZfNDuc8ZbvgmXRggjdcEaaHXkoqN0lJPclrF1RcTlVbTGOR8bt7XEd+uh8Rquh41qtrjJcNHNcmp1Wyi/c+C9zXCAIAgCA9NdYgjgQfJeV0OuEo/Q9KZ9E4y9mi+RvuA4cQD5i65BkVuu2UH4Z17HsVlcZLyjJXiexX9pKfqh/2TY9x3evxVv8AhXL2slS/PcqfxVidVUb147MgFeyhhAEAQBAQ+0E+jWDj1j+n6+S17n4JHBr5myGXwl2N8IYCH0XPo8gbHb6NoYbOzAuHvuHe4k6L2qjstyHyrOub9keSvU1ggCAysAvOw9DliMpGshsPwN0Hmb+ip+vZPVaq1wv1LloGL0Uux8v9CyqALEUHbiW9Tl+yxo8Td36hXXQq+nH392UfXrOrJ6fZFeU2QYQBAEAQBAFgyXPYCXqys7Wu8xY/whVb4ir/AJ4TLX8OWfyTh9S2KslnKRt1RZZGzDc8ZXfibu8x/CrdoOT1QdT5XBT/AIgxumxWrhlXViK4EAQBAEBlAW/A5s0LOzq+X+LLl2v0elnTXv3/ADOnaBf6uFD6dvyN9QxNGrXwZ2ubzFvHgtzAyHRkQsXhmrnY6yMadT8opZHArrcJqcU1wcksg4ScX4ML7PgIAgCGUtyqV0+eRzuF7DuGgWo3vJsnK4dEEj4ofQQG3hcOaRo4DU+C+orueV8+mDZZlskKwgCAID7UtOZHtjbvc4NHid68b7VXW5vwe2PU7bFBeWdVpoQxjWN3NAaO4Cy51fY7LHJ+TpNFSrrUF4R9F5HozmW0kuaqmP3rflaG/oug6ZDoxoI55qk+vKmyNW+R4QBAEAQBAEBYthZbVDm/ajPmCD/VQWvV9VCfsye+H7OnIa90X1UwupHbQ0PTQPYPeAzN/E3X11Hit/Tcn0L1LxwyP1PG9fHlHzyjmIXQEc8CyAgCAIAgLHsrJ1Xt5EHzFv0VF+LKdrIWfQvHwpdvXOt+5OKnlwPMg0TcyipY1BllPJ3W8Tv9V034fyvWxEnzHt/0c0+IcT0MttcPv/2R6nSBCAIDUxWfJE48T1R4/wCLrzslsjZxYdViKwFrx4JdmVkwEBN4BDo5/PQeGp/Reta8mjmz4RLFexHBAEAQFm2Fos0rpTuYLD8Tv6C/mq/r2R01qteSw6Bj9drsfgvKp5cw51hc7hqe5fdceqaR8WS6YNnJJ5cznO+05zvMk/qukUR6a4x+hzO+XVZKXu2fNep5BAEAQBAEAQEns1NkqojzdlP/AGBb8SFH6pDrxpIkdLs6MqLOmLn50MJuYaOZ7R0XRVD2jcTnb3O1+Nx4LoGmZHrY6b5XY57qeP6GQ0uH3IxSBHBAEAQBASmzk+Wa32wW+O8fD1Ve+I8f1cRyXK7lg+HMj0stRfDLWubHSAgIPaGnuzNxafQ6H1srP8M5fpX+m/7iufE+J6uOrVzEri6Gc6CAICK2h9xv4j8F4XG/gfMyDXkuCRYWTAQFkwb6Id5+K9q+CLzPnRur1NQIAgCAvWwf0D/+T+VqqHxD/Vj9i4/Dv9GX3LKq8WM+Ff8ARSfgf/CV7Y39aP3PDK/oy+xycbl0mJzNhZMBAEAQBAEAQGzhv00X/Iz+ILWy/wCjL7M2cP8ArR+6OrLnD5OlIyhko23v00f/AB/zOVx+H/6EvuUv4h/rx+xWCp8r4QBAEAQGzhn00f4m/FRurf8AEs+xI6T/AMuH3LsuTs6sjKwZI7E/o5PwuUno/wDza/uaGsf8Kz7FQXWDkwQH/9k=' width=\"500\" >"
   ]
  },
  {
   "cell_type": "markdown",
   "metadata": {},
   "source": [
    "If you are students,parents or teachers and you care about your kids or students academic performances you might want to have attention for next lectures, wi will provides you with  summary of how you can achieve best social,demographic and school conditions to boost their academics potentials."
   ]
  },
  {
   "cell_type": "markdown",
   "metadata": {},
   "source": [
    "a) boxplot:"
   ]
  },
  {
   "cell_type": "code",
   "execution_count": 233,
   "metadata": {},
   "outputs": [
    {
     "data": {
      "text/plain": [
       "0      mother\n",
       "1      father\n",
       "2      mother\n",
       "3      mother\n",
       "4      father\n",
       "        ...  \n",
       "390     other\n",
       "391    mother\n",
       "392     other\n",
       "393    mother\n",
       "394    father\n",
       "Name: guardian, Length: 395, dtype: object"
      ]
     },
     "execution_count": 233,
     "metadata": {},
     "output_type": "execute_result"
    }
   ],
   "source": [
    "df['guardian']"
   ]
  },
  {
   "cell_type": "code",
   "execution_count": 272,
   "metadata": {},
   "outputs": [],
   "source": [
    "# it seems that even people with low number of gout hours failed the exam"
   ]
  },
  {
   "cell_type": "markdown",
   "metadata": {},
   "source": [
    " b) Distribution of categorical features"
   ]
  },
  {
   "cell_type": "markdown",
   "metadata": {},
   "source": [
    "     -for school Distribution"
   ]
  },
  {
   "cell_type": "code",
   "execution_count": 220,
   "metadata": {},
   "outputs": [
    {
     "data": {
      "text/plain": [
       "array(['GP', 'MS'], dtype=object)"
      ]
     },
     "execution_count": 220,
     "metadata": {},
     "output_type": "execute_result"
    }
   ],
   "source": [
    "dfv[\"school\"].unique()"
   ]
  },
  {
   "cell_type": "code",
   "execution_count": 221,
   "metadata": {},
   "outputs": [
    {
     "data": {
      "text/plain": [
       "Text(0.5, 1.0, 'School Distribution')"
      ]
     },
     "execution_count": 221,
     "metadata": {},
     "output_type": "execute_result"
    },
    {
     "data": {
      "image/png": "[encoded data removed]",
      "text/plain": [
       "<Figure size 432x288 with 1 Axes>"
      ]
     },
     "metadata": {
      "needs_background": "light"
     },
     "output_type": "display_data"
    }
   ],
   "source": [
    "f,fx = plt.subplots() \n",
    "figure = sns.countplot(x = 'school', data=dfv, order=['GP','MS'])\n",
    "fx = fx.set(ylabel=\"Count\", xlabel=\"school\")\n",
    "figure.grid(False)\n",
    "plt.title('School Distribution')"
   ]
  },
  {
   "cell_type": "markdown",
   "metadata": {},
   "source": [
    "      -for gender Distribution"
   ]
  },
  {
   "cell_type": "code",
   "execution_count": 222,
   "metadata": {},
   "outputs": [
    {
     "data": {
      "text/plain": [
       "Text(0.5, 1.0, 'Gender Distribution')"
      ]
     },
     "execution_count": 222,
     "metadata": {},
     "output_type": "execute_result"
    },
    {
     "data": {
      "image/png": "[encoded data removed]",
      "text/plain": [
       "<Figure size 432x288 with 1 Axes>"
      ]
     },
     "metadata": {
      "needs_background": "light"
     },
     "output_type": "display_data"
    }
   ],
   "source": [
    "f, fx = plt.subplots()\n",
    "f = sns.countplot(x = 'sex', data=dfv, order=['M','F'])\n",
    "fx = fx.set(ylabel=\"Count\", xlabel=\"gender\")\n",
    "f.grid(False)\n",
    "plt.title('Gender Distribution')"
   ]
  },
  {
   "cell_type": "markdown",
   "metadata": {},
   "source": [
    "     -for Address Distribution"
   ]
  },
  {
   "cell_type": "code",
   "execution_count": 223,
   "metadata": {},
   "outputs": [
    {
     "data": {
      "text/plain": [
       "Text(0.5, 1.0, 'Address Distribution')"
      ]
     },
     "execution_count": 223,
     "metadata": {},
     "output_type": "execute_result"
    },
    {
     "data": {
      "image/png": "[encoded data removed]",
      "text/plain": [
       "<Figure size 432x288 with 1 Axes>"
      ]
     },
     "metadata": {
      "needs_background": "light"
     },
     "output_type": "display_data"
    }
   ],
   "source": [
    "f, fx = plt.subplots()\n",
    "figure = sns.countplot(x = 'address', data=dfv, order=['U','R'])\n",
    "fx = fx.set(ylabel=\"Count\", xlabel=\"address\")\n",
    "figure.grid(False)\n",
    "plt.title('Address Distribution')"
   ]
  },
  {
   "cell_type": "markdown",
   "metadata": {},
   "source": [
    "    -for family Distribution"
   ]
  },
  {
   "cell_type": "code",
   "execution_count": 224,
   "metadata": {},
   "outputs": [
    {
     "data": {
      "text/plain": [
       "array(['GT3', 'LE3'], dtype=object)"
      ]
     },
     "execution_count": 224,
     "metadata": {},
     "output_type": "execute_result"
    }
   ],
   "source": [
    "dfv[\"famsize\"].unique()"
   ]
  },
  {
   "cell_type": "code",
   "execution_count": 225,
   "metadata": {},
   "outputs": [
    {
     "data": {
      "text/plain": [
       "Text(0.5, 1.0, 'Family Distribution')"
      ]
     },
     "execution_count": 225,
     "metadata": {},
     "output_type": "execute_result"
    },
    {
     "data": {
      "image/png": "[encoded data removed]",
      "text/plain": [
       "<Figure size 432x288 with 1 Axes>"
      ]
     },
     "metadata": {
      "needs_background": "light"
     },
     "output_type": "display_data"
    }
   ],
   "source": [
    "f, fx = plt.subplots()\n",
    "figure = sns.countplot(x = 'famsize', data=dfv, order=['GT3','LE3'])\n",
    "fx = fx.set(ylabel=\"Count\", xlabel=\"famsize\")\n",
    "figure.grid(False)\n",
    "plt.title('Family Distribution')"
   ]
  },
  {
   "cell_type": "markdown",
   "metadata": {},
   "source": [
    "          -Parents status Distribution"
   ]
  },
  {
   "cell_type": "code",
   "execution_count": 226,
   "metadata": {},
   "outputs": [
    {
     "data": {
      "text/plain": [
       "Text(0.5, 1.0, 'Parents status Distribution')"
      ]
     },
     "execution_count": 226,
     "metadata": {},
     "output_type": "execute_result"
    },
    {
     "data": {
      "image/png": "[encoded data removed]",
      "text/plain": [
       "<Figure size 432x288 with 1 Axes>"
      ]
     },
     "metadata": {
      "needs_background": "light"
     },
     "output_type": "display_data"
    }
   ],
   "source": [
    "f, fx = plt.subplots()\n",
    "figure = sns.countplot(x = 'Pstatus', data=dfv, order=['A','T'])\n",
    "fx = fx.set(ylabel=\"Count\", xlabel=\"status\")\n",
    "figure.grid(False)\n",
    "plt.title('Parents status Distribution')   "
   ]
  },
  {
   "cell_type": "markdown",
   "metadata": {},
   "source": [
    "     -School Support Distribution"
   ]
  },
  {
   "cell_type": "code",
   "execution_count": 227,
   "metadata": {},
   "outputs": [
    {
     "data": {
      "text/plain": [
       "Text(0.5, 1.0, 'School Support Distribution')"
      ]
     },
     "execution_count": 227,
     "metadata": {},
     "output_type": "execute_result"
    },
    {
     "data": {
      "image/png": "[encoded data removed]",
      "text/plain": [
       "<Figure size 432x288 with 1 Axes>"
      ]
     },
     "metadata": {
      "needs_background": "light"
     },
     "output_type": "display_data"
    }
   ],
   "source": [
    "f, fx = plt.subplots()\n",
    "figure = sns.countplot(x = 'schoolsup', data=dfv, order=['yes','no'])\n",
    "fx = fx.set(ylabel=\"Count\", xlabel=\"School Support\")\n",
    "figure.grid(False)\n",
    "plt.title('School Support Distribution')"
   ]
  },
  {
   "cell_type": "markdown",
   "metadata": {},
   "source": [
    "    -Family Support Distribution"
   ]
  },
  {
   "cell_type": "code",
   "execution_count": 228,
   "metadata": {},
   "outputs": [
    {
     "data": {
      "text/plain": [
       "Text(0.5, 1.0, 'Family Support Distribution')"
      ]
     },
     "execution_count": 228,
     "metadata": {},
     "output_type": "execute_result"
    },
    {
     "data": {
      "image/png": "[encoded data removed]",
      "text/plain": [
       "<Figure size 432x288 with 1 Axes>"
      ]
     },
     "metadata": {
      "needs_background": "light"
     },
     "output_type": "display_data"
    }
   ],
   "source": [
    "f, fx = plt.subplots()\n",
    "figure = sns.countplot(x = 'famsup', data=dfv, order=['yes','no'])\n",
    "fx = fx.set(ylabel=\"Count\", xlabel=\"Family Support\")\n",
    "figure.grid(False)\n",
    "plt.title('Family Support Distribution')"
   ]
  },
  {
   "cell_type": "markdown",
   "metadata": {},
   "source": [
    "    -for extra paid distribution"
   ]
  },
  {
   "cell_type": "code",
   "execution_count": 229,
   "metadata": {},
   "outputs": [
    {
     "data": {
      "text/plain": [
       "Text(0.5, 1.0, 'Extra paid classes Distribution')"
      ]
     },
     "execution_count": 229,
     "metadata": {},
     "output_type": "execute_result"
    },
    {
     "data": {
      "image/png": "[encoded data removed]",
      "text/plain": [
       "<Figure size 432x288 with 1 Axes>"
      ]
     },
     "metadata": {
      "needs_background": "light"
     },
     "output_type": "display_data"
    }
   ],
   "source": [
    "f, fx = plt.subplots()\n",
    "figure = sns.countplot(x = 'paid', data=dfv, order=['yes','no'])\n",
    "fx = fx.set(ylabel=\"Count\", xlabel=\"extra paid classes\")\n",
    "figure.grid(False)\n",
    "plt.title('Extra paid classes Distribution')"
   ]
  },
  {
   "cell_type": "markdown",
   "metadata": {},
   "source": [
    "    - Students who want to take higher education Distribution"
   ]
  },
  {
   "cell_type": "code",
   "execution_count": 230,
   "metadata": {},
   "outputs": [
    {
     "data": {
      "text/plain": [
       "Text(0.5, 1.0, 'Students who want to take higher education Distribution')"
      ]
     },
     "execution_count": 230,
     "metadata": {},
     "output_type": "execute_result"
    },
    {
     "data": {
      "image/png": "[encoded data removed]",
      "text/plain": [
       "<Figure size 432x288 with 1 Axes>"
      ]
     },
     "metadata": {
      "needs_background": "light"
     },
     "output_type": "display_data"
    }
   ],
   "source": [
    "f, fx = plt.subplots()\n",
    "figure = sns.countplot(x = 'higher', data=dfv, order=['yes','no'])\n",
    "fx = fx.set(ylabel=\"Count\", xlabel=\"wants to take higher education\")\n",
    "figure.grid(False)\n",
    "plt.title('Students who want to take higher education Distribution')"
   ]
  },
  {
   "cell_type": "markdown",
   "metadata": {},
   "source": [
    "    -  internet Accessibility at home Distribution"
   ]
  },
  {
   "cell_type": "code",
   "execution_count": 231,
   "metadata": {},
   "outputs": [
    {
     "data": {
      "text/plain": [
       "Text(0.5, 1.0, 'Internet access at home Distribution')"
      ]
     },
     "execution_count": 231,
     "metadata": {},
     "output_type": "execute_result"
    },
    {
     "data": {
      "image/png": "[encoded data removed]",
      "text/plain": [
       "<Figure size 432x288 with 1 Axes>"
      ]
     },
     "metadata": {
      "needs_background": "light"
     },
     "output_type": "display_data"
    }
   ],
   "source": [
    "f, fx = plt.subplots()\n",
    "figure = sns.countplot(x = 'internet', data=dfv, order=['yes','no'])\n",
    "fx = fx.set(ylabel=\"Count\", xlabel=\"Internet access at home\")\n",
    "figure.grid(False)\n",
    "plt.title('Internet access at home Distribution')"
   ]
  },
  {
   "cell_type": "markdown",
   "metadata": {},
   "source": [
    "       -Students with a romantic relationship Distribution"
   ]
  },
  {
   "cell_type": "code",
   "execution_count": 232,
   "metadata": {},
   "outputs": [
    {
     "data": {
      "text/plain": [
       "Text(0.5, 1.0, 'Students with a romantic relationship Distribution')"
      ]
     },
     "execution_count": 232,
     "metadata": {},
     "output_type": "execute_result"
    },
    {
     "data": {
      "image/png": "[encoded data removed]",
      "text/plain": [
       "<Figure size 432x288 with 1 Axes>"
      ]
     },
     "metadata": {
      "needs_background": "light"
     },
     "output_type": "display_data"
    }
   ],
   "source": [
    "f, fx = plt.subplots()\n",
    "figure = sns.countplot(x = 'romantic', data=dfv, order=['yes','no'])\n",
    "fx = fx.set(ylabel=\"Count\", xlabel=\"With a romantic relationship\")\n",
    "figure.grid(False)\n",
    "plt.title('Students with a romantic relationship Distribution')"
   ]
  },
  {
   "cell_type": "markdown",
   "metadata": {},
   "source": [
    " c) Distribution of  features with multiple categoric "
   ]
  },
  {
   "cell_type": "markdown",
   "metadata": {},
   "source": [
    "               - Parent_Education_Distribution"
   ]
  },
  {
   "cell_type": "code",
   "execution_count": 233,
   "metadata": {},
   "outputs": [],
   "source": [
    "#(numeric: 0 - none, 1 - primary education (4th grade), 2 - 5th to 9th grade, 3 - secondary education or 4 - higher education)"
   ]
  },
  {
   "cell_type": "code",
   "execution_count": 234,
   "metadata": {},
   "outputs": [
    {
     "data": {
      "text/plain": [
       "array([4, 1, 3, 2, 0], dtype=int64)"
      ]
     },
     "execution_count": 234,
     "metadata": {},
     "output_type": "execute_result"
    }
   ],
   "source": [
    "dfv[\"Medu\"].unique()"
   ]
  },
  {
   "cell_type": "code",
   "execution_count": 235,
   "metadata": {},
   "outputs": [
    {
     "data": {
      "text/plain": [
       "array([4, 1, 2, 3, 0], dtype=int64)"
      ]
     },
     "execution_count": 235,
     "metadata": {},
     "output_type": "execute_result"
    }
   ],
   "source": [
    "dfv[\"Fedu\"].unique()"
   ]
  },
  {
   "cell_type": "code",
   "execution_count": 236,
   "metadata": {},
   "outputs": [
    {
     "data": {
      "image/png": "[encoded data removed]",
      "text/plain": [
       "<Figure size 432x288 with 1 Axes>"
      ]
     },
     "metadata": {
      "needs_background": "light"
     },
     "output_type": "display_data"
    },
    {
     "data": {
      "image/png": "[encoded data removed]",
      "text/plain": [
       "<Figure size 432x288 with 1 Axes>"
      ]
     },
     "metadata": {
      "needs_background": "light"
     },
     "output_type": "display_data"
    }
   ],
   "source": [
    "f, fx = plt.subplots()\n",
    "figure = sns.countplot(x = 'Medu', data=dfv, order=[0,1,2,3,4])\n",
    "fx = fx.set(ylabel=\"Count\", xlabel=\"Mother Education\")\n",
    "figure.grid(False)\n",
    "plt.title('Parent Education Distribution')\n",
    "   \n",
    "f, fx = plt.subplots()\n",
    "figure = sns.countplot(x = 'Fedu', data=dfv, order=[0,1,2,3,4])\n",
    "fx = fx.set(ylabel=\"Count\", xlabel=\"Father Education\")\n",
    "figure.grid(False)"
   ]
  },
  {
   "cell_type": "code",
   "execution_count": 237,
   "metadata": {},
   "outputs": [],
   "source": [
    "# (nominal: 'teacher', 'health' care related, civil 'services' (e.g. administrative or police), 'at_home' or 'other')"
   ]
  },
  {
   "cell_type": "code",
   "execution_count": 238,
   "metadata": {},
   "outputs": [
    {
     "data": {
      "image/png": "[encoded data removed]",
      "text/plain": [
       "<Figure size 432x288 with 1 Axes>"
      ]
     },
     "metadata": {
      "needs_background": "light"
     },
     "output_type": "display_data"
    },
    {
     "data": {
      "image/png": "[encoded data removed]",
      "text/plain": [
       "<Figure size 432x288 with 1 Axes>"
      ]
     },
     "metadata": {
      "needs_background": "light"
     },
     "output_type": "display_data"
    }
   ],
   "source": [
    "f, fx = plt.subplots()\n",
    "figure = sns.countplot(x = 'Mjob', data=dfv, order=['teacher','health','services','at_home','other'])\n",
    "fx = fx.set(ylabel=\"Count\", xlabel=\"Mother Job\")\n",
    "figure.grid(False)\n",
    "plt.title('Parent Job Distribution')\n",
    "   \n",
    "f, fx = plt.subplots()\n",
    "figure = sns.countplot(x = 'Fjob', data=dfv, order=['teacher','health','services','at_home','other'])\n",
    "fx = fx.set(ylabel=\"Count\", xlabel=\"Father Job\")\n",
    "figure.grid(False)"
   ]
  },
  {
   "cell_type": "markdown",
   "metadata": {},
   "source": [
    "    -travel_time_Distribution"
   ]
  },
  {
   "cell_type": "code",
   "execution_count": 239,
   "metadata": {},
   "outputs": [],
   "source": [
    "# (numeric: 1 - <15 min., 2 - 15 to 30 min., 3 - 30 min. to 1 hour, or 4 - >1 hour) "
   ]
  },
  {
   "cell_type": "code",
   "execution_count": 240,
   "metadata": {},
   "outputs": [
    {
     "data": {
      "text/plain": [
       "Text(0.5, 1.0, 'Travel Time Distribution')"
      ]
     },
     "execution_count": 240,
     "metadata": {},
     "output_type": "execute_result"
    },
    {
     "data": {
      "image/png": "[encoded data removed]",
      "text/plain": [
       "<Figure size 432x288 with 1 Axes>"
      ]
     },
     "metadata": {
      "needs_background": "light"
     },
     "output_type": "display_data"
    }
   ],
   "source": [
    "f, ax = plt.subplots()\n",
    "figure = sns.countplot(x = 'traveltime', data=dfv, order=[1,2,3,4])\n",
    "ax = ax.set(ylabel=\"Count\", xlabel=\"travel time\")\n",
    "figure.grid(False)\n",
    "plt.title('Travel Time Distribution')"
   ]
  },
  {
   "cell_type": "markdown",
   "metadata": {},
   "source": [
    "      -Study Time Distribution"
   ]
  },
  {
   "cell_type": "code",
   "execution_count": 241,
   "metadata": {},
   "outputs": [],
   "source": [
    "# (numeric: 1 - <2 hours, 2 - 2 to 5 hours, 3 - 5 to 10 hours, or 4 - >10 hours)"
   ]
  },
  {
   "cell_type": "code",
   "execution_count": 242,
   "metadata": {},
   "outputs": [
    {
     "data": {
      "text/plain": [
       "Text(0.5, 1.0, 'Study Time Distribution')"
      ]
     },
     "execution_count": 242,
     "metadata": {},
     "output_type": "execute_result"
    },
    {
     "data": {
      "image/png": "[encoded data removed]",
      "text/plain": [
       "<Figure size 432x288 with 1 Axes>"
      ]
     },
     "metadata": {
      "needs_background": "light"
     },
     "output_type": "display_data"
    }
   ],
   "source": [
    "f, ax = plt.subplots()\n",
    "figure = sns.countplot(x = 'studytime', data=dfv, order=[1,2,3,4])\n",
    "ax = ax.set(ylabel=\"Count\", xlabel=\"study time\")\n",
    "figure.grid(False)\n",
    "plt.title('Study Time Distribution')"
   ]
  },
  {
   "cell_type": "markdown",
   "metadata": {},
   "source": [
    "           -failures Distribution"
   ]
  },
  {
   "cell_type": "code",
   "execution_count": 243,
   "metadata": {},
   "outputs": [
    {
     "data": {
      "text/plain": [
       "Text(0.5, 1.0, 'failures Distribution')"
      ]
     },
     "execution_count": 243,
     "metadata": {},
     "output_type": "execute_result"
    },
    {
     "data": {
      "image/png": "[encoded data removed]",
      "text/plain": [
       "<Figure size 432x288 with 1 Axes>"
      ]
     },
     "metadata": {
      "needs_background": "light"
     },
     "output_type": "display_data"
    }
   ],
   "source": [
    "f, ax = plt.subplots()\n",
    "figure = sns.countplot(x = 'failures', data=dfv, order=[0,1,2,3])\n",
    "ax = ax.set(ylabel=\"Count\", xlabel=\"failures\")\n",
    "figure.grid(False)\n",
    "plt.title('failures Distribution')"
   ]
  },
  {
   "cell_type": "markdown",
   "metadata": {},
   "source": [
    "     -family relationship Distribution"
   ]
  },
  {
   "cell_type": "code",
   "execution_count": 244,
   "metadata": {},
   "outputs": [
    {
     "data": {
      "text/plain": [
       "Text(0.5, 1.0, 'family relationship Distribution')"
      ]
     },
     "execution_count": 244,
     "metadata": {},
     "output_type": "execute_result"
    },
    {
     "data": {
      "image/png": "[encoded data removed]",
      "text/plain": [
       "<Figure size 432x288 with 1 Axes>"
      ]
     },
     "metadata": {
      "needs_background": "light"
     },
     "output_type": "display_data"
    }
   ],
   "source": [
    "f, ax = plt.subplots()\n",
    "figure = sns.countplot(x = 'famrel', data=dfv, order=[1,2,3,4,5])\n",
    "ax = ax.set(ylabel=\"Count\", xlabel=\"family relationship\")\n",
    "figure.grid(False)\n",
    "plt.title('family relationship Distribution')"
   ]
  },
  {
   "cell_type": "markdown",
   "metadata": {},
   "source": [
    "     -Free time Distribution"
   ]
  },
  {
   "cell_type": "code",
   "execution_count": 245,
   "metadata": {},
   "outputs": [
    {
     "data": {
      "text/plain": [
       "Text(0.5, 1.0, 'Free time Distribution')"
      ]
     },
     "execution_count": 245,
     "metadata": {},
     "output_type": "execute_result"
    },
    {
     "data": {
      "image/png": "[encoded data removed]",
      "text/plain": [
       "<Figure size 432x288 with 1 Axes>"
      ]
     },
     "metadata": {
      "needs_background": "light"
     },
     "output_type": "display_data"
    }
   ],
   "source": [
    "f, ax = plt.subplots()\n",
    "figure = sns.countplot(x = 'freetime', data=dfv, order=[1,2,3,4,5])\n",
    "ax = ax.set(ylabel=\"Count\", xlabel=\"Freetime\")\n",
    "figure.grid(False)\n",
    "plt.title('Free time Distribution')"
   ]
  },
  {
   "cell_type": "markdown",
   "metadata": {},
   "source": [
    "     -Going Out Distribution\n",
    "     "
   ]
  },
  {
   "cell_type": "code",
   "execution_count": 246,
   "metadata": {},
   "outputs": [
    {
     "data": {
      "text/plain": [
       "Text(0.5, 1.0, 'Going Out Distribution')"
      ]
     },
     "execution_count": 246,
     "metadata": {},
     "output_type": "execute_result"
    },
    {
     "data": {
      "image/png": "[encoded data removed]",
      "text/plain": [
       "<Figure size 432x288 with 1 Axes>"
      ]
     },
     "metadata": {
      "needs_background": "light"
     },
     "output_type": "display_data"
    }
   ],
   "source": [
    "f, ax = plt.subplots()\n",
    "figure = sns.countplot(x = 'goout', data=dfv, order=[1,2,3,4,5])\n",
    "ax = ax.set(ylabel=\"Count\", xlabel=\"Going Out\")\n",
    "figure.grid(False)\n",
    "plt.title('Going Out Distribution')"
   ]
  },
  {
   "cell_type": "markdown",
   "metadata": {},
   "source": [
    "    -alcohol consumption Distribution"
   ]
  },
  {
   "cell_type": "code",
   "execution_count": 247,
   "metadata": {},
   "outputs": [
    {
     "data": {
      "text/plain": [
       "Text(0.5, 1.0, 'Weekend alcohol consumption Distribution')"
      ]
     },
     "execution_count": 247,
     "metadata": {},
     "output_type": "execute_result"
    },
    {
     "data": {
      "image/png": "[encoded data removed]",
      "text/plain": [
       "<Figure size 432x288 with 1 Axes>"
      ]
     },
     "metadata": {
      "needs_background": "light"
     },
     "output_type": "display_data"
    },
    {
     "data": {
      "image/png": "[encoded data removed]",
      "text/plain": [
       "<Figure size 432x288 with 1 Axes>"
      ]
     },
     "metadata": {
      "needs_background": "light"
     },
     "output_type": "display_data"
    }
   ],
   "source": [
    "f, ax = plt.subplots()\n",
    "figure = sns.countplot(x = 'Dalc', data=dfv, order=[1,2,3,4,5])\n",
    "ax = ax.set(ylabel=\"Count\", xlabel=\"Working\")\n",
    "figure.grid(False)\n",
    "plt.title('Working day alcohol consumption Distribution')\n",
    "\n",
    "f, ax = plt.subplots()\n",
    "figure = sns.countplot(x = 'Walc', data=dfv, order=[1,2,3,4,5])\n",
    "ax = ax.set(ylabel=\"Count\", xlabel=\"Weekends\")\n",
    "figure.grid(False)\n",
    "plt.title('Weekend alcohol consumption Distribution')"
   ]
  },
  {
   "cell_type": "markdown",
   "metadata": {},
   "source": [
    "    -distribution of student status"
   ]
  },
  {
   "cell_type": "code",
   "execution_count": 248,
   "metadata": {},
   "outputs": [
    {
     "data": {
      "text/plain": [
       "yes    265\n",
       "no     130\n",
       "Name: passed, dtype: int64"
      ]
     },
     "execution_count": 248,
     "metadata": {},
     "output_type": "execute_result"
    }
   ],
   "source": [
    "dfv['passed'].value_counts()"
   ]
  },
  {
   "cell_type": "code",
   "execution_count": 249,
   "metadata": {},
   "outputs": [
    {
     "data": {
      "image/png": "[encoded data removed]",
      "text/plain": [
       "<Figure size 432x288 with 1 Axes>"
      ]
     },
     "metadata": {},
     "output_type": "display_data"
    }
   ],
   "source": [
    "labels = 'student pass the final exam ', 'student fail the final exam'\n",
    "sizes = [265, 130]\n",
    "colors=['lightskyblue','yellow']\n",
    "fig1, ax1 = plt.subplots()\n",
    "ax1.pie(sizes,  labels=labels, autopct='%1.1f%%',colors=colors,\n",
    "        shadow=True, startangle=90)\n",
    "ax1.axis('equal')  # Equal aspect ratio ensures that pie is drawn as a circle.\n",
    "plt.show()"
   ]
  },
  {
   "cell_type": "markdown",
   "metadata": {},
   "source": [
    "   d) Now leats look at the most impactufull features for student failure\n",
    "    "
   ]
  },
  {
   "cell_type": "markdown",
   "metadata": {},
   "source": [
    "                 1-using correlation \n",
    "                 "
   ]
  },
  {
   "cell_type": "code",
   "execution_count": 274,
   "metadata": {},
   "outputs": [
    {
     "data": {
      "image/png": "[encoded data removed]",
      "text/plain": [
       "<Figure size 576x864 with 2 Axes>"
      ]
     },
     "metadata": {
      "needs_background": "light"
     },
     "output_type": "display_data"
    }
   ],
   "source": [
    "# visualise correlation between student status and other features\n",
    "plt.figure(figsize=(8, 12))\n",
    "heatmap = sns.heatmap(df.corr()[['passed']].sort_values(by='passed', ascending=False), vmin=-1, vmax=1, annot=True, cmap='BrBG')\n",
    "heatmap.set_title('Features Correlating with the status of student', fontdict={'fontsize':18}, pad=16);\n"
   ]
  },
  {
   "cell_type": "markdown",
   "metadata": {},
   "source": [
    "it seems that most impactefull elements for student status are :\n",
    "\n",
    "    _ for negatif impact we had:\n",
    "    \n",
    "        -failures\n",
    "        -goout\n",
    "        -age\n",
    "        \n",
    "    _ for positif impact\n",
    "    \n",
    "       -heigher\n",
    "        -Medu\n",
    "        -Fedu"
   ]
  },
  {
   "cell_type": "code",
   "execution_count": null,
   "metadata": {},
   "outputs": [],
   "source": []
  },
  {
   "cell_type": "code",
   "execution_count": null,
   "metadata": {},
   "outputs": [],
   "source": []
  },
  {
   "cell_type": "code",
   "execution_count": null,
   "metadata": {},
   "outputs": [],
   "source": []
  },
  {
   "cell_type": "code",
   "execution_count": null,
   "metadata": {},
   "outputs": [],
   "source": []
  },
  {
   "cell_type": "code",
   "execution_count": null,
   "metadata": {},
   "outputs": [],
   "source": []
  },
  {
   "cell_type": "code",
   "execution_count": null,
   "metadata": {},
   "outputs": [],
   "source": []
  },
  {
   "cell_type": "code",
   "execution_count": null,
   "metadata": {},
   "outputs": [],
   "source": []
  },
  {
   "cell_type": "markdown",
   "metadata": {},
   "source": [
    "# Logistic regression"
   ]
  },
  {
   "cell_type": "markdown",
   "metadata": {},
   "source": [
    "# 1-Logistic Regression implementation"
   ]
  },
  {
   "cell_type": "code",
   "execution_count": 252,
   "metadata": {},
   "outputs": [],
   "source": [
    "#réalisé par : Boujida Hafssa :)"
   ]
  },
  {
   "cell_type": "code",
   "execution_count": 253,
   "metadata": {},
   "outputs": [],
   "source": [
    "#now we are going to plot a scatterplot just to see the data distribution\n",
    "\n",
    "#à revoir!"
   ]
  },
  {
   "cell_type": "code",
   "execution_count": 254,
   "metadata": {},
   "outputs": [],
   "source": [
    "# split data train 70 % and test 30 %\n",
    "\n",
    "data = df.to_numpy()\n",
    "n = data.shape[1]\n",
    "x = data[:,0:n-1]\n",
    "y = data[:,n-1]\n",
    "x_train,x_test,y_train,y_test = train_test_split(x,y,test_size=0.3,random_state=0)\n",
    "\n",
    "# Once our data is split, we can forget about x_test and y_test until we define our model.\n",
    "#x_train and y_train are the samples we will use to train the model"
   ]
  },
  {
   "cell_type": "code",
   "execution_count": 257,
   "metadata": {},
   "outputs": [],
   "source": [
    "# let's create a model and train it \n",
    "\n",
    "#let's create an object of this class\n",
    "logisticRegr = LogisticRegression(C=1)"
   ]
  },
  {
   "cell_type": "code",
   "execution_count": 258,
   "metadata": {},
   "outputs": [
    {
     "data": {
      "text/plain": [
       "LogisticRegression(C=1)"
      ]
     },
     "execution_count": 258,
     "metadata": {},
     "output_type": "execute_result"
    }
   ],
   "source": [
    "#and now let's do the training\n",
    "\n",
    "logisticRegr.fit(x_train,y_train)"
   ]
  },
  {
   "cell_type": "code",
   "execution_count": 259,
   "metadata": {},
   "outputs": [],
   "source": [
    "#The model is now trained and ready to make predictions :) "
   ]
  },
  {
   "cell_type": "code",
   "execution_count": 260,
   "metadata": {},
   "outputs": [
    {
     "data": {
      "text/plain": [
       "array([1., 1., 1., 1., 1., 1., 1., 1., 1., 1., 1., 1., 1., 1., 1., 1., 0.,\n",
       "       1., 1., 1., 1., 0., 1., 1., 1., 1., 1., 1., 1., 1., 0., 0., 1., 0.,\n",
       "       1., 0., 1., 1., 1., 1., 1., 1., 0., 0., 1., 0., 1., 1., 1., 0., 1.,\n",
       "       1., 1., 1., 1., 1., 1., 1., 1., 1., 1., 1., 1., 1., 1., 1., 1., 0.,\n",
       "       1., 1., 1., 1., 1., 1., 1., 1., 1., 1., 0., 1., 1., 1., 1., 1., 1.,\n",
       "       1., 1., 1., 1., 1., 1., 1., 1., 1., 1., 1., 1., 1., 0., 1., 1., 1.,\n",
       "       1., 0., 1., 1., 1., 1., 0., 0., 1., 1., 1., 1., 0., 1., 1., 1., 1.])"
      ]
     },
     "execution_count": 260,
     "metadata": {},
     "output_type": "execute_result"
    }
   ],
   "source": [
    "y_pred=logisticRegr.predict(x_test)\n",
    "y_pred"
   ]
  },
  {
   "cell_type": "markdown",
   "metadata": {},
   "source": [
    "# 2- Plotting the decision boundary "
   ]
  },
  {
   "cell_type": "code",
   "execution_count": null,
   "metadata": {},
   "outputs": [],
   "source": []
  },
  {
   "cell_type": "markdown",
   "metadata": {},
   "source": [
    "# 3-Model evaluation"
   ]
  },
  {
   "cell_type": "markdown",
   "metadata": {},
   "source": [
    "In order to evaluate our model , we will first calculate the accuracy of the model , visualize the confusion matrix, and then plot the ROC curve."
   ]
  },
  {
   "cell_type": "code",
   "execution_count": 261,
   "metadata": {},
   "outputs": [
    {
     "name": "stdout",
     "output_type": "stream",
     "text": [
      "Accuracy test is:  0.6386554621848739\n",
      "Accuracy train is:  0.7463768115942029\n"
     ]
    }
   ],
   "source": [
    "#let's have a look at the accuracy of the model\n",
    "\n",
    "Sctest=logisticRegr.score(x_test,y_test)\n",
    "Sctrain=logisticRegr.score(x_train,y_train)\n",
    "\n",
    "print('Accuracy test is: ',Sctest)\n",
    "print('Accuracy train is: ',Sctrain)"
   ]
  },
  {
   "cell_type": "markdown",
   "metadata": {},
   "source": [
    "We got two values of the accuracy, one obtained with the training set and other with the test set.\n",
    "\n",
    "Sctest accuracy= 0.6302521008403361\n",
    "\n",
    "Sctrain accuracy= 0.7427536231884058\n",
    "\n",
    "It might be a good idea to compare the two, as a situation where the training set accuracy is much higher might indicate overfitting. The test set accuracy is more relevant for evaluating the performance on unseen data since it’s not biased."
   ]
  },
  {
   "cell_type": "code",
   "execution_count": 262,
   "metadata": {},
   "outputs": [
    {
     "data": {
      "text/plain": [
       "array([[12, 38],\n",
       "       [ 5, 64]], dtype=int64)"
      ]
     },
     "execution_count": 262,
     "metadata": {},
     "output_type": "execute_result"
    }
   ],
   "source": [
    "#now, we can get the confusion matrix with confusion_matrix():\n",
    "\n",
    "confusion_matrix(y_test, y_pred)"
   ]
  },
  {
   "cell_type": "code",
   "execution_count": 263,
   "metadata": {},
   "outputs": [
    {
     "data": {
      "text/plain": [
       "<matplotlib.axes._subplots.AxesSubplot at 0x19b61ba08b0>"
      ]
     },
     "execution_count": 263,
     "metadata": {},
     "output_type": "execute_result"
    },
    {
     "data": {
      "image/png": "[encoded data removed]",
      "text/plain": [
       "<Figure size 432x288 with 2 Axes>"
      ]
     },
     "metadata": {
      "needs_background": "light"
     },
     "output_type": "display_data"
    }
   ],
   "source": [
    "#let's visualize the confusion matrix:\n",
    "cm = confusion_matrix(y_test, y_pred)\n",
    "sns.heatmap(cm,annot=True)"
   ]
  },
  {
   "cell_type": "markdown",
   "metadata": {},
   "source": [
    "We can now get the report on classification as a string or dictionary with classification_report():"
   ]
  },
  {
   "cell_type": "code",
   "execution_count": 264,
   "metadata": {},
   "outputs": [
    {
     "name": "stdout",
     "output_type": "stream",
     "text": [
      "              precision    recall  f1-score   support\n",
      "\n",
      "         0.0       0.71      0.24      0.36        50\n",
      "         1.0       0.63      0.93      0.75        69\n",
      "\n",
      "    accuracy                           0.64       119\n",
      "   macro avg       0.67      0.58      0.55       119\n",
      "weighted avg       0.66      0.64      0.58       119\n",
      "\n"
     ]
    }
   ],
   "source": [
    "#import classification_report\n",
    "print(classification_report(y_test, y_pred))"
   ]
  },
  {
   "cell_type": "markdown",
   "metadata": {},
   "source": [
    "ROC CURVE"
   ]
  },
  {
   "cell_type": "code",
   "execution_count": 265,
   "metadata": {
    "scrolled": true
   },
   "outputs": [
    {
     "data": {
      "image/png": "[encoded data removed]",
      "text/plain": [
       "<Figure size 432x288 with 1 Axes>"
      ]
     },
     "metadata": {
      "needs_background": "light"
     },
     "output_type": "display_data"
    }
   ],
   "source": [
    "#ploting the roc_curve\n",
    "\n",
    "fpositif, tpositif, thresholds = roc_curve(y_test, y_pred)\n",
    "plt.plot([0,1],[0,1],'--')\n",
    "plt.plot(fpositif,tpositif, label='LogisticRegr')\n",
    "plt.xlabel('false positif')\n",
    "plt.ylabel('true positif')\n",
    "plt.title('LogisticRegr ROC curve')\n",
    "p=plt.show()"
   ]
  },
  {
   "cell_type": "code",
   "execution_count": 266,
   "metadata": {},
   "outputs": [],
   "source": [
    "#we still need to improve our model in order to be more accurate!"
   ]
  },
  {
   "cell_type": "markdown",
   "metadata": {},
   "source": [
    "# 4-improving model accuracy"
   ]
  },
  {
   "cell_type": "code",
   "execution_count": null,
   "metadata": {},
   "outputs": [],
   "source": []
  },
  {
   "cell_type": "code",
   "execution_count": null,
   "metadata": {},
   "outputs": [],
   "source": []
  },
  {
   "cell_type": "code",
   "execution_count": null,
   "metadata": {},
   "outputs": [],
   "source": []
  },
  {
   "cell_type": "code",
   "execution_count": null,
   "metadata": {},
   "outputs": [],
   "source": []
  },
  {
   "cell_type": "markdown",
   "metadata": {},
   "source": [
    "# k-nearest neighbors"
   ]
  },
  {
   "cell_type": "code",
   "execution_count": 191,
   "metadata": {},
   "outputs": [],
   "source": [
    "# Réalisée par el nabaoui nouhaila"
   ]
  },
  {
   "cell_type": "markdown",
   "metadata": {},
   "source": [
    "In this section we will discuss how to implement knn and how to get best accuracy using hyperparametters tuning (good lecture:)"
   ]
  },
  {
   "cell_type": "code",
   "execution_count": 192,
   "metadata": {},
   "outputs": [],
   "source": [
    "#define data\n",
    "y=df.passed\n",
    "target=[\"passed\"]\n",
    "X = df.drop(target,axis = 1 )"
   ]
  },
  {
   "cell_type": "markdown",
   "metadata": {},
   "source": [
    "### A)**Hyperparameter Tuning**\n",
    "\n"
   ]
  },
  {
   "cell_type": "markdown",
   "metadata": {},
   "source": [
    "Before appling the knn algorithme it could be better to choose an optimal value of k,but what is the best method to tun this value ?\n",
    "Actually There is no straightforward method to calculate the value of K in KNN. We have to play around with different values to choose the optimal value of K. "
   ]
  },
  {
   "cell_type": "code",
   "execution_count": 193,
   "metadata": {},
   "outputs": [
    {
     "data": {
      "image/png": "[encoded data removed]",
      "text/plain": [
       "<Figure size 432x288 with 1 Axes>"
      ]
     },
     "metadata": {
      "needs_background": "light"
     },
     "output_type": "display_data"
    }
   ],
   "source": [
    "#spliting the data\n",
    "X_train,X_test,y_train,y_test = train_test_split(X,y,test_size=0.2,random_state=0, stratify=y)\n",
    "#Setup arrays to store training and test accuracies\n",
    "neighbors= np.arange(1,20)\n",
    "train_accuracy =np.empty(19)\n",
    "test_accuracy = np.empty(19)\n",
    "\n",
    "for i,k in enumerate(neighbors):\n",
    "    #Setup a knn classifier with k neighbors\n",
    "    knn = KNeighborsClassifier(n_neighbors=k)\n",
    "    \n",
    "    #Fit the model\n",
    "    knn.fit(X_train, y_train)\n",
    "    \n",
    "    #Compute accuracy on the training set\n",
    "    train_accuracy[i] = knn.score(X_train, y_train)\n",
    "    \n",
    "    #Compute accuracy on the test set\n",
    "    test_accuracy[i] = knn.score(X_test, y_test) \n",
    "    \n",
    "#  Plotting the curv\n",
    "plt.title('k-NN Varying number of neighbors')\n",
    "plt.plot(neighbors, test_accuracy, label='Testing Accuracy')\n",
    "plt.plot(neighbors, train_accuracy, label='Training accuracy')\n",
    "plt.legend()\n",
    "plt.xlabel('Number of neighbors')\n",
    "plt.ylabel('Accuracy')\n",
    "plt.show() \n"
   ]
  },
  {
   "cell_type": "markdown",
   "metadata": {},
   "source": [
    "In our case study we had a binary classification sow it could be better to choose an odd value of K.\n",
    "By looking into the curv we might see that k=13 could be good choise .\n"
   ]
  },
  {
   "cell_type": "markdown",
   "metadata": {},
   "source": [
    "**we are going to search for Best parameters(K,metric)  based on time,acc using validation data**\n"
   ]
  },
  {
   "cell_type": "code",
   "execution_count": 194,
   "metadata": {},
   "outputs": [
    {
     "name": "stdout",
     "output_type": "stream",
     "text": [
      "Model_0 metric: euclidean, n_neighbors: 1\n",
      "Time:  0.01300811767578125\n",
      "Acc:  0.6075949367088608\n",
      "Model_1 metric: euclidean, n_neighbors: 2\n",
      "Time:  0.014509201049804688\n",
      "Acc:  0.4936708860759494\n",
      "Model_2 metric: euclidean, n_neighbors: 3\n",
      "Time:  0.011007547378540039\n",
      "Acc:  0.6835443037974683\n",
      "Model_3 metric: euclidean, n_neighbors: 4\n",
      "Time:  0.011005878448486328\n",
      "Acc:  0.6455696202531646\n",
      "Model_4 metric: euclidean, n_neighbors: 5\n",
      "Time:  0.011507034301757812\n",
      "Acc:  0.6455696202531646\n",
      "Model_5 metric: euclidean, n_neighbors: 6\n",
      "Time:  0.01501011848449707\n",
      "Acc:  0.6329113924050633\n",
      "Model_6 metric: euclidean, n_neighbors: 7\n",
      "Time:  0.023015260696411133\n",
      "Acc:  0.6329113924050633\n",
      "Model_7 metric: euclidean, n_neighbors: 8\n",
      "Time:  0.014008522033691406\n",
      "Acc:  0.6582278481012658\n",
      "Model_8 metric: euclidean, n_neighbors: 9\n",
      "Time:  0.01100611686706543\n",
      "Acc:  0.6455696202531646\n",
      "Model_9 metric: euclidean, n_neighbors: 10\n",
      "Time:  0.014008045196533203\n",
      "Acc:  0.6582278481012658\n",
      "Model_10 metric: euclidean, n_neighbors: 11\n",
      "Time:  0.012509346008300781\n",
      "Acc:  0.6455696202531646\n",
      "Model_11 metric: euclidean, n_neighbors: 12\n",
      "Time:  0.012508630752563477\n",
      "Acc:  0.6708860759493671\n",
      "Model_12 metric: euclidean, n_neighbors: 13\n",
      "Time:  0.012507915496826172\n",
      "Acc:  0.6835443037974683\n",
      "Model_13 metric: euclidean, n_neighbors: 14\n",
      "Time:  0.015509605407714844\n",
      "Acc:  0.6708860759493671\n",
      "Model_14 metric: euclidean, n_neighbors: 15\n",
      "Time:  0.016510725021362305\n",
      "Acc:  0.6708860759493671\n",
      "Model_15 metric: euclidean, n_neighbors: 16\n",
      "Time:  0.012508630752563477\n",
      "Acc:  0.6455696202531646\n",
      "Model_16 metric: euclidean, n_neighbors: 17\n",
      "Time:  0.017010211944580078\n",
      "Acc:  0.6582278481012658\n",
      "Model_17 metric: euclidean, n_neighbors: 18\n",
      "Time:  0.01250910758972168\n",
      "Acc:  0.6329113924050633\n",
      "Model_18 metric: euclidean, n_neighbors: 19\n",
      "Time:  0.012507438659667969\n",
      "Acc:  0.6329113924050633\n",
      "Model_19 metric: euclidean, n_neighbors: 20\n",
      "Time:  0.012008190155029297\n",
      "Acc:  0.6075949367088608\n",
      "Model_20 metric: euclidean, n_neighbors: 21\n",
      "Time:  0.014513254165649414\n",
      "Acc:  0.6455696202531646\n",
      "Model_21 metric: euclidean, n_neighbors: 22\n",
      "Time:  0.014009475708007812\n",
      "Acc:  0.6455696202531646\n",
      "Model_22 metric: euclidean, n_neighbors: 23\n",
      "Time:  0.014008522033691406\n",
      "Acc:  0.6708860759493671\n",
      "Model_23 metric: euclidean, n_neighbors: 24\n",
      "Time:  0.012008428573608398\n",
      "Acc:  0.6455696202531646\n",
      "Model_24 metric: euclidean, n_neighbors: 25\n",
      "Time:  0.0120086669921875\n",
      "Acc:  0.6582278481012658\n",
      "Model_25 metric: euclidean, n_neighbors: 26\n",
      "Time:  0.014008522033691406\n",
      "Acc:  0.6582278481012658\n",
      "Model_26 metric: euclidean, n_neighbors: 27\n",
      "Time:  0.011507034301757812\n",
      "Acc:  0.6708860759493671\n",
      "Model_27 metric: euclidean, n_neighbors: 28\n",
      "Time:  0.015509605407714844\n",
      "Acc:  0.6708860759493671\n",
      "Model_28 metric: euclidean, n_neighbors: 29\n",
      "Time:  0.013007879257202148\n",
      "Acc:  0.6708860759493671\n",
      "Model_29 metric: manhattan, n_neighbors: 1\n",
      "Time:  0.013009786605834961\n",
      "Acc:  0.6075949367088608\n",
      "Model_30 metric: manhattan, n_neighbors: 2\n",
      "Time:  0.012507438659667969\n",
      "Acc:  0.5316455696202531\n",
      "Model_31 metric: manhattan, n_neighbors: 3\n",
      "Time:  0.01601123809814453\n",
      "Acc:  0.620253164556962\n",
      "Model_32 metric: manhattan, n_neighbors: 4\n",
      "Time:  0.016009092330932617\n",
      "Acc:  0.6582278481012658\n",
      "Model_33 metric: manhattan, n_neighbors: 5\n",
      "Time:  0.012506723403930664\n",
      "Acc:  0.6582278481012658\n",
      "Model_34 metric: manhattan, n_neighbors: 6\n",
      "Time:  0.01300811767578125\n",
      "Acc:  0.6455696202531646\n",
      "Model_35 metric: manhattan, n_neighbors: 7\n",
      "Time:  0.01250910758972168\n",
      "Acc:  0.6455696202531646\n",
      "Model_36 metric: manhattan, n_neighbors: 8\n",
      "Time:  0.011507272720336914\n",
      "Acc:  0.6835443037974683\n",
      "Model_37 metric: manhattan, n_neighbors: 9\n",
      "Time:  0.014008522033691406\n",
      "Acc:  0.6582278481012658\n",
      "Model_38 metric: manhattan, n_neighbors: 10\n",
      "Time:  0.016010761260986328\n",
      "Acc:  0.6708860759493671\n",
      "Model_39 metric: manhattan, n_neighbors: 11\n",
      "Time:  0.0120086669921875\n",
      "Acc:  0.6708860759493671\n",
      "Model_40 metric: manhattan, n_neighbors: 12\n",
      "Time:  0.014009714126586914\n",
      "Acc:  0.6708860759493671\n",
      "Model_41 metric: manhattan, n_neighbors: 13\n",
      "Time:  0.015009641647338867\n",
      "Acc:  0.6582278481012658\n",
      "Model_42 metric: manhattan, n_neighbors: 14\n",
      "Time:  0.01350855827331543\n",
      "Acc:  0.6708860759493671\n",
      "Model_43 metric: manhattan, n_neighbors: 15\n",
      "Time:  0.016510963439941406\n",
      "Acc:  0.6329113924050633\n",
      "Model_44 metric: manhattan, n_neighbors: 16\n",
      "Time:  0.012007951736450195\n",
      "Acc:  0.620253164556962\n",
      "Model_45 metric: manhattan, n_neighbors: 17\n",
      "Time:  0.01350855827331543\n",
      "Acc:  0.6329113924050633\n",
      "Model_46 metric: manhattan, n_neighbors: 18\n",
      "Time:  0.012008190155029297\n",
      "Acc:  0.6329113924050633\n",
      "Model_47 metric: manhattan, n_neighbors: 19\n",
      "Time:  0.011507987976074219\n",
      "Acc:  0.6582278481012658\n",
      "Model_48 metric: manhattan, n_neighbors: 20\n",
      "Time:  0.012007951736450195\n",
      "Acc:  0.620253164556962\n",
      "Model_49 metric: manhattan, n_neighbors: 21\n",
      "Time:  0.017511367797851562\n",
      "Acc:  0.6708860759493671\n",
      "Model_50 metric: manhattan, n_neighbors: 22\n",
      "Time:  0.012506961822509766\n",
      "Acc:  0.6708860759493671\n",
      "Model_51 metric: manhattan, n_neighbors: 23\n",
      "Time:  0.012006282806396484\n",
      "Acc:  0.6708860759493671\n",
      "Model_52 metric: manhattan, n_neighbors: 24\n",
      "Time:  0.011007070541381836\n",
      "Acc:  0.6708860759493671\n",
      "Model_53 metric: manhattan, n_neighbors: 25\n",
      "Time:  0.013056278228759766\n",
      "Acc:  0.6582278481012658\n",
      "Model_54 metric: manhattan, n_neighbors: 26\n",
      "Time:  0.011507272720336914\n",
      "Acc:  0.6582278481012658\n",
      "Model_55 metric: manhattan, n_neighbors: 27\n",
      "Time:  0.017011404037475586\n",
      "Acc:  0.6582278481012658\n",
      "Model_56 metric: manhattan, n_neighbors: 28\n",
      "Time:  0.01250767707824707\n",
      "Acc:  0.6582278481012658\n",
      "Model_57 metric: manhattan, n_neighbors: 29\n",
      "Time:  0.011827230453491211\n",
      "Acc:  0.6582278481012658\n",
      "Model_58 metric: chebyshev, n_neighbors: 1\n",
      "Time:  0.01100778579711914\n",
      "Acc:  0.6329113924050633\n",
      "Model_59 metric: chebyshev, n_neighbors: 2\n",
      "Time:  0.011007547378540039\n",
      "Acc:  0.5822784810126582\n",
      "Model_60 metric: chebyshev, n_neighbors: 3\n",
      "Time:  0.01150822639465332\n",
      "Acc:  0.6708860759493671\n",
      "Model_61 metric: chebyshev, n_neighbors: 4\n",
      "Time:  0.015509366989135742\n",
      "Acc:  0.5822784810126582\n",
      "Model_62 metric: chebyshev, n_neighbors: 5\n",
      "Time:  0.01551055908203125\n",
      "Acc:  0.6708860759493671\n",
      "Model_63 metric: chebyshev, n_neighbors: 6\n",
      "Time:  0.012509346008300781\n",
      "Acc:  0.5443037974683544\n",
      "Model_64 metric: chebyshev, n_neighbors: 7\n",
      "Time:  0.01250767707824707\n",
      "Acc:  0.5443037974683544\n",
      "Model_65 metric: chebyshev, n_neighbors: 8\n",
      "Time:  0.012508392333984375\n",
      "Acc:  0.4810126582278481\n",
      "Model_66 metric: chebyshev, n_neighbors: 9\n",
      "Time:  0.01200723648071289\n",
      "Acc:  0.4810126582278481\n",
      "Model_67 metric: chebyshev, n_neighbors: 10\n",
      "Time:  0.012507915496826172\n",
      "Acc:  0.4810126582278481\n",
      "Model_68 metric: chebyshev, n_neighbors: 11\n",
      "Time:  0.016510725021362305\n",
      "Acc:  0.4810126582278481\n",
      "Model_69 metric: chebyshev, n_neighbors: 12\n",
      "Time:  0.014509916305541992\n",
      "Acc:  0.4810126582278481\n",
      "Model_70 metric: chebyshev, n_neighbors: 13\n",
      "Time:  0.01600956916809082\n",
      "Acc:  0.620253164556962\n",
      "Model_71 metric: chebyshev, n_neighbors: 14\n",
      "Time:  0.012007474899291992\n",
      "Acc:  0.620253164556962\n",
      "Model_72 metric: chebyshev, n_neighbors: 15\n",
      "Time:  0.011507749557495117\n",
      "Acc:  0.6708860759493671\n",
      "Model_73 metric: chebyshev, n_neighbors: 16\n",
      "Time:  0.02051377296447754\n",
      "Acc:  0.6708860759493671\n",
      "Model_74 metric: chebyshev, n_neighbors: 17\n",
      "Time:  0.02051067352294922\n",
      "Acc:  0.6708860759493671\n",
      "Model_75 metric: chebyshev, n_neighbors: 18\n",
      "Time:  0.012508630752563477\n",
      "Acc:  0.6708860759493671\n",
      "Model_76 metric: chebyshev, n_neighbors: 19\n",
      "Time:  0.014009237289428711\n",
      "Acc:  0.6708860759493671\n",
      "Model_77 metric: chebyshev, n_neighbors: 20\n",
      "Time:  0.013006925582885742\n",
      "Acc:  0.6708860759493671\n",
      "Model_78 metric: chebyshev, n_neighbors: 21\n",
      "Time:  0.013509035110473633\n",
      "Acc:  0.6708860759493671\n",
      "Model_79 metric: chebyshev, n_neighbors: 22\n",
      "Time:  0.01651144027709961\n",
      "Acc:  0.6708860759493671\n",
      "Model_80 metric: chebyshev, n_neighbors: 23\n",
      "Time:  0.01450800895690918\n",
      "Acc:  0.6708860759493671\n",
      "Model_81 metric: chebyshev, n_neighbors: 24\n",
      "Time:  0.012508392333984375\n",
      "Acc:  0.6708860759493671\n",
      "Model_82 metric: chebyshev, n_neighbors: 25\n",
      "Time:  0.01300954818725586\n",
      "Acc:  0.6708860759493671\n",
      "Model_83 metric: chebyshev, n_neighbors: 26\n",
      "Time:  0.015508890151977539\n",
      "Acc:  0.6708860759493671\n",
      "Model_84 metric: chebyshev, n_neighbors: 27\n",
      "Time:  0.01200723648071289\n",
      "Acc:  0.6708860759493671\n",
      "Model_85 metric: chebyshev, n_neighbors: 28\n",
      "Time:  0.017010211944580078\n",
      "Acc:  0.6708860759493671\n",
      "Model_86 metric: chebyshev, n_neighbors: 29\n",
      "Time:  0.014007806777954102\n",
      "Acc:  0.6708860759493671\n"
     ]
    }
   ],
   "source": [
    "params = {\"n_neighbors\": np.arange(1, 30), \"metric\":[\"euclidean\", \"manhattan\", \"chebyshev\"]}\n",
    "acc = {}\n",
    "i=0\n",
    "\n",
    "for m in params[\"metric\"]:\n",
    "    acc[m] = []\n",
    "    for k in params[\"n_neighbors\"]:\n",
    "        print(\"Model_{} metric: {}, n_neighbors: {}\".format(i, m, k))\n",
    "        i += 1\n",
    "        t = time()\n",
    "        knn = KNeighborsClassifier(n_neighbors=k, metric=m)\n",
    "        knn.fit(X_train,y_train)\n",
    "        pred = knn.predict(X_test)\n",
    "        print(\"Time: \", time() - t)\n",
    "        acc[m].append(accuracy_score(y_test, pred))\n",
    "        print(\"Acc: \", acc[m][-1])"
   ]
  },
  {
   "cell_type": "markdown",
   "metadata": {},
   "source": [
    "as  We can see that the best metric or distance is manhattan_distance,optimal k=8. This choice  gives heigh Acc=68% with less time consuming compared to other distances(t=0.007990360260009766 s)"
   ]
  },
  {
   "cell_type": "markdown",
   "metadata": {},
   "source": [
    "## B)Final models implementation"
   ]
  },
  {
   "cell_type": "markdown",
   "metadata": {},
   "source": [
    "As we discover in privious section the best parameters to implement knn algorithme are:\n",
    "\n",
    "    -K=13\n",
    "    \n",
    "    -metric=euclidian-distance\n",
    "    "
   ]
  },
  {
   "cell_type": "code",
   "execution_count": 195,
   "metadata": {},
   "outputs": [
    {
     "data": {
      "text/plain": [
       "KNeighborsClassifier(metric='euclidean', n_neighbors=13)"
      ]
     },
     "execution_count": 195,
     "metadata": {},
     "output_type": "execute_result"
    }
   ],
   "source": [
    "#finale model\n",
    "knn_f=KNeighborsClassifier(n_neighbors=13,metric='euclidean')\n",
    "knn_f.fit(X_train,y_train)"
   ]
  },
  {
   "cell_type": "markdown",
   "metadata": {},
   "source": [
    "## C)Model evaluation\n"
   ]
  },
  {
   "cell_type": "markdown",
   "metadata": {},
   "source": [
    "**To evaluate our  model we are going to**:\n",
    "\n",
    "-use heatmap (matrice de confusion )\n",
    "\n",
    "-use the precision recall and  F1 score for each class\n",
    "\n",
    "-plotting the roc curve"
   ]
  },
  {
   "cell_type": "markdown",
   "metadata": {},
   "source": [
    "1)**Confusion matrix**"
   ]
  },
  {
   "cell_type": "code",
   "execution_count": 196,
   "metadata": {},
   "outputs": [
    {
     "name": "stdout",
     "output_type": "stream",
     "text": [
      "Accuracy is:  0.6835443037974683\n"
     ]
    },
    {
     "data": {
      "text/plain": [
       "<matplotlib.axes._subplots.AxesSubplot at 0x19b65692850>"
      ]
     },
     "execution_count": 196,
     "metadata": {},
     "output_type": "execute_result"
    },
    {
     "data": {
      "image/png": "[encoded data removed]",
      "text/plain": [
       "<Figure size 432x288 with 2 Axes>"
      ]
     },
     "metadata": {
      "needs_background": "light"
     },
     "output_type": "display_data"
    }
   ],
   "source": [
    "# at first let choose k=11 and evaluate the acquracy:\n",
    "y_predict=knn_f.predict(X_test)\n",
    "ac1 = accuracy_score(y_test,y_predict)\n",
    "print('Accuracy is: ',ac1)\n",
    "cm= confusion_matrix(y_test,y_predict)\n",
    "sns.heatmap(cm,annot=True)\n"
   ]
  },
  {
   "cell_type": "markdown",
   "metadata": {},
   "source": [
    "2)**classification_report**\n"
   ]
  },
  {
   "cell_type": "code",
   "execution_count": 197,
   "metadata": {},
   "outputs": [
    {
     "name": "stdout",
     "output_type": "stream",
     "text": [
      "              precision    recall  f1-score   support\n",
      "\n",
      "         0.0       0.57      0.15      0.24        26\n",
      "         1.0       0.69      0.94      0.80        53\n",
      "\n",
      "    accuracy                           0.68        79\n",
      "   macro avg       0.63      0.55      0.52        79\n",
      "weighted avg       0.65      0.68      0.62        79\n",
      "\n"
     ]
    }
   ],
   "source": [
    "#import classification_report\n",
    "from sklearn.metrics import classification_report\n",
    "y_predict = knn_f.predict(X_test)\n",
    "print(classification_report(y_test,y_predict))"
   ]
  },
  {
   "cell_type": "markdown",
   "metadata": {},
   "source": [
    "3)**Roc_curv**"
   ]
  },
  {
   "cell_type": "code",
   "execution_count": 198,
   "metadata": {},
   "outputs": [
    {
     "data": {
      "image/png": "[encoded data removed]",
      "text/plain": [
       "<Figure size 432x288 with 1 Axes>"
      ]
     },
     "metadata": {
      "needs_background": "light"
     },
     "output_type": "display_data"
    }
   ],
   "source": [
    "#ploting the roc_curve\n",
    "\n",
    "fpositif, tpositif, thresholds = roc_curve(y_test, y_predict)\n",
    "plt.plot([0,1],[0,1],'k--')\n",
    "plt.plot(fpositif,tpositif, label='knn_f')\n",
    "plt.xlabel('false positif')\n",
    "plt.ylabel('true positif')\n",
    "plt.title('Knn_f ROC curve')\n",
    "p=plt.show()\n",
    "     "
   ]
  },
  {
   "cell_type": "markdown",
   "metadata": {},
   "source": [
    "## D)conclusion :\n",
    "To conclude after using knn algorithme with(euclidian_distance,k=13) we got a quit good accuracy acc=70%"
   ]
  },
  {
   "cell_type": "markdown",
   "metadata": {},
   "source": [
    "# Support vector machine \n",
    "\n",
    "<h5 style='color:red;font-family:cursive;font-size:4.5mm'>Réalisé par Mohamed AL JADD </h5>\n",
    "<img src='https://monkeylearn.com/static/b6f30bea411152b138e7d2e5358f89e0/05b00/post_1e_hero.png' width='300cm' height='15cm'>"
   ]
  },
  {
   "cell_type": "markdown",
   "metadata": {},
   "source": [
    "**First of all let's start by creating some useful functions :**\n",
    "\n",
    "\n",
    "<h5> 1) Showing results  :</h5>   \n",
    "\n",
    " - The first function will help us show the following metrics for any classifer : ROC curve, f1, accuracy, training time, ROC score and confusion matrix\n",
    " \n",
    "```python\n",
    "    def showResults(accuracy, trainingTime, y_pred,model) \n",
    "    ...\n",
    "    \n",
    "```    \n",
    "\n",
    "<h5> 2) Hyperparameters tunning :</h5>\n",
    "\n",
    "- In machine learning, hyperparameter optimization or tuning is the problem of choosing a set of optimal hyperparameters for a learning algorithm. A hyperparameter is a parameter whose value is used to control the learning process\n",
    "\n",
    "- First of all let's talk about the parameters that we will tune :\n",
    "    - C : The C parameter tells the SVM optimization how much you want to avoid misclassifying each training example.\n",
    "    \n",
    "    - d : the degree of pylonomial that map feature to new features (e.g : suppose our hypothesis without polynomial features is $h_{\\theta} = \\theta_{0}+\\theta_{1}.x_{1}$ then with polynomial features with d = 2 we get $h_{\\theta} = \\theta_{0}+\\theta_{1}.x_{1}+\\theta_{2}.x_{1}^{2}$).\n",
    "    \n",
    "    - $\\gamma$ : we talked about it in the  <a href='https://github.com/mohammedAljadd/Students-performance-and-difficulties-prediction#user-content-svm:~:text=Now%20after%20we%20train%20our%20three,by%20the%20model%20as%20support%20vectors.'> Readme file</a>.\n",
    "    \n",
    "    - Data splits : we will splits data randomly many times and choose the split that gives better performances. It takes so long !\n",
    "- we will use diffrent values of svm parameters and choose the ones who minimize the cost on the cross validation set, later on, we will split the data into three sets.\n",
    "    \n",
    "```python    \n",
    "   def optimal_C_value()\n",
    "    ...\n",
    "    def optimal_C_d_values()\n",
    "    ...\n",
    "    def optimal_C_gamma_values()\n",
    "    ...\n",
    "```   \n",
    "\n",
    "<h5> 3) Comparison : :</h5>\n",
    "\n",
    "- This function will plot results of the three svm kernels that we will train :\n",
    "\n",
    "```python\n",
    "    def compare_kernels()\n",
    "    ...\n",
    "```   \n",
    "- Show results of the best svm kernel according to the metrics :\n",
    "```python \n",
    " \n",
    "    def best_kernel(kernel)\n",
    "    ...\n",
    "```\n",
    "\n",
    "<h5>4) Impact factors :</h5>\n",
    "\n",
    "\n",
    "- This three function will help us extract positive and negative factors for student performances on exams :\n",
    "\n",
    "```python\n",
    "    def factors(array, K, max_or_min, df)\n",
    "    ...\n",
    "    def get_factors(index, df)\n",
    "    ...\n",
    "    def column_to_string(fcts,max_or_min)\n",
    "```\n",
    "\n",
    "<h5>5) Splitting data :</h5>\n",
    "\n",
    "\n",
    "- This function will split the data into three sets: ($x_{train}$,$y_{train}$), ($x_{cv}$,$y_{cv}$) and ($x_{test}$,$y_{test}$):\n",
    "\n",
    "```python\n",
    "    def split(df,rest_size,test_size,randomState)\n",
    "```\n",
    "- $df$ : datafram that will be converted to numpy array.\n",
    "- $rest$_$size$ : size of rest after taking the thraining set.\n",
    "- $test$_$size$ : the size of test set after taking the cross validation set.\n",
    "- $randomState$ = a number : randomly split the data, 0 otherwise.\n",
    "<br>\n",
    " \n",
    " - **We will explain each of these functions very well inside the following cell itself :**"
   ]
  },
  {
   "cell_type": "code",
   "execution_count": 275,
   "metadata": {},
   "outputs": [],
   "source": [
    "# Mohammed AL JADD\n",
    "\n",
    "\n",
    "# ------------------------------------------------------------------------------------------------------------------------------\n",
    "# Show results of every model\n",
    "\n",
    "def showResults(accuracy, trainingTime, y_pred,model):\n",
    "    \n",
    "    print('------------------------------------------------Results :',model,'-------------------------------------------------')\n",
    "    confusionMatrix = confusion_matrix(y_test, y_pred)\n",
    "    print('\\n The ROC curve is :\\n')\n",
    "    fig, _ = plt.subplots()\n",
    "    fpr,tpr,thresholds=roc_curve(y_test,y_pred)\n",
    "    plt.plot([0, 1],[0, 1],'--')\n",
    "    plt.plot(fpr,tpr,label=model)\n",
    "    plt.xlabel('false positive')\n",
    "    plt.ylabel('false negative')\n",
    "    plt.legend()\n",
    "    fig.suptitle('ROC curve: '+str(model))\n",
    "    plt.show()\n",
    "    \n",
    "    print('----------------------------------------------')\n",
    "    print('The model  accuracy:', round(accuracy),'%')\n",
    "    print('----------------------------------------------')\n",
    "    print('The training time is: ',trainingTime)\n",
    "    print('----------------------------------------------')\n",
    "    print('The f1 score is :',round(100*f1_score(y_test, y_pred, average='macro'))/100)\n",
    "    print('----------------------------------------------')\n",
    "    print('The roc_auc_score is :',round(100*roc_auc_score(y_test, y_pred))/100)\n",
    "    print('----------------------------------------------')\n",
    "    print('The confusion matrix is :\\n')\n",
    "    ax = plt.axes()\n",
    "    sns.heatmap(confusionMatrix,annot=True)\n",
    "\n",
    "\n",
    "    \n",
    "# ------------------------------------------------------------------------------------------------------------------------------\n",
    "# Hyperparameter Tuning :\n",
    "# C, degree and gamma are the parameters that are used in SVM classffier 'svc(C=..,..),svc(C,degree=..)',svc(C,gamma=..)\n",
    "# The following functions will return those values that minimize the error on (X_val,y_val) set\n",
    "# So this (X_val,y_val) set will be used to get the optimal SVM parameters before evaluating the model on the test set\n",
    "\n",
    "\n",
    "# Optimal C \n",
    "def optimal_C_value():\n",
    "    Ci = np.array(( 0.0001,0.001,0.01,0.05,0.1,4,10,40,100))\n",
    "    minError = float('Inf')\n",
    "    optimal_C = float('Inf')\n",
    "\n",
    "    for c in Ci:\n",
    "        clf = SVC(C=c,kernel='linear')\n",
    "        clf.fit(X_train, y_train)\n",
    "        predictions = clf.predict(X_val)\n",
    "        error = np.mean(np.double(predictions != y_val))\n",
    "        if error < minError:\n",
    "            minError = error\n",
    "            optimal_C = c\n",
    "    return optimal_C\n",
    "\n",
    "\n",
    "# Optimal C and the degree of the polynomial\n",
    "def optimal_C_d_values():\n",
    "    Ci = np.array(( 0.0001,0.001,0.01,0.05,0.1,4,10,40,100))\n",
    "    Di = np.array(( 2, 5, 10, 15, 20, 25, 30))\n",
    "    minError = float('Inf')\n",
    "    optimal_C = float('Inf')\n",
    "    optimal_d = float('Inf')\n",
    "\n",
    "    for d in Di:\n",
    "        for c in Ci:\n",
    "            clf = SVC(C=c,kernel='poly', degree=d)\n",
    "            clf.fit(X_train, y_train)\n",
    "            predictions = clf.predict(X_val)\n",
    "            error = np.mean(np.double(predictions != y_val))\n",
    "            if error < minError:\n",
    "                minError = error\n",
    "                optimal_C = c\n",
    "                optimal_d = d\n",
    "    return optimal_C,optimal_d\n",
    "\n",
    "\n",
    "# Optimal C and gamma\n",
    "def optimal_C_gamma_values():\n",
    "    Ci = np.array(( 0.0001,0.001,0.01,0.05,0.1,4,10,40,100))\n",
    "    Gi = np.array(( 0.000001,0.00001,0.01,1,2,3,5,20,70,100,500,1000))\n",
    "    minError = float('Inf')\n",
    "    optimal_C = float('Inf')\n",
    "    optimal_g = float('Inf')\n",
    "\n",
    "    for g in Gi:\n",
    "        for c in Ci:\n",
    "            clf = SVC(C=c,kernel='rbf', gamma=g)\n",
    "            clf.fit(X_train, y_train)\n",
    "            predictions = clf.predict(X_val)\n",
    "            error = np.mean(np.double(predictions != y_val))\n",
    "            if error < minError:\n",
    "                minError = error\n",
    "                optimal_C = c\n",
    "                optimal_g = g\n",
    "    return optimal_C,optimal_g\n",
    "\n",
    "\n",
    "# ------------------------------------------------------------------------------------------------------------------------------\n",
    "# Compare the three kernels\n",
    "\n",
    "\n",
    "def compare_kernels():\n",
    "    X_train1,X_val1,X_test1,y_train1,y_val1,y_test1 = split(df,rest_size=0.4,test_size=0.4,randomState=optimal_split_state1)\n",
    "    X_train2,X_val2,X_test2,y_train2,y_val2,y_test2 = split(df,rest_size=0.4,test_size=0.4,randomState=optimal_split_state2)\n",
    "    X_train3,X_val3,X_test3,y_train3,y_val3,y_test3 = split(df,rest_size=0.4,test_size=0.4,randomState=optimal_split_state3)\n",
    "    print('------------------------------------------------ Comparison -----------------------------------------------------')\n",
    "    print('\\n')\n",
    "    f11 = \"{:.2f}\".format(f1_score(y_test1, y_linear, average='macro'))\n",
    "    f22 = \"{:.2f}\".format(f1_score(y_test2, y_poly, average='macro'))\n",
    "    f33 = \"{:.2f}\".format(f1_score(y_test3, y_gauss, average='macro'))\n",
    "    roc1 = \"{:.2f}\".format(roc_auc_score(y_test1, y_linear))\n",
    "    roc2 = \"{:.2f}\".format(roc_auc_score(y_test2, y_poly))\n",
    "    roc3 = \"{:.2f}\".format(roc_auc_score(y_test3, y_gauss))\n",
    "    a1,a2 = confusion_matrix(y_test1, y_linear)[0],confusion_matrix(y_test1, y_linear)[1]\n",
    "    b1,b2 = confusion_matrix(y_test2, y_poly)[0],confusion_matrix(y_test2, y_poly)[1]\n",
    "    c1,c2 = confusion_matrix(y_test3, y_gauss)[0],confusion_matrix(y_test3, y_gauss)[1]\n",
    "    data_rows = [('training time',time1, time2, time3),\n",
    "                 ('','','',''),\n",
    "                  ('accuracy %',linear_accuracy, poly_accuracy, gauss_accuracy),\n",
    "                 ('','','',''),\n",
    "                 ('confusion matrix',a1, b1, c1),\n",
    "                ('',a2,b2,c2),\n",
    "                 ('','','',''),\n",
    "                ('f1 score',f11,f22,f33),\n",
    "                 ('','','',''),\n",
    "                ('roc_auc_score',roc1,roc2,roc3)]\n",
    "    t = Table(rows=data_rows, names=('metrice','Linear kernel', 'polynomial kernel', 'gaussian kernel'))\n",
    "    print(t)\n",
    "    print('\\n\\n')\n",
    "    print('The Roc curves :\\n')\n",
    "    y_pred1 = y_linear\n",
    "    y_pred2 = y_poly\n",
    "    y_pred3 = y_gauss\n",
    "    fig, _ = plt.subplots()\n",
    "    fig.suptitle('Comparison of three ROC curves')\n",
    "    fpr,tpr,thresholds=roc_curve(y_test1,y_pred1)\n",
    "    plt.plot([0, 1],[0, 1],'--')\n",
    "    plt.plot(fpr,tpr,label='Linear kernel :'+str(roc1))\n",
    "    plt.xlabel('false positive')\n",
    "    plt.ylabel('false negative')\n",
    "    fpr,tpr,thresholds=roc_curve(y_test2,y_pred2)\n",
    "    plt.plot(fpr,tpr,label='Polynomial kernel :'+str(roc2))\n",
    "    fpr,tpr,thresholds=roc_curve(y_test3,y_pred3)\n",
    "    plt.plot(fpr,tpr,label='Gaussian kernel :'+str(roc3))\n",
    "    plt.legend()\n",
    "    plt.show()\n",
    "    \n",
    "\n",
    "# ------------------------------------------------------------------------------------------------------------------------------\n",
    "# Print results of the choosen kernel\n",
    "\n",
    "def best_kernel(kernel):\n",
    "    X_train1,X_val1,X_test1,y_train1,y_val1,y_test1 = split(df,rest_size=0.4,test_size=0.4,randomState=optimal_split_state1)\n",
    "    X_train2,X_val2,X_test2,y_train2,y_val2,y_test2 = split(df,rest_size=0.4,test_size=0.4,randomState=optimal_split_state2)\n",
    "    X_train3,X_val3,X_test3,y_train3,y_val3,y_test3 = split(df,rest_size=0.4,test_size=0.4,randomState=optimal_split_state3)\n",
    "    \n",
    "    time = 0\n",
    "    f1 = 0\n",
    "    accuracy = 0\n",
    "    rc = 0\n",
    "    y = 0\n",
    "    if kernel == 'linear kernel':\n",
    "        time = time1\n",
    "        f1 = \"{:.2f}\".format(f1_score(y_test1, y_linear, average='macro'))\n",
    "        accuracy = round(100*linear_accuracy)/100\n",
    "        rc = round(100*roc_auc_score(y_test1, y_linear))/100\n",
    "        y_test = y_test1\n",
    "        y = y_linear\n",
    "    elif kernel == 'polynomial kernel':\n",
    "        time = time2\n",
    "        f1 = \"{:.2f}\".format(f1_score(y_test2, y_poly, average='macro'))\n",
    "        accuracy = round(100*poly_accuracy)/100\n",
    "        rc = round(100*roc_auc_score(y_test2, y_poly))/100\n",
    "        y_test = y_test2\n",
    "        y = y_poly\n",
    "    else :\n",
    "        time = time3\n",
    "        f1 = \"{:.2f}\".format(f1_score(y_test3, y_gauss, average='macro'))\n",
    "        accuracy = round(100*gauss_accuracy)/100\n",
    "        rc = round(100*roc_auc_score(y_test3, y_gauss))/100\n",
    "        y_test = y_test3\n",
    "        y = y_gauss \n",
    "    print('The choosen kernel :',kernel)\n",
    "    print('the training :',time)\n",
    "    print('the accuracy :',round(accuracy),'%')\n",
    "    print('the f1 score :',f1)\n",
    "    print('The roc_auc_score is :',rc)\n",
    "    print('----------------------------------------\\nThe ROC curve :')\n",
    "    fig, _ = plt.subplots()\n",
    "    fpr,tpr,thresholds=roc_curve(y_test,y)\n",
    "    plt.plot([0, 1],[0, 1],'--')\n",
    "    plt.plot(fpr,tpr,label=kernel+': '+str(rc))\n",
    "    plt.xlabel('false positive')\n",
    "    plt.ylabel('false negative')\n",
    "    plt.legend()\n",
    "    plt.show()\n",
    "    confusionMatrix = confusion_matrix(y_test, y)\n",
    "    print('----------------------------------------\\nThe confusion matrix is  :')\n",
    "    ax = plt.axes()\n",
    "    sns.heatmap(confusionMatrix,annot=True)\n",
    "    ax.set_title('Confusion matrix of SVM '+str(kernel))\n",
    "    \n",
    "    \n",
    "# ------------------------------------------------------------------------------------------------------------------------------\n",
    "# svm factor : factor affecting students performance, later on on this Ipython notebook  we will explain how we will do this\n",
    "\n",
    "\n",
    "# 1) factor as svm coefficients\n",
    "def factors(array, K, max_or_min, df):\n",
    "    \n",
    "    n = array.shape[1]\n",
    "    array = array.reshape(n,1)\n",
    "    my_list = array.tolist()\n",
    "    \n",
    "    if max_or_min == 'max':\n",
    "        temp = sorted(my_list)[-K:]\n",
    "        res = [] \n",
    "        for ele in temp: \n",
    "            res.append(my_list.index(ele))\n",
    "        return(get_factors(res, df))\n",
    "    \n",
    "    \n",
    "    elif max_or_min == 'min':\n",
    "        temp = sorted(my_list, reverse=True)[-K:]\n",
    "        temp = temp = np.array(temp).reshape(K,1)\n",
    "        res = []\n",
    "        for ele in temp:\n",
    "            if ele<0:\n",
    "                res.append(my_list.index(ele))\n",
    "        return(get_factors(res, df))\n",
    "    \n",
    "\n",
    "    else:\n",
    "        return\n",
    "    \n",
    "\n",
    "# 2) converts those factors to dataset columns name\n",
    "def get_factors(index, df):\n",
    "    f = []\n",
    "    for i in index:\n",
    "        f.append(df.columns[i])\n",
    "    return f\n",
    "    \n",
    "\n",
    "# 3) Convert column names to understandable string\n",
    " \n",
    "columns_name = {'famsize': 'family size', 'Pstatus': \"parent's cohabitation status \", 'Medu': \"mother's education\",\n",
    "                'Fedu': \"father's education\", 'Mjob': \"mother's job\", 'Fjob': \"father's job\", \n",
    "                'reason': 'reason to choose this school ','schoolsup': 'extra educational support', 'famsup': 'family educational support',\n",
    "                'paid': 'extra paid classes within the course subject', 'higher': 'wants to take higher education',\n",
    "                'romantic': 'with a romantic relationship ', 'famrel': 'quality of family relationships', 'goout': 'going out with friends',\n",
    "                'Dalc': 'workday alcohol consumption', 'Walc': 'weekend alcohol consumption'}        \n",
    "\n",
    "\n",
    "def column_to_string(fcts,max_or_min):\n",
    "    \n",
    "    if max_or_min == 'max':\n",
    "        print('-----------------------------------------------------------------------------------')\n",
    "        print('Factors helping students succeed :')\n",
    "    else:\n",
    "        print('-----------------------------------------------------------------------------------')\n",
    "        print('-----------------------------------------------------------------------------------')\n",
    "        print('Factors leading students to failure')\n",
    "        \n",
    "    for fct in fcts:\n",
    "        if fct in columns_name:\n",
    "            print(columns_name[fct])\n",
    "        else:\n",
    "            print(fct)\n",
    "    \n",
    "    \n",
    "# ------------------------------------------------------------------------------------------------------------------------------\n",
    "# Splitting the data for SVM\n",
    "# Here We will split data into test set, cross validation (X_val, y_val) set and training set\n",
    "# The cross validation (X_val, y_val) is used for choosing the optimal value for svm parameters C, degree and gamma\n",
    "\n",
    "X_train,X_val,X_test,y_train,y_val,y_test = split(df,rest_size=0.4,test_size=0.4,randomState=0)\n",
    "# We will use the three different svm classifier kernels\n",
    "# Linear kernel, polynomial kernel and gaussian kernel and we will choose the most accurate"
   ]
  },
  {
   "cell_type": "markdown",
   "metadata": {},
   "source": [
    "<h3>1) Model evaluation:</h3>\n",
    "\n",
    "For model evaluation we will calculate :\n",
    "\n",
    "- <span style='color:red'>**Training time**</span>\n",
    "- <span style='color:red'>**Accuracy**</span>\n",
    "- <span style='color:red'>**Confusion matrix**</span>\n",
    "- <span style='color:red'>**ROC curve**</span>\n",
    "- <span style='color:red'>**ROC score**</span>\n",
    "- <span style='color:red'>**f1 score**</span>"
   ]
  },
  {
   "cell_type": "markdown",
   "metadata": {},
   "source": [
    "<h3>1) Training phase:</h3>"
   ]
  },
  {
   "cell_type": "markdown",
   "metadata": {},
   "source": [
    "**Linear Kernel :**"
   ]
  },
  {
   "cell_type": "code",
   "execution_count": 276,
   "metadata": {},
   "outputs": [
    {
     "name": "stdout",
     "output_type": "stream",
     "text": [
      "------------------------------------------------Results : SVM linear kernel -------------------------------------------------\n",
      "\n",
      " The ROC curve is :\n",
      "\n"
     ]
    },
    {
     "data": {
      "image/png": "[encoded data removed]",
      "text/plain": [
       "<Figure size 432x288 with 1 Axes>"
      ]
     },
     "metadata": {
      "needs_background": "light"
     },
     "output_type": "display_data"
    },
    {
     "name": "stdout",
     "output_type": "stream",
     "text": [
      "----------------------------------------------\n",
      "The model  accuracy: 84.0 %\n",
      "----------------------------------------------\n",
      "The training time is:  0ms\n",
      "----------------------------------------------\n",
      "The f1 score is : 0.82\n",
      "----------------------------------------------\n",
      "The roc_auc_score is : 0.8\n",
      "----------------------------------------------\n",
      "The confusion matrix is :\n",
      "\n"
     ]
    },
    {
     "data": {
      "image/png": "[encoded data removed]",
      "text/plain": [
       "<Figure size 432x288 with 2 Axes>"
      ]
     },
     "metadata": {
      "needs_background": "light"
     },
     "output_type": "display_data"
    }
   ],
   "source": [
    "###################################################### Linear kernel ###########################################################\n",
    "optimal_split_state1 = 0\n",
    "maxAccuracy = 0\n",
    "maxF1 = 0\n",
    "\n",
    "# We already tune parameters, we do not need to loop over all the hyperparamters again, \n",
    "# if you want to do so just set max_iteration to 2000 for example \n",
    "# and remove the line 'optimal_split_state = 388628375' at the bottom of this cell.\n",
    "\n",
    "max_iteration = 0\n",
    "if max_iteration != 0:\n",
    "    print ('----------------------------------------Hyperparameters tunning starts----------------------------------------\\n\\n')\n",
    "\n",
    "for k in range(max_iteration):\n",
    "    print ('Iteration :'+str(k)+', Current accuracy: '+str(maxAccuracy)+' Current f1 '+str(maxF1), end=\"\\r\")\n",
    "    # Let's get the optimal C value for the linear kernal\n",
    "    split_state = np.random.randint(1,1000000000)-1\n",
    "    X_train,X_val,X_test,y_train,y_val,y_test = split(df,rest_size=0.4,test_size=0.4,randomState=split_state)\n",
    "    optimal_C = optimal_C_value()\n",
    "\n",
    "\n",
    "    # Now let's use the optimal C value\n",
    "    linear_clf = SVC(C=optimal_C,kernel='linear')\n",
    "\n",
    "    # Let's train the model with the optimal C value and calculate the training time\n",
    "    tic = time()\n",
    "    linear_clf.fit(X_train, y_train)\n",
    "    toc = time()\n",
    "    time1 = str(round(1000*(toc-tic))) + \"ms\"\n",
    "    y_linear = linear_clf.predict(X_test)\n",
    "    linear_f1 = f1_score(y_test, y_linear, average='macro')\n",
    "    linear_accuracy = accuracy_score(y_test, y_linear)*100\n",
    "    if linear_accuracy>maxAccuracy and linear_f1>maxF1:\n",
    "        maxAccuracy = linear_accuracy\n",
    "        maxF1 = linear_f1\n",
    "        optimal_split_state1 = split_state\n",
    "    if maxAccuracy>86 and maxF1>80:\n",
    "        break;\n",
    "        \n",
    "# We've already tuned our hyperparameters, we will not repeat that as it takes soo long. \n",
    "# The optimal split state for linear kernel is 388628375\n",
    "# Let's try that split state \n",
    "optimal_split_state1 = 388628375\n",
    "X_train,X_val,X_test,y_train,y_val,y_test = split(df,rest_size=0.4,test_size=0.4,randomState=optimal_split_state1)\n",
    "optimal_C = optimal_C_value()\n",
    "\n",
    "\n",
    "# Now let's use the optimal C value\n",
    "linear_clf = SVC(C=optimal_C,kernel='linear')\n",
    "\n",
    "# Let's train the model with the optimal C value and calculate the training time\n",
    "tic = time()\n",
    "linear_clf.fit(X_train, y_train)\n",
    "toc = time()\n",
    "time1 = str(round(1000*(toc-tic))) + \"ms\"\n",
    "y_linear = linear_clf.predict(X_test)\n",
    "linear_accuracy = accuracy_score(y_test, y_linear)*100\n",
    "if max_iteration != 0:\n",
    "    print('\\n\\n\\n                            ---------------------------process ended'\\\n",
    "         '------------------------------------                            \\n\\n\\n')\n",
    "\n",
    "# Let's show the resuls\n",
    "showResults(linear_accuracy, time1, y_linear,'SVM linear kernel')"
   ]
  },
  {
   "cell_type": "markdown",
   "metadata": {},
   "source": [
    "**Polynomial Kernel :**"
   ]
  },
  {
   "cell_type": "code",
   "execution_count": 277,
   "metadata": {},
   "outputs": [
    {
     "name": "stdout",
     "output_type": "stream",
     "text": [
      "------------------------------------------------Results : SVM polynomial kernel -------------------------------------------------\n",
      "\n",
      " The ROC curve is :\n",
      "\n"
     ]
    },
    {
     "data": {
      "image/png": "[encoded data removed]",
      "text/plain": [
       "<Figure size 432x288 with 1 Axes>"
      ]
     },
     "metadata": {
      "needs_background": "light"
     },
     "output_type": "display_data"
    },
    {
     "name": "stdout",
     "output_type": "stream",
     "text": [
      "----------------------------------------------\n",
      "The model  accuracy: 78.0 %\n",
      "----------------------------------------------\n",
      "The training time is:  8ms\n",
      "----------------------------------------------\n",
      "The f1 score is : 0.74\n",
      "----------------------------------------------\n",
      "The roc_auc_score is : 0.73\n",
      "----------------------------------------------\n",
      "The confusion matrix is :\n",
      "\n"
     ]
    },
    {
     "data": {
      "image/png": "[encoded data removed]",
      "text/plain": [
       "<Figure size 432x288 with 2 Axes>"
      ]
     },
     "metadata": {
      "needs_background": "light"
     },
     "output_type": "display_data"
    }
   ],
   "source": [
    "###################################################### Polynomial kernel #######################################################\n",
    "optimal_split_state2 = 0\n",
    "maxAccuracy = 0\n",
    "maxF1 = 0\n",
    "\n",
    "\n",
    "# We already tune parameters, we do not need to loop over all the hyperparamters again, \n",
    "# if you want to do so just set max_iteration to 500 for example \n",
    "# and remove the line 'optimal_split_state2 = 7070621' at the bottom of this cell.\n",
    "\n",
    "max_iteration = 0\n",
    "if max_iteration != 0:\n",
    "    print ('----------------------------------------Hyperparameters tunning starts----------------------------------------\\n\\n')\n",
    "for k in range(max_iteration):\n",
    "    print ('Iteration :'+str(k)+', Current accuracy: '+str(maxAccuracy)+', Current f1 '+str(maxF1), end=\"\\r\")\n",
    "    \n",
    "    split_state = np.random.randint(1,100000000)-1\n",
    "    X_train,X_val,X_test,y_train,y_val,y_test = split(df,rest_size=0.4,test_size=0.4,randomState=split_state)\n",
    "\n",
    "    # Let's get the optimal C and the degree value for the polynomial kernal\n",
    "    optimal_C, optimal_d = optimal_C_d_values()\n",
    "    \n",
    "    # Now let's use the optimal c value and the optimal degree value\n",
    "    poly_clf = SVC(C=optimal_C,kernel='poly', degree=optimal_d)\n",
    "\n",
    "    # Let's train the model with the optimal C value \n",
    "    poly_clf.fit(X_train, y_train)\n",
    "    y_poly = poly_clf.predict(X_test)\n",
    "    poly_f1 = f1_score(y_test, y_poly, average='macro')\n",
    "    poly_accuracy = accuracy_score(y_test, y_poly)*100\n",
    "    \n",
    "    if poly_accuracy>maxAccuracy and poly_f1>maxF1:\n",
    "        maxAccuracy = poly_accuracy\n",
    "        maxF1 = poly_f1\n",
    "        optimal_split_state2 = split_state\n",
    "\n",
    "# We've already tuned our hyperparameters, we will not repeat that as it takes soo long. \n",
    "# The optimal split state for polynomial kernel is 7070621\n",
    "# Let's try that split state \n",
    "optimal_split_state2 = 7070621\n",
    "\n",
    "X_train,X_val,X_test,y_train,y_val,y_test = split(df,rest_size=0.4,test_size=0.4,randomState=optimal_split_state2)\n",
    "\n",
    "optimal_C, optimal_d = optimal_C_d_values()\n",
    "\n",
    "\n",
    "# Now let's use the optimal C value\n",
    "poly_clf = SVC(C=optimal_C,kernel='poly', degree=optimal_d)\n",
    "\n",
    "# Let's train the model and calculate the training time\n",
    "tic = time()\n",
    "poly_clf.fit(X_train, y_train)\n",
    "toc = time()\n",
    "time2 = str(round(1000*(toc-tic))) + \"ms\"\n",
    "y_poly = poly_clf.predict(X_test)\n",
    "poly_accuracy = accuracy_score(y_test, y_poly)*100\n",
    "if max_iteration != 0:\n",
    "    print('\\n\\n\\n                            ---------------------------process ended'\\\n",
    "         '------------------------------------                            \\n\\n\\n')\n",
    "\n",
    "# Let's show the resuls\n",
    "showResults(poly_accuracy, time2, y_poly,'SVM polynomial kernel')"
   ]
  },
  {
   "cell_type": "markdown",
   "metadata": {},
   "source": [
    "**Gaussian Kernel :**"
   ]
  },
  {
   "cell_type": "code",
   "execution_count": 278,
   "metadata": {},
   "outputs": [
    {
     "name": "stdout",
     "output_type": "stream",
     "text": [
      "------------------------------------------------Results : SVM gaussian kernel -------------------------------------------------\n",
      "\n",
      " The ROC curve is :\n",
      "\n"
     ]
    },
    {
     "data": {
      "image/png": "[encoded data removed]",
      "text/plain": [
       "<Figure size 432x288 with 1 Axes>"
      ]
     },
     "metadata": {
      "needs_background": "light"
     },
     "output_type": "display_data"
    },
    {
     "name": "stdout",
     "output_type": "stream",
     "text": [
      "----------------------------------------------\n",
      "The model  accuracy: 83.0 %\n",
      "----------------------------------------------\n",
      "The training time is:  0ms\n",
      "----------------------------------------------\n",
      "The f1 score is : 0.77\n",
      "----------------------------------------------\n",
      "The roc_auc_score is : 0.74\n",
      "----------------------------------------------\n",
      "The confusion matrix is :\n",
      "\n"
     ]
    },
    {
     "data": {
      "image/png": "[encoded data removed]",
      "text/plain": [
       "<Figure size 432x288 with 2 Axes>"
      ]
     },
     "metadata": {
      "needs_background": "light"
     },
     "output_type": "display_data"
    }
   ],
   "source": [
    "###################################################### Gaussian kernel ######################################################\n",
    "optimal_split_state3 = 0\n",
    "maxAccuracy = 0\n",
    "maxF1 = 0\n",
    "\n",
    "\n",
    "# We already tune parameters, we do not need to loop over all the hyperparamters again, \n",
    "# if you want to do so just set max_iteration to 500 for example \n",
    "# and remove the line 'optimal_split_state3 = 32987800' at the bottom of this cell.\n",
    "\n",
    "max_iteration = 0\n",
    "if max_iteration != 0:\n",
    "    print ('----------------------------------------------Hyperparameters tunning starts'\\\n",
    "          '--------------------------------------------\\n\\n')\n",
    "for k in range(max_iteration):\n",
    "    print ('Iteration :'+str(k)+', Current accuracy: '+str(maxAccuracy)+', Current f1 '+str(maxF1), end=\"\\r\")\n",
    "    \n",
    "    split_state = np.random.randint(1,100000000)-1\n",
    "    X_train,X_val,X_test,y_train,y_val,y_test = split(df,rest_size=0.4,test_size=0.4,randomState=split_state)\n",
    "\n",
    "    # Let's get the optimal C and the degree value for the polynomial kernal\n",
    "    optimal_C, optimal_gamma = optimal_C_gamma_values()\n",
    "    \n",
    "    # Now let's use the optimal c value and the optimal degree value\n",
    "    gauss_clf = SVC(C=optimal_C,kernel='rbf',gamma=optimal_gamma)\n",
    "\n",
    "    # Let's train the model with the optimal C value \n",
    "    gauss_clf.fit(X_train, y_train)\n",
    "    y_gauss = gauss_clf.predict(X_test)\n",
    "    gauss_f1 = f1_score(y_test, y_gauss, average='macro')\n",
    "    gauss_accuracy = accuracy_score(y_test, y_gauss)*100\n",
    "    \n",
    "    if gauss_accuracy>maxAccuracy and gauss_f1>maxF1:\n",
    "        maxAccuracy = gauss_accuracy\n",
    "        maxF1 = gauss_f1\n",
    "        optimal_split_state3 = split_state\n",
    "\n",
    "# We've already tuned our hyperparameters, we will not repeat that as it takes soo long. \n",
    "# The optimal split state for polynomial kernel is 32987800\n",
    "# Let's try that split state \n",
    "optimal_split_state3 = 93895097\n",
    "\n",
    "X_train,X_val,X_test,y_train,y_val,y_test = split(df,rest_size=0.4,test_size=0.4,randomState=optimal_split_state3)\n",
    "\n",
    "optimal_C, optimal_gamma = optimal_C_gamma_values()\n",
    "\n",
    "\n",
    "# Now let's use the optimal C value\n",
    "gauss_clf = SVC(C=optimal_C,kernel='rbf',gamma=optimal_gamma)\n",
    "\n",
    "# Let's train the model and calculate the training time\n",
    "tic = time()\n",
    "gauss_clf.fit(X_train, y_train)\n",
    "toc = time()\n",
    "time3 = str(round(1000*(toc-tic))) + \"ms\"\n",
    "y_gauss = gauss_clf.predict(X_test)\n",
    "gauss_accuracy = (accuracy_score(y_test, y_gauss)*100)\n",
    "\n",
    "if max_iteration != 0:\n",
    "    print('\\n\\n\\n                            ---------------------------process ended'\\\n",
    "         '------------------------------------                            \\n\\n\\n')\n",
    "                                                                \n",
    "# Let's show the resuls\n",
    "showResults(gauss_accuracy, time3, y_gauss,'SVM gaussian kernel')"
   ]
  },
  {
   "cell_type": "markdown",
   "metadata": {},
   "source": [
    "<h3>3) Comparison of the three svm kernels:</h3>"
   ]
  },
  {
   "cell_type": "markdown",
   "metadata": {},
   "source": [
    "**We will compare all the metrics and plots one graph containing all the three ROC curves of the three SVM kernels :**\n",
    "\n",
    "```python\n",
    "# we will just call the function :\n",
    "def compare_kernels()\n",
    "\n",
    "```"
   ]
  },
  {
   "cell_type": "code",
   "execution_count": 279,
   "metadata": {},
   "outputs": [
    {
     "name": "stdout",
     "output_type": "stream",
     "text": [
      "------------------------------------------------ Comparison -----------------------------------------------------\n",
      "\n",
      "\n",
      "    metrice      Linear kernel polynomial kernel gaussian kernel\n",
      "---------------- ------------- ----------------- ---------------\n",
      "   training time           0ms               8ms             0ms\n",
      "                                                                \n",
      "      accuracy %        84.375            78.125         82.8125\n",
      "                                                                \n",
      "confusion matrix       [15  8]           [12  8]         [10 11]\n",
      "                       [ 2 39]           [ 6 38]         [ 0 43]\n",
      "                                                                \n",
      "        f1 score          0.82              0.74            0.77\n",
      "                                                                \n",
      "   roc_auc_score          0.80              0.73            0.74\n",
      "\n",
      "\n",
      "\n",
      "The Roc curves :\n",
      "\n"
     ]
    },
    {
     "data": {
      "image/png": "[encoded data removed]",
      "text/plain": [
       "<Figure size 432x288 with 1 Axes>"
      ]
     },
     "metadata": {
      "needs_background": "light"
     },
     "output_type": "display_data"
    }
   ],
   "source": [
    "compare_kernels()"
   ]
  },
  {
   "cell_type": "markdown",
   "metadata": {},
   "source": [
    "<h6>Conclusion :</h6>"
   ]
  },
  {
   "cell_type": "markdown",
   "metadata": {},
   "source": [
    "- As you can see the **best svm kernel model is the one that used the linear kernel**, it performed very well on the test set as it has high accuracy as well as a high f1 score. \n",
    "\n",
    "- If you see the Roc curve you will notice that the orange curve is way above the blue dashed curve, this is why we got a high ROC score.\n",
    "\n",
    "- We will choose the **linear kernel**."
   ]
  },
  {
   "cell_type": "markdown",
   "metadata": {},
   "source": [
    "<h3>4) The most accurate svm kernel is the linear kernel:</h3>\n",
    "\n",
    "```python\n",
    "# ust call the function :\n",
    "def best_kernel(\"linear kernel\"), \n",
    "#we give it the parameter \"linear kernel\" as it's it's the most accurate.\n",
    "\n",
    "```"
   ]
  },
  {
   "cell_type": "code",
   "execution_count": 280,
   "metadata": {},
   "outputs": [
    {
     "name": "stdout",
     "output_type": "stream",
     "text": [
      "The choosen kernel : linear kernel\n",
      "the training : 0ms\n",
      "the accuracy : 84.0 %\n",
      "the f1 score : 0.82\n",
      "The roc_auc_score is : 0.8\n",
      "----------------------------------------\n",
      "The ROC curve :\n"
     ]
    },
    {
     "data": {
      "image/png": "[encoded data removed]",
      "text/plain": [
       "<Figure size 432x288 with 1 Axes>"
      ]
     },
     "metadata": {
      "needs_background": "light"
     },
     "output_type": "display_data"
    },
    {
     "name": "stdout",
     "output_type": "stream",
     "text": [
      "----------------------------------------\n",
      "The confusion matrix is  :\n"
     ]
    },
    {
     "data": {
      "image/png": "[encoded data removed]",
      "text/plain": [
       "<Figure size 432x288 with 2 Axes>"
      ]
     },
     "metadata": {
      "needs_background": "light"
     },
     "output_type": "display_data"
    }
   ],
   "source": [
    "best_kernel('linear kernel')"
   ]
  },
  {
   "cell_type": "markdown",
   "metadata": {},
   "source": [
    "<h3>5) Factors affecting performances of studens using SVM classifer :</h3>"
   ]
  },
  {
   "cell_type": "markdown",
   "metadata": {},
   "source": [
    "- Before starting extracting factors affecting student performance let's talk about what a svm hypothesis look like :\n",
    "\n",
    "$$h_{\\theta}(x) = \n",
    "\\begin{cases}\n",
    "      1 & if& \\theta^{T}.x > 0\\\\\n",
    "      0 & &\\text{otherwise}\n",
    "    \\end{cases} $$\n",
    "    \n",
    "In our problem $h_{\\theta}(x) = 1$ means that the student that has the given informations x passed the exam.\n",
    "  \n",
    "Where x is our feature vector and $\\theta$ is parameter learned when we called :\n",
    "```python  \n",
    "def ourClassifier.fit(Input_train, Output_train)\n",
    "\n",
    "```\n",
    "If you don't understand what is x, here it is :$x = \\begin{bmatrix}\n",
    "           school \\\\\n",
    "           age \\\\\n",
    "           address \\\\\n",
    "           \\vdots \\\\\n",
    "           absences\n",
    "         \\end{bmatrix}\n",
    "$\n",
    "but do not forget that we've already numerized those values. <br><br>So $h_{\\theta}(x) = \\theta_{1}.school+\\theta_{2}.age + \\theta_{3}.address + ...\\theta_{1}.absences$. <br><br>\n",
    "This is a linear hypothesis of our features as we used a linear kernel. \n",
    "\n",
    "So if we want to predict an output of an input x we simply calculate $h_{\\theta}(x)$ and see if it's grather than 0 or not.\n",
    "\n",
    "We can extract this $\\theta$ vector and see what components of this vector decide wheather of not $h_{\\theta}(x)$ will be grather than 0 or not.\n",
    "\n",
    "Let's explain how we will be able to know what factor for example will help students pass the final exam: \n",
    "\n",
    "- Suppose we have a hypothesis $h_{\\theta}(x) = \\theta_{1}.x_{1} + \\theta_{2}.x_{2}$. If $\\theta_{1}$ is grather, than 0 than a small positive change in $x_{1}$ will cause the value of $h_{\\theta}(x)$ to rise, so the factor that affect our feature vector to belong to the positive class, y = 1, is simply $\\theta_{1}$. But we have to extract also the factors affecting the negative class, y = 0. Simply, negative factors corresponding to the negative svm coefficients as they will cause the value of $h_{\\theta}(x)$ to decrease.\n",
    "\n",
    "\n",
    "We will do this by calling the following function :\n",
    "\n",
    "```python\n",
    "def factors(array, K, max_or_min, df)\n",
    "```\n",
    "\n",
    "Where :\n",
    "- array is the $\\theta$ components : $\\theta_{1},\\theta_{2},...,\\theta_{n}$ where n is the number of features in x, in our case n = 30 .\n",
    "- K : how many factors do we want\n",
    "- max_or_min : min for negative class, max for positive class\n",
    "- df : our numerised dataset.\n",
    "\n",
    "\n",
    "<h4>The procedure :</h4>\n",
    "\n",
    "- 1) get svm coefficients : $\\theta_{1}, \\theta_{2}, \\theta_{3}, ... ,\\theta_{n}$ by simply calling :\n",
    "```python\n",
    "    def coefs = classifier.coef_\n",
    "```\n",
    "- 2) convert those coefficients to understandable string. Example : $Fjob ---> Father's job$. To do that, just call :\n",
    "```python\n",
    "    def column_to_string(factors(coefs, K, minORmax, df),minORmax)\n",
    "```\n",
    "- <span style='color:red'>**Note that passing from svm coefficients to dataset column names is handled by** </span>:\n",
    "```python\n",
    "    def factors(...)\n",
    "    # this function is used as parameter for\n",
    "    def column_to_string(factors(...),minORmax)\n",
    "    ...\n",
    "```\n",
    "\n",
    "    where **minORmax** : <br> \n",
    "    - '**min**' if we want factors leading students to failure\n",
    "    - '**max**' if wa want factors helping students to success  \n",
    "\n"
   ]
  },
  {
   "cell_type": "markdown",
   "metadata": {},
   "source": [
    "<h4 style='color:red'>Let's test our function :</h4>\n",
    "    \n",
    "    - Let's take three factors for two classes:"
   ]
  },
  {
   "cell_type": "code",
   "execution_count": 283,
   "metadata": {},
   "outputs": [
    {
     "name": "stdout",
     "output_type": "stream",
     "text": [
      "-----------------------------------------------------------------------------------\n",
      "Factors helping students succeed :\n",
      "father's education\n",
      "guardian\n",
      "wants to take higher education\n",
      "studytime\n",
      "father's job\n",
      "-----------------------------------------------------------------------------------\n",
      "-----------------------------------------------------------------------------------\n",
      "Factors leading students to failure\n",
      "age\n",
      "health\n",
      "going out with friends\n",
      "absences\n",
      "failures\n"
     ]
    }
   ],
   "source": [
    "coefs = linear_clf.coef_\n",
    "column_to_string(factors(coefs, 5, 'max', df),'max')\n",
    "column_to_string(factors(coefs, 5, 'min', df), 'min')"
   ]
  },
  {
   "cell_type": "markdown",
   "metadata": {},
   "source": [
    "<h3> 6) Conclusion :</h3><br>\n",
    "\n",
    "- 1) For **<span style='color:red'>positive impact</span>**, it seems that the factors helping students succeed: <br>\n",
    "    \n",
    "   - **Father's education** : if the father has a higher education, he will help his children in their studies so that they do not struggle for a long time with their problems.\n",
    "     \n",
    "   - **Guardian** : This instance takes three values: 0,1 and 2 and 2 refers to 'other', we conclude than if the guardian is neither mother nor father than the student has a big chance to succeed, but this just the result of our classifer, it is difficult to judge that.\n",
    "    \n",
    "   - **Wants to take higher education** : Students who take higher education seems to be motivated and having goals to achieve.\n",
    "    \n",
    "   - **Study time** : This is an import thing to keep in mind, students need to spend many hours studying, but this depends on many things such as the subject, timetable ...\n",
    "    \n",
    "   - **Father's job** : If the father has a good career, then of course he will fulfill the needs of their children.\n",
    "    \n",
    "<br><br>\n",
    "- 2) For **<span style='color:red'>negative impact</span>**, it seems that the factors affecting students are: <br>\n",
    "    \n",
    "    - **Age** : It is difficult to judge that the age is a negative factor, we do not have a big dataset to generalize to new datasets, but we will assume it's a negative factor for the two choosen portuguese schools.\n",
    "    \n",
    "    - **Health** : This is can not be taken into consideration, we can not say that students having good health fail in the exams, but we will assume again it's a negative factor for the two choosen portuguese schools.\n",
    "    \n",
    "    - **Going out with friends** : going out with friends helps relieve stress, but sometimes if the students spend a lot of time outside the home this will definitely affect their studies.\n",
    "    \n",
    "    - **Absences** : Students who missed classes will find it difficult to take the exams.\n",
    "    \n",
    "    - **Failures** : Having a lot of features is an indication of a lack of good exam preparations.\n",
    "    \n",
    "\n",
    "\n",
    "    \n",
    "<h6>Small conclusion on factors extraction:</h6>\n",
    "\n",
    "- For positive impacts the classifier managed to give reasonable factors except the guardian factor, but if we see the negative factors, two of them seems to be not right,**Age** and **Health**, I think those isn't quit good factors to take into consideration if we want to generalize, but as we've said we will assume that those are a negative factors, but we can say also it is a problem of lack of informations, 649 instances isn't quit big, we will assume that is convenient for the two chosen school, but if we see other factors it is indeed a good results."
   ]
  },
  {
   "cell_type": "markdown",
   "metadata": {},
   "source": [
    "# Comparison of the three algorithms"
   ]
  },
  {
   "cell_type": "code",
   "execution_count": null,
   "metadata": {},
   "outputs": [],
   "source": []
  },
  {
   "cell_type": "code",
   "execution_count": null,
   "metadata": {},
   "outputs": [],
   "source": []
  },
  {
   "cell_type": "code",
   "execution_count": null,
   "metadata": {},
   "outputs": [],
   "source": []
  },
  {
   "cell_type": "code",
   "execution_count": null,
   "metadata": {},
   "outputs": [],
   "source": []
  },
  {
   "cell_type": "code",
   "execution_count": null,
   "metadata": {},
   "outputs": [],
   "source": []
  },
  {
   "cell_type": "code",
   "execution_count": null,
   "metadata": {},
   "outputs": [],
   "source": []
  }
 ],
 "metadata": {
  "kernelspec": {
   "display_name": "Python 3",
   "language": "python",
   "name": "python3"
  },
  "language_info": {
   "codemirror_mode": {
    "name": "ipython",
    "version": 3
   },
   "file_extension": ".py",
   "mimetype": "text/x-python",
   "name": "python",
   "nbconvert_exporter": "python",
   "pygments_lexer": "ipython3",
   "version": "3.8.3"
  }
 },
 "nbformat": 4,
 "nbformat_minor": 4
}
