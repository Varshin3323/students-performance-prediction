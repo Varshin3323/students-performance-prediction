{
 "cells": [
  {
   "cell_type": "markdown",
   "metadata": {},
   "source": [
    "# Students performance and difficulties prediction\n",
    "\n",
    "In this notebook, we will:\n",
    "\n",
    "- Predict whether or not a student will pass the final exam based on certain information given\n",
    "- Compare the three learning algorithms\n",
    "- Find out what most affects student achievement\n",
    "- Find the best algorithm with high accuracy\n",
    "\n",
    "We will be using three learning algorithms:\n",
    "\n",
    "- Logistic regression\n",
    "- Supported vector machine\n",
    "- KNN"
   ]
  },
  {
   "cell_type": "markdown",
   "metadata": {},
   "source": [
    "# Reading data"
   ]
  },
  {
   "cell_type": "code",
   "execution_count": 1,
   "metadata": {},
   "outputs": [],
   "source": [
    "import numpy as np\n",
    "import pandas as pd\n",
    "import matplotlib.pyplot as plt\n",
    "import time\n",
    "from sklearn.linear_model import LogisticRegression\n",
    "from sklearn.neighbors import KNeighborsClassifier\n",
    "from sklearn.svm import SVC\n",
    "from sklearn.model_selection import train_test_split\n",
    "from sklearn.metrics import confusion_matrix, roc_curve, accuracy_score, f1_score\n",
    "from astropy.table import Table\n",
    "\n",
    "\n",
    "df = pd.read_csv('student-data.csv')"
   ]
  },
  {
   "cell_type": "markdown",
   "metadata": {},
   "source": [
    "# Data"
   ]
  },
  {
   "cell_type": "markdown",
   "metadata": {},
   "source": [
    "**Before process the data let's describe it briefly:**\n",
    "- Source : **Paulo Cortez, University of Minho, GuimarÃ£es, Portugal**, http://www3.dsi.uminho.pt/pcortez\n",
    "\n",
    "- This data approach student achievement in secondary education of two Portuguese schools.\n",
    "\n",
    "- The shape of our data set is **(395 rows × 31 columns)**.\n",
    "\n",
    "- **No missing** values in the data.\n",
    "\n",
    "- The data attributes **include demographic**, social and school related features and it was collected by using school reports and questionnaires.\n",
    "\n",
    "- **The last column tell us whether a student passed the final exam or not**.\n",
    "\n",
    "- The dataset is taken from : https://archive.ics.uci.edu/ml/datasets/student+performance"
   ]
  },
  {
   "cell_type": "markdown",
   "metadata": {},
   "source": [
    "**Now let's explain every column in the dataframe**\n",
    "- `school` : student's school (binary: \"GP\" or \"MS\")\n",
    "- `sex` : student's sex (binary: \"F\" - female or \"M\" - male)\n",
    "- `age` : student's age (numeric: from 15 to 22)\n",
    "- `address` : student's home address type (binary: \"U\" - urban or \"R\" - rural)\n",
    "- `famsize` : family size (binary: \"LE3\" - less or equal to 3 or \"GT3\" - greater than 3)\n",
    "- `Pstatus` : parent's cohabitation status (binary: \"T\" - living together or \"A\" - apart)\n",
    "- `Medu` : mother's education (numeric: 0 - none,  1 - primary education (4th grade), 2 - 5th to 9th grade, 3 - secondary education or 4 - higher education)\n",
    "- `Fedu` : father's education (numeric: 0 - none,  1 - primary education (4th grade), 2 - 5th to 9th grade, 3 - secondary education or 4 - higher education)\n",
    "- `Mjob` : mother's job (nominal: \"teacher\", \"health\" care related, civil \"services\" (e.g. administrative or police), \"at_home\" or \"other\")\n",
    "- `Fjob` : father's job (nominal: \"teacher\", \"health\" care related, civil \"services\" (e.g. administrative or police), \"at_home\" or \"other\")\n",
    "- `reason` : reason to choose this school (nominal: close to \"home\", school \"reputation\", \"course\" preference or \"other\")\n",
    "- `guardian` : student's guardian (nominal: \"mother\", \"father\" or \"other\")\n",
    "- `traveltime` : home to school travel time (numeric: 1 - <15 min., 2 - 15 to 30 min., 3 - 30 min. to 1 hour, or 4 - >1 hour)\n",
    "- `studytime` : weekly study time (numeric: 1 - <2 hours, 2 - 2 to 5 hours, 3 - 5 to 10 hours, or 4 - >10 hours)\n",
    "- `failures` : number of past class failures (numeric: n if 1<=n<3, else 4)\n",
    "- `schoolsup` : extra educational support (binary: yes or no)\n",
    "- `famsup` : family educational support (binary: yes or no)\n",
    "- `paid` : extra paid classes within the course subject (Math or Portuguese) (binary: yes or no)\n",
    "- `activities` : extra-curricular activities (binary: yes or no)\n",
    "- `nursery` : attended nursery school (binary: yes or no)\n",
    "- `higher` : wants to take higher education (binary: yes or no)\n",
    "- `internet` : Internet access at home (binary: yes or no)\n",
    "- `romantic` : with a romantic relationship (binary: yes or no)\n",
    "- `famrel` : quality of family relationships (numeric: from 1 - very bad to 5 - excellent)\n",
    "- `freetime` : free time after school (numeric: from 1 - very low to 5 - very high)\n",
    "- `goout` : going out with friends (numeric: from 1 - very low to 5 - very high)\n",
    "- `Dalc` : workday alcohol consumption (numeric: from 1 - very low to 5 - very high)\n",
    "- `Walc` : weekend alcohol consumption (numeric: from 1 - very low to 5 - very high)\n",
    "- `health` : current health status (numeric: from 1 - very bad to 5 - very good)\n",
    "- `absences` : number of school absences (numeric: from 0 to 93)\n",
    "\n",
    "**The last column:**\n",
    "- `passed` : did the student pass the final exam (binary: yes or no)"
   ]
  },
  {
   "cell_type": "markdown",
   "metadata": {},
   "source": [
    "**Displaying the dataset**"
   ]
  },
  {
   "cell_type": "code",
   "execution_count": 2,
   "metadata": {},
   "outputs": [
    {
     "data": {
      "text/html": [
       "<div>\n",
       "<style scoped>\n",
       "    .dataframe tbody tr th:only-of-type {\n",
       "        vertical-align: middle;\n",
       "    }\n",
       "\n",
       "    .dataframe tbody tr th {\n",
       "        vertical-align: top;\n",
       "    }\n",
       "\n",
       "    .dataframe thead th {\n",
       "        text-align: right;\n",
       "    }\n",
       "</style>\n",
       "<table border=\"1\" class=\"dataframe\">\n",
       "  <thead>\n",
       "    <tr style=\"text-align: right;\">\n",
       "      <th></th>\n",
       "      <th>school</th>\n",
       "      <th>sex</th>\n",
       "      <th>age</th>\n",
       "      <th>address</th>\n",
       "      <th>famsize</th>\n",
       "      <th>Pstatus</th>\n",
       "      <th>Medu</th>\n",
       "      <th>Fedu</th>\n",
       "      <th>Mjob</th>\n",
       "      <th>Fjob</th>\n",
       "      <th>...</th>\n",
       "      <th>internet</th>\n",
       "      <th>romantic</th>\n",
       "      <th>famrel</th>\n",
       "      <th>freetime</th>\n",
       "      <th>goout</th>\n",
       "      <th>Dalc</th>\n",
       "      <th>Walc</th>\n",
       "      <th>health</th>\n",
       "      <th>absences</th>\n",
       "      <th>passed</th>\n",
       "    </tr>\n",
       "  </thead>\n",
       "  <tbody>\n",
       "    <tr>\n",
       "      <th>0</th>\n",
       "      <td>GP</td>\n",
       "      <td>F</td>\n",
       "      <td>18</td>\n",
       "      <td>U</td>\n",
       "      <td>GT3</td>\n",
       "      <td>A</td>\n",
       "      <td>4</td>\n",
       "      <td>4</td>\n",
       "      <td>at_home</td>\n",
       "      <td>teacher</td>\n",
       "      <td>...</td>\n",
       "      <td>no</td>\n",
       "      <td>no</td>\n",
       "      <td>4</td>\n",
       "      <td>3</td>\n",
       "      <td>4</td>\n",
       "      <td>1</td>\n",
       "      <td>1</td>\n",
       "      <td>3</td>\n",
       "      <td>6</td>\n",
       "      <td>no</td>\n",
       "    </tr>\n",
       "    <tr>\n",
       "      <th>1</th>\n",
       "      <td>GP</td>\n",
       "      <td>F</td>\n",
       "      <td>17</td>\n",
       "      <td>U</td>\n",
       "      <td>GT3</td>\n",
       "      <td>T</td>\n",
       "      <td>1</td>\n",
       "      <td>1</td>\n",
       "      <td>at_home</td>\n",
       "      <td>other</td>\n",
       "      <td>...</td>\n",
       "      <td>yes</td>\n",
       "      <td>no</td>\n",
       "      <td>5</td>\n",
       "      <td>3</td>\n",
       "      <td>3</td>\n",
       "      <td>1</td>\n",
       "      <td>1</td>\n",
       "      <td>3</td>\n",
       "      <td>4</td>\n",
       "      <td>no</td>\n",
       "    </tr>\n",
       "    <tr>\n",
       "      <th>2</th>\n",
       "      <td>GP</td>\n",
       "      <td>F</td>\n",
       "      <td>15</td>\n",
       "      <td>U</td>\n",
       "      <td>LE3</td>\n",
       "      <td>T</td>\n",
       "      <td>1</td>\n",
       "      <td>1</td>\n",
       "      <td>at_home</td>\n",
       "      <td>other</td>\n",
       "      <td>...</td>\n",
       "      <td>yes</td>\n",
       "      <td>no</td>\n",
       "      <td>4</td>\n",
       "      <td>3</td>\n",
       "      <td>2</td>\n",
       "      <td>2</td>\n",
       "      <td>3</td>\n",
       "      <td>3</td>\n",
       "      <td>10</td>\n",
       "      <td>yes</td>\n",
       "    </tr>\n",
       "    <tr>\n",
       "      <th>3</th>\n",
       "      <td>GP</td>\n",
       "      <td>F</td>\n",
       "      <td>15</td>\n",
       "      <td>U</td>\n",
       "      <td>GT3</td>\n",
       "      <td>T</td>\n",
       "      <td>4</td>\n",
       "      <td>2</td>\n",
       "      <td>health</td>\n",
       "      <td>services</td>\n",
       "      <td>...</td>\n",
       "      <td>yes</td>\n",
       "      <td>yes</td>\n",
       "      <td>3</td>\n",
       "      <td>2</td>\n",
       "      <td>2</td>\n",
       "      <td>1</td>\n",
       "      <td>1</td>\n",
       "      <td>5</td>\n",
       "      <td>2</td>\n",
       "      <td>yes</td>\n",
       "    </tr>\n",
       "    <tr>\n",
       "      <th>4</th>\n",
       "      <td>GP</td>\n",
       "      <td>F</td>\n",
       "      <td>16</td>\n",
       "      <td>U</td>\n",
       "      <td>GT3</td>\n",
       "      <td>T</td>\n",
       "      <td>3</td>\n",
       "      <td>3</td>\n",
       "      <td>other</td>\n",
       "      <td>other</td>\n",
       "      <td>...</td>\n",
       "      <td>no</td>\n",
       "      <td>no</td>\n",
       "      <td>4</td>\n",
       "      <td>3</td>\n",
       "      <td>2</td>\n",
       "      <td>1</td>\n",
       "      <td>2</td>\n",
       "      <td>5</td>\n",
       "      <td>4</td>\n",
       "      <td>yes</td>\n",
       "    </tr>\n",
       "  </tbody>\n",
       "</table>\n",
       "<p>5 rows × 31 columns</p>\n",
       "</div>"
      ],
      "text/plain": [
       "  school sex  age address famsize Pstatus  Medu  Fedu     Mjob      Fjob  ...  \\\n",
       "0     GP   F   18       U     GT3       A     4     4  at_home   teacher  ...   \n",
       "1     GP   F   17       U     GT3       T     1     1  at_home     other  ...   \n",
       "2     GP   F   15       U     LE3       T     1     1  at_home     other  ...   \n",
       "3     GP   F   15       U     GT3       T     4     2   health  services  ...   \n",
       "4     GP   F   16       U     GT3       T     3     3    other     other  ...   \n",
       "\n",
       "  internet romantic  famrel  freetime  goout Dalc Walc health absences passed  \n",
       "0       no       no       4         3      4    1    1      3        6     no  \n",
       "1      yes       no       5         3      3    1    1      3        4     no  \n",
       "2      yes       no       4         3      2    2    3      3       10    yes  \n",
       "3      yes      yes       3         2      2    1    1      5        2    yes  \n",
       "4       no       no       4         3      2    1    2      5        4    yes  \n",
       "\n",
       "[5 rows x 31 columns]"
      ]
     },
     "execution_count": 2,
     "metadata": {},
     "output_type": "execute_result"
    }
   ],
   "source": [
    "df.iloc[0:5]"
   ]
  },
  {
   "cell_type": "markdown",
   "metadata": {},
   "source": [
    "**Data processing**"
   ]
  },
  {
   "cell_type": "code",
   "execution_count": 3,
   "metadata": {},
   "outputs": [],
   "source": [
    "# mapping strings to numeric values:\n",
    "def numerical_data():\n",
    "    df['school'] = df['school'].map({'GP': 0, 'MS': 1})\n",
    "    df['sex'] = df['sex'].map({'M': 0, 'F': 1})\n",
    "    df['address'] = df['address'].map({'U': 0, 'R': 1})\n",
    "    df['famsize'] = df['famsize'].map({'LE3': 0, 'GT3': 1})\n",
    "    df['Pstatus'] = df['Pstatus'].map({'T': 0, 'A': 1})\n",
    "    df['Mjob'] = df['Mjob'].map({'teacher': 0, 'health': 1, 'services': 2, 'at_home': 3, 'other': 4})\n",
    "    df['Fjob'] = df['Fjob'].map({'teacher': 0, 'health': 1, 'services': 2, 'at_home': 3, 'other': 4})\n",
    "    df['reason'] = df['reason'].map({'home': 0, 'reputation': 1, 'course': 2, 'other': 3})\n",
    "    df['guardian'] = df['guardian'].map({'mother': 0, 'father': 1, 'other': 2})\n",
    "    df['schoolsup'] = df['schoolsup'].map({'no': 0, 'yes': 1})\n",
    "    df['famsup'] = df['famsup'].map({'no': 0, 'yes': 1})\n",
    "    df['paid'] = df['paid'].map({'no': 0, 'yes': 1})\n",
    "    df['activities'] = df['activities'].map({'no': 0, 'yes': 1})\n",
    "    df['nursery'] = df['nursery'].map({'no': 0, 'yes': 1})\n",
    "    df['higher'] = df['higher'].map({'no': 0, 'yes': 1})\n",
    "    df['internet'] = df['internet'].map({'no': 0, 'yes': 1})\n",
    "    df['romantic'] = df['romantic'].map({'no': 0, 'yes' : 1})\n",
    "    df['passed'] = df['passed'].map({'no': 0, 'yes': 1})\n",
    "    # reorder dataframe columns :\n",
    "    col = df['passed']\n",
    "    del df['passed']\n",
    "    df['passed'] = col\n",
    "\n",
    "    \n",
    "# feature scaling will allow the algorithm to converge faster, large data will have same scal\n",
    "def feature_scaling(df):\n",
    "    for i in df:\n",
    "        col = df[i]\n",
    "        # let's choose columns that have large values\n",
    "        if(np.max(col)>6):\n",
    "            Max = max(col)\n",
    "            Min = min(col)\n",
    "            mean = np.mean(col)\n",
    "            col  = (col-mean)/(Max)\n",
    "            df[i] = col\n",
    "        elif(np.max(col)<6):\n",
    "            col = (col-np.min(col))\n",
    "            col /= np.max(col)\n",
    "            df[i] = col\n",
    "        \n",
    "# This function will transform dataframe to a numpy array and split it\n",
    "def split(df,test_size):\n",
    "    data = df.to_numpy()\n",
    "    n = data.shape[1]\n",
    "    x = data[:,0:n-1]\n",
    "    y = data[:,n-1]\n",
    "    X_train,X_test,y_train,y_test = train_test_split(x,y,test_size=test_size, random_state=0)\n",
    "    return X_train,X_test,y_train,y_test"
   ]
  },
  {
   "cell_type": "markdown",
   "metadata": {},
   "source": [
    "**digitization of values**"
   ]
  },
  {
   "cell_type": "code",
   "execution_count": 4,
   "metadata": {},
   "outputs": [
    {
     "data": {
      "text/html": [
       "<div>\n",
       "<style scoped>\n",
       "    .dataframe tbody tr th:only-of-type {\n",
       "        vertical-align: middle;\n",
       "    }\n",
       "\n",
       "    .dataframe tbody tr th {\n",
       "        vertical-align: top;\n",
       "    }\n",
       "\n",
       "    .dataframe thead th {\n",
       "        text-align: right;\n",
       "    }\n",
       "</style>\n",
       "<table border=\"1\" class=\"dataframe\">\n",
       "  <thead>\n",
       "    <tr style=\"text-align: right;\">\n",
       "      <th></th>\n",
       "      <th>school</th>\n",
       "      <th>sex</th>\n",
       "      <th>age</th>\n",
       "      <th>address</th>\n",
       "      <th>famsize</th>\n",
       "      <th>Pstatus</th>\n",
       "      <th>Medu</th>\n",
       "      <th>Fedu</th>\n",
       "      <th>Mjob</th>\n",
       "      <th>Fjob</th>\n",
       "      <th>...</th>\n",
       "      <th>internet</th>\n",
       "      <th>romantic</th>\n",
       "      <th>famrel</th>\n",
       "      <th>freetime</th>\n",
       "      <th>goout</th>\n",
       "      <th>Dalc</th>\n",
       "      <th>Walc</th>\n",
       "      <th>health</th>\n",
       "      <th>absences</th>\n",
       "      <th>passed</th>\n",
       "    </tr>\n",
       "  </thead>\n",
       "  <tbody>\n",
       "    <tr>\n",
       "      <th>0</th>\n",
       "      <td>0</td>\n",
       "      <td>1</td>\n",
       "      <td>18</td>\n",
       "      <td>0</td>\n",
       "      <td>1</td>\n",
       "      <td>1</td>\n",
       "      <td>4</td>\n",
       "      <td>4</td>\n",
       "      <td>3</td>\n",
       "      <td>0</td>\n",
       "      <td>...</td>\n",
       "      <td>0</td>\n",
       "      <td>0</td>\n",
       "      <td>4</td>\n",
       "      <td>3</td>\n",
       "      <td>4</td>\n",
       "      <td>1</td>\n",
       "      <td>1</td>\n",
       "      <td>3</td>\n",
       "      <td>6</td>\n",
       "      <td>0</td>\n",
       "    </tr>\n",
       "    <tr>\n",
       "      <th>1</th>\n",
       "      <td>0</td>\n",
       "      <td>1</td>\n",
       "      <td>17</td>\n",
       "      <td>0</td>\n",
       "      <td>1</td>\n",
       "      <td>0</td>\n",
       "      <td>1</td>\n",
       "      <td>1</td>\n",
       "      <td>3</td>\n",
       "      <td>4</td>\n",
       "      <td>...</td>\n",
       "      <td>1</td>\n",
       "      <td>0</td>\n",
       "      <td>5</td>\n",
       "      <td>3</td>\n",
       "      <td>3</td>\n",
       "      <td>1</td>\n",
       "      <td>1</td>\n",
       "      <td>3</td>\n",
       "      <td>4</td>\n",
       "      <td>0</td>\n",
       "    </tr>\n",
       "    <tr>\n",
       "      <th>2</th>\n",
       "      <td>0</td>\n",
       "      <td>1</td>\n",
       "      <td>15</td>\n",
       "      <td>0</td>\n",
       "      <td>0</td>\n",
       "      <td>0</td>\n",
       "      <td>1</td>\n",
       "      <td>1</td>\n",
       "      <td>3</td>\n",
       "      <td>4</td>\n",
       "      <td>...</td>\n",
       "      <td>1</td>\n",
       "      <td>0</td>\n",
       "      <td>4</td>\n",
       "      <td>3</td>\n",
       "      <td>2</td>\n",
       "      <td>2</td>\n",
       "      <td>3</td>\n",
       "      <td>3</td>\n",
       "      <td>10</td>\n",
       "      <td>1</td>\n",
       "    </tr>\n",
       "    <tr>\n",
       "      <th>3</th>\n",
       "      <td>0</td>\n",
       "      <td>1</td>\n",
       "      <td>15</td>\n",
       "      <td>0</td>\n",
       "      <td>1</td>\n",
       "      <td>0</td>\n",
       "      <td>4</td>\n",
       "      <td>2</td>\n",
       "      <td>1</td>\n",
       "      <td>2</td>\n",
       "      <td>...</td>\n",
       "      <td>1</td>\n",
       "      <td>1</td>\n",
       "      <td>3</td>\n",
       "      <td>2</td>\n",
       "      <td>2</td>\n",
       "      <td>1</td>\n",
       "      <td>1</td>\n",
       "      <td>5</td>\n",
       "      <td>2</td>\n",
       "      <td>1</td>\n",
       "    </tr>\n",
       "    <tr>\n",
       "      <th>4</th>\n",
       "      <td>0</td>\n",
       "      <td>1</td>\n",
       "      <td>16</td>\n",
       "      <td>0</td>\n",
       "      <td>1</td>\n",
       "      <td>0</td>\n",
       "      <td>3</td>\n",
       "      <td>3</td>\n",
       "      <td>4</td>\n",
       "      <td>4</td>\n",
       "      <td>...</td>\n",
       "      <td>0</td>\n",
       "      <td>0</td>\n",
       "      <td>4</td>\n",
       "      <td>3</td>\n",
       "      <td>2</td>\n",
       "      <td>1</td>\n",
       "      <td>2</td>\n",
       "      <td>5</td>\n",
       "      <td>4</td>\n",
       "      <td>1</td>\n",
       "    </tr>\n",
       "  </tbody>\n",
       "</table>\n",
       "<p>5 rows × 31 columns</p>\n",
       "</div>"
      ],
      "text/plain": [
       "   school  sex  age  address  famsize  Pstatus  Medu  Fedu  Mjob  Fjob  ...  \\\n",
       "0       0    1   18        0        1        1     4     4     3     0  ...   \n",
       "1       0    1   17        0        1        0     1     1     3     4  ...   \n",
       "2       0    1   15        0        0        0     1     1     3     4  ...   \n",
       "3       0    1   15        0        1        0     4     2     1     2  ...   \n",
       "4       0    1   16        0        1        0     3     3     4     4  ...   \n",
       "\n",
       "   internet  romantic  famrel  freetime  goout  Dalc  Walc  health  absences  \\\n",
       "0         0         0       4         3      4     1     1       3         6   \n",
       "1         1         0       5         3      3     1     1       3         4   \n",
       "2         1         0       4         3      2     2     3       3        10   \n",
       "3         1         1       3         2      2     1     1       5         2   \n",
       "4         0         0       4         3      2     1     2       5         4   \n",
       "\n",
       "   passed  \n",
       "0       0  \n",
       "1       0  \n",
       "2       1  \n",
       "3       1  \n",
       "4       1  \n",
       "\n",
       "[5 rows x 31 columns]"
      ]
     },
     "execution_count": 4,
     "metadata": {},
     "output_type": "execute_result"
    }
   ],
   "source": [
    "# All values in numerical after calling numerical_data() function\n",
    "numerical_data()\n",
    "df.iloc[0:5]"
   ]
  },
  
  
  {
   "cell_type": "markdown",
   "metadata": {},
   "source": [
    "**Data visualization**"
   ]
  },
  
  
  {
   "cell_type": "markdown",
   "metadata": {},
   "source": [
    "##### 1) data inspection"
   ]
  },
  {
   "cell_type": "code",
   "execution_count": 5,
   "metadata": {},
   "outputs": [
    {
     "data": {
      "text/plain": [
       "(395, 31)"
      ]
     },
     "execution_count": 5,
     "metadata": {},
     "output_type": "execute_result"
    }
   ],
   "source": [
    "df.shape"
   ]
  },
  {
   "cell_type": "code",
   "execution_count": 6,
   "metadata": {},
   "outputs": [
    {
     "data": {
      "text/plain": [
       "(395, 31)"
      ]
     },
     "execution_count": 6,
     "metadata": {},
     "output_type": "execute_result"
    }
   ],
   "source": [
    "df.dropna().shape # their is no null value \"fortunately:)\""
   ]
  },
  {
   "cell_type": "code",
   "execution_count": 7,
   "metadata": {},
   "outputs": [
    {
     "data": {
      "text/plain": [
       "Index(['school', 'sex', 'age', 'address', 'famsize', 'Pstatus', 'Medu', 'Fedu',\n",
       "       'Mjob', 'Fjob', 'reason', 'guardian', 'traveltime', 'studytime',\n",
       "       'failures', 'schoolsup', 'famsup', 'paid', 'activities', 'nursery',\n",
       "       'higher', 'internet', 'romantic', 'famrel', 'freetime', 'goout', 'Dalc',\n",
       "       'Walc', 'health', 'absences', 'passed'],\n",
       "      dtype='object')"
      ]
     },
     "execution_count": 7,
     "metadata": {},
     "output_type": "execute_result"
    }
   ],
   "source": [
    "df.columns"
   ]
  },
  
  
  
  
  
  
  {
   "cell_type": "markdown",
   "metadata": {},
   "source": [
    "##### 2) Now let's visualise the data and look deeper into each features"
   ]
  },
  {
   "cell_type": "code",
   "execution_count": null,
   "metadata": {},
   "outputs": [],
   "source": [
    "features=['school', 'sex', 'age', 'address', 'famsize', 'Pstatus', 'Medu', 'Fedu',\n",
    "       'Mjob', 'Fjob', 'reason', 'guardian', 'traveltime', 'studytime',\n",
    "       'failures', 'schoolsup', 'famsup', 'paid', 'activities', 'nursery',\n",
    "       'higher', 'internet', 'romantic', 'famrel', 'freetime', 'goout', 'Dalc',\n",
    "       'Walc', 'health', 'absences']"
   ]
  },
  {
   "cell_type": "markdown",
   "metadata": {},
   "source": [
    "a) boxplot:"
   ]
  },
  {
   "cell_type": "code",
   "execution_count": 275,
   "metadata": {},
   "outputs": [
    {
     "data": {
      "text/plain": [
       "<AxesSubplot:xlabel='passed', ylabel='goout'>"
      ]
     },
     "execution_count": 275,
     "metadata": {},
     "output_type": "execute_result"
    },
    {
     "data": {
      "image/png": "[encoded data removed]",
      "text/plain": [
       "<Figure size 432x288 with 1 Axes>"
      ]
     },
     "metadata": {
      "needs_background": "light"
     },
     "output_type": "display_data"
    }
   ],
   "source": [
    "sns.boxplot(x=\"passed\", y=\"goout\",  data=df)"
   ]
  },
  {
   "cell_type": "code",
   "execution_count": null,
   "metadata": {},
   "outputs": [],
   "source": [
    "# it seems that even people with low number of gout hours failed the exam"
   ]
  },
  {
   "cell_type": "markdown",
   "metadata": {},
   "source": [
    " b) Distribution of categorical features"
   ]
  },
  {
   "cell_type": "markdown",
   "metadata": {},
   "source": [
    "     -for school Distribution"
   ]
  },
  {
   "cell_type": "code",
   "execution_count": 276,
   "metadata": {},
   "outputs": [
    {
     "data": {
      "text/plain": [
       "array(['GP', 'MS'], dtype=object)"
      ]
     },
     "execution_count": 276,
     "metadata": {},
     "output_type": "execute_result"
    }
   ],
   "source": [
    "df[\"school\"].unique()"
   ]
  },
  {
   "cell_type": "code",
   "execution_count": 277,
   "metadata": {},
   "outputs": [
    {
     "data": {
      "image/png": "[encoded data removed]",
      "text/plain": [
       "<Figure size 432x288 with 1 Axes>"
      ]
     },
     "metadata": {
      "needs_background": "light"
     },
     "output_type": "display_data"
    }
   ],
   "source": [
    "f,fx = plt.subplots() \n",
    "figure = sns.countplot(x = 'school', data=df, order=['GP','MS'])\n",
    "fx = fx.set(ylabel=\"Count\", xlabel=\"school\")\n",
    "figure.grid(False)\n",
    "plt.title('School Distribution')\n",
    "plt.savefig('school.png', bbox_inches='tight')\n",
    "\n",
    "    "
   ]
  },
  {
   "cell_type": "markdown",
   "metadata": {},
   "source": [
    "      -for gender Distribution"
   ]
  },
  {
   "cell_type": "code",
   "execution_count": 278,
   "metadata": {},
   "outputs": [
    {
     "data": {
      "image/png": "[encoded data removed]",
      "text/plain": [
       "<Figure size 432x288 with 1 Axes>"
      ]
     },
     "metadata": {
      "needs_background": "light"
     },
     "output_type": "display_data"
    }
   ],
   "source": [
    "f, fx = plt.subplots()\n",
    "figure = sns.countplot(x = 'sex', data=df, order=['M','F'])\n",
    "fx = fx.set(ylabel=\"Count\", xlabel=\"gender\")\n",
    "figure.grid(False)\n",
    "plt.title('Gender Distribution')\n",
    "plt.savefig('gender.png', bbox_inches='tight')"
   ]
  },
  {
   "cell_type": "markdown",
   "metadata": {},
   "source": [
    "     -for Address Distribution"
   ]
  },
  {
   "cell_type": "code",
   "execution_count": 279,
   "metadata": {},
   "outputs": [
    {
     "data": {
      "image/png": "[encoded data removed]",
      "text/plain": [
       "<Figure size 432x288 with 1 Axes>"
      ]
     },
     "metadata": {
      "needs_background": "light"
     },
     "output_type": "display_data"
    }
   ],
   "source": [
    "f, fx = plt.subplots()\n",
    "figure = sns.countplot(x = 'address', data=df, order=['U','R'])\n",
    "fx = fx.set(ylabel=\"Count\", xlabel=\"address\")\n",
    "figure.grid(False)\n",
    "plt.title('Address Distribution')\n",
    "plt.savefig('address_plot.png', bbox_inches='tight')"
   ]
  },
  {
   "cell_type": "markdown",
   "metadata": {},
   "source": [
    "    -for family Distribution"
   ]
  },
  {
   "cell_type": "code",
   "execution_count": 46,
   "metadata": {},
   "outputs": [
    {
     "data": {
      "text/plain": [
       "array([1, 0], dtype=int64)"
      ]
     },
     "execution_count": 46,
     "metadata": {},
     "output_type": "execute_result"
    }
   ],
   "source": [
    "df[\"famsize\"].unique()"
   ]
  },
  {
   "cell_type": "code",
   "execution_count": 280,
   "metadata": {},
   "outputs": [
    {
     "data": {
      "image/png": "[encoded data removed]",
      "text/plain": [
       "<Figure size 432x288 with 1 Axes>"
      ]
     },
     "metadata": {
      "needs_background": "light"
     },
     "output_type": "display_data"
    }
   ],
   "source": [
    "f, fx = plt.subplots()\n",
    "figure = sns.countplot(x = 'famsize', data=df, order=['GT3','LE3'])\n",
    "fx = fx.set(ylabel=\"Count\", xlabel=\"famsize\")\n",
    "figure.grid(False)\n",
    "plt.title('Family Distribution')\n",
    "plt.savefig('family_plot.png', bbox_inches='tight')"
   ]
  },
  {
   "cell_type": "markdown",
   "metadata": {},
   "source": [
    "          -Parents status Distribution"
   ]
  },
  {
   "cell_type": "code",
   "execution_count": 281,
   "metadata": {},
   "outputs": [
    {
     "data": {
      "image/png": "[encoded data removed]",
      "text/plain": [
       "<Figure size 432x288 with 1 Axes>"
      ]
     },
     "metadata": {
      "needs_background": "light"
     },
     "output_type": "display_data"
    }
   ],
   "source": [
    "f, fx = plt.subplots()\n",
    "figure = sns.countplot(x = 'Pstatus', data=df, order=['A','T'])\n",
    "fx = fx.set(ylabel=\"Count\", xlabel=\"status\")\n",
    "figure.grid(False)\n",
    "plt.title('Parents status Distribution')\n",
    "plt.savefig('Pstatus_plot.png', bbox_inches='tight')    "
   ]
  },
  {
   "cell_type": "markdown",
   "metadata": {},
   "source": [
    "     -School Support Distribution"
   ]
  },
  {
   "cell_type": "code",
   "execution_count": 282,
   "metadata": {},
   "outputs": [
    {
     "data": {
      "image/png": "[encoded data removed]",
      "text/plain": [
       "<Figure size 432x288 with 1 Axes>"
      ]
     },
     "metadata": {
      "needs_background": "light"
     },
     "output_type": "display_data"
    }
   ],
   "source": [
    "f, fx = plt.subplots()\n",
    "figure = sns.countplot(x = 'schoolsup', data=df, order=['yes','no'])\n",
    "fx = fx.set(ylabel=\"Count\", xlabel=\"School Support\")\n",
    "figure.grid(False)\n",
    "plt.title('School Support Distribution')\n",
    "plt.savefig('school_support_plot.png', bbox_inches='tight')"
   ]
  },
  {
   "cell_type": "markdown",
   "metadata": {},
   "source": [
    "    -Family Support Distribution"
   ]
  },
  {
   "cell_type": "code",
   "execution_count": 283,
   "metadata": {},
   "outputs": [
    {
     "data": {
      "image/png": "[encoded data removed]",
      "text/plain": [
       "<Figure size 432x288 with 1 Axes>"
      ]
     },
     "metadata": {
      "needs_background": "light"
     },
     "output_type": "display_data"
    }
   ],
   "source": [
    "f, fx = plt.subplots()\n",
    "figure = sns.countplot(x = 'famsup', data=df, order=['yes','no'])\n",
    "fx = fx.set(ylabel=\"Count\", xlabel=\"Family Support\")\n",
    "figure.grid(False)\n",
    "plt.title('Family Support Distribution')\n",
    "plt.savefig('Family_support_plot.png', bbox_inches='tight')"
   ]
  },
  {
   "cell_type": "markdown",
   "metadata": {},
   "source": [
    "    -for extra paid distribution"
   ]
  },
  {
   "cell_type": "code",
   "execution_count": 284,
   "metadata": {},
   "outputs": [
    {
     "data": {
      "image/png": "[encoded data removed]",
      "text/plain": [
       "<Figure size 432x288 with 1 Axes>"
      ]
     },
     "metadata": {
      "needs_background": "light"
     },
     "output_type": "display_data"
    }
   ],
   "source": [
    "f, fx = plt.subplots()\n",
    "figure = sns.countplot(x = 'paid', data=df, order=['yes','no'])\n",
    "fx = fx.set(ylabel=\"Count\", xlabel=\"extra paid classes\")\n",
    "figure.grid(False)\n",
    "plt.title('Extra paid classes Distribution')\n",
    "plt.savefig('paid_claases_plot.png', bbox_inches='tight')\n"
   ]
  },
  {
   "cell_type": "markdown",
   "metadata": {},
   "source": [
    "    - Students who want to take higher education Distribution"
   ]
  },
  {
   "cell_type": "code",
   "execution_count": 285,
   "metadata": {},
   "outputs": [
    {
     "data": {
      "image/png": "[encoded data removed]",
      "text/plain": [
       "<Figure size 432x288 with 1 Axes>"
      ]
     },
     "metadata": {
      "needs_background": "light"
     },
     "output_type": "display_data"
    }
   ],
   "source": [
    "f, fx = plt.subplots()\n",
    "figure = sns.countplot(x = 'higher', data=df, order=['yes','no'])\n",
    "fx = fx.set(ylabel=\"Count\", xlabel=\"wants to take higher education\")\n",
    "figure.grid(False)\n",
    "plt.title('Students who want to take higher education Distribution')\n",
    "plt.savefig('higher_education_plot.png', bbox_inches='tight')"
   ]
  },
  {
   "cell_type": "markdown",
   "metadata": {},
   "source": [
    "    -  internet Accessibility at home Distribution"
   ]
  },
  {
   "cell_type": "code",
   "execution_count": 286,
   "metadata": {},
   "outputs": [
    {
     "data": {
      "image/png": "[encoded data removed]",
      "text/plain": [
       "<Figure size 432x288 with 1 Axes>"
      ]
     },
     "metadata": {
      "needs_background": "light"
     },
     "output_type": "display_data"
    }
   ],
   "source": [
    "f, fx = plt.subplots()\n",
    "figure = sns.countplot(x = 'internet', data=df, order=['yes','no'])\n",
    "fx = fx.set(ylabel=\"Count\", xlabel=\"Internet access at home\")\n",
    "figure.grid(False)\n",
    "plt.title('Internet access at home Distribution')\n",
    "plt.savefig('school_support_plot.png', bbox_inches='tight')\n",
    "plt.savefig('internet_plot.png', bbox_inches='tight')\n"
   ]
  },
  {
   "cell_type": "markdown",
   "metadata": {},
   "source": [
    "       -Students with a romantic relationship Distribution"
   ]
  },
  {
   "cell_type": "code",
   "execution_count": 287,
   "metadata": {},
   "outputs": [
    {
     "data": {
      "image/png": "[encoded data removed]",
      "text/plain": [
       "<Figure size 432x288 with 1 Axes>"
      ]
     },
     "metadata": {
      "needs_background": "light"
     },
     "output_type": "display_data"
    }
   ],
   "source": [
    "f, fx = plt.subplots()\n",
    "figure = sns.countplot(x = 'romantic', data=df, order=['yes','no'])\n",
    "fx = fx.set(ylabel=\"Count\", xlabel=\"With a romantic relationship\")\n",
    "figure.grid(False)\n",
    "plt.title('Students with a romantic relationship Distribution')\n",
    "plt.savefig('rom_relationship_plot.png', bbox_inches='tight')"
   ]
  },
  {
   "cell_type": "markdown",
   "metadata": {},
   "source": [
    " c) Distribution of  features with multiple categoric "
   ]
  },
  {
   "cell_type": "markdown",
   "metadata": {},
   "source": [
    "               - Parent_Education_Distribution"
   ]
  },
  {
   "cell_type": "code",
   "execution_count": null,
   "metadata": {},
   "outputs": [],
   "source": [
    "#(numeric: 0 - none, 1 - primary education (4th grade), 2 - 5th to 9th grade, 3 - secondary education or 4 - higher education)"
   ]
  },
  {
   "cell_type": "code",
   "execution_count": 55,
   "metadata": {},
   "outputs": [
    {
     "data": {
      "text/plain": [
       "array([4, 1, 3, 2, 0], dtype=int64)"
      ]
     },
     "execution_count": 55,
     "metadata": {},
     "output_type": "execute_result"
    }
   ],
   "source": [
    "df[\"Medu\"].unique()"
   ]
  },
  {
   "cell_type": "code",
   "execution_count": 56,
   "metadata": {},
   "outputs": [
    {
     "data": {
      "text/plain": [
       "array([4, 1, 2, 3, 0], dtype=int64)"
      ]
     },
     "execution_count": 56,
     "metadata": {},
     "output_type": "execute_result"
    }
   ],
   "source": [
    "df[\"Fedu\"].unique()"
   ]
  },
  {
   "cell_type": "code",
   "execution_count": 58,
   "metadata": {},
   "outputs": [
    {
     "data": {
      "image/png": "[encoded data removed]",
      "text/plain": [
       "<Figure size 432x288 with 1 Axes>"
      ]
     },
     "metadata": {
      "needs_background": "light"
     },
     "output_type": "display_data"
    },
    {
     "data": {
      "image/png": "[encoded data removed]",
      "text/plain": [
       "<Figure size 432x288 with 1 Axes>"
      ]
     },
     "metadata": {
      "needs_background": "light"
     },
     "output_type": "display_data"
    }
   ],
   "source": [
    "f, fx = plt.subplots()\n",
    "figure = sns.countplot(x = 'Medu', data=df, order=[0,1,2,3,4])\n",
    "fx = fx.set(ylabel=\"Count\", xlabel=\"Mother Education\")\n",
    "figure.grid(False)\n",
    "plt.title('Parent Education Distribution')\n",
    "   \n",
    "f, fx = plt.subplots()\n",
    "figure = sns.countplot(x = 'Fedu', data=df, order=[0,1,2,3,4])\n",
    "fx = fx.set(ylabel=\"Count\", xlabel=\"Father Education\")\n",
    "figure.grid(False)\n",
    "plt.savefig('Parent_Education_plot.png', bbox_inches='tight')"
   ]
  },
  {
   "cell_type": "code",
   "execution_count": null,
   "metadata": {},
   "outputs": [],
   "source": [
    "# (nominal: 'teacher', 'health' care related, civil 'services' (e.g. administrative or police), 'at_home' or 'other')"
   ]
  },
  {
   "cell_type": "code",
   "execution_count": 288,
   "metadata": {},
   "outputs": [
    {
     "data": {
      "image/png": "[encoded data removed]",
      "text/plain": [
       "<Figure size 432x288 with 1 Axes>"
      ]
     },
     "metadata": {
      "needs_background": "light"
     },
     "output_type": "display_data"
    },
    {
     "data": {
      "image/png": "[encoded data removed]",
      "text/plain": [
       "<Figure size 432x288 with 1 Axes>"
      ]
     },
     "metadata": {
      "needs_background": "light"
     },
     "output_type": "display_data"
    }
   ],
   "source": [
    "f, fx = plt.subplots()\n",
    "figure = sns.countplot(x = 'Mjob', data=df, order=['teacher','health','services','at_home','other'])\n",
    "fx = fx.set(ylabel=\"Count\", xlabel=\"Mother Job\")\n",
    "figure.grid(False)\n",
    "plt.title('Parent Job Distribution')\n",
    "   \n",
    "f, fx = plt.subplots()\n",
    "figure = sns.countplot(x = 'Fjob', data=df, order=['teacher','health','services','at_home','other'])\n",
    "fx = fx.set(ylabel=\"Count\", xlabel=\"Father Job\")\n",
    "figure.grid(False)\n",
    "plt.savefig('Parent_Job_plot.png', bbox_inches='tight')"
   ]
  },
  {
   "cell_type": "markdown",
   "metadata": {},
   "source": [
    "    -travel_time_Distribution"
   ]
  },
  {
   "cell_type": "code",
   "execution_count": null,
   "metadata": {},
   "outputs": [],
   "source": [
    "# (numeric: 1 - <15 min., 2 - 15 to 30 min., 3 - 30 min. to 1 hour, or 4 - >1 hour) "
   ]
  },
  {
   "cell_type": "code",
   "execution_count": 61,
   "metadata": {},
   "outputs": [
    {
     "data": {
      "image/png": "[encoded data removed]",
      "text/plain": [
       "<Figure size 432x288 with 1 Axes>"
      ]
     },
     "metadata": {
      "needs_background": "light"
     },
     "output_type": "display_data"
    }
   ],
   "source": [
    "f, ax = plt.subplots()\n",
    "figure = sns.countplot(x = 'traveltime', data=df, order=[1,2,3,4])\n",
    "ax = ax.set(ylabel=\"Count\", xlabel=\"travel time\")\n",
    "figure.grid(False)\n",
    "plt.title('Travel Time Distribution')\n",
    "plt.savefig('travel_time_plot.png', bbox_inches='tight')"
   ]
  },
  {
   "cell_type": "markdown",
   "metadata": {},
   "source": [
    "      -Study Time Distribution"
   ]
  },
  {
   "cell_type": "code",
   "execution_count": null,
   "metadata": {},
   "outputs": [],
   "source": [
    "# (numeric: 1 - <2 hours, 2 - 2 to 5 hours, 3 - 5 to 10 hours, or 4 - >10 hours)"
   ]
  },
  {
   "cell_type": "code",
   "execution_count": 62,
   "metadata": {},
   "outputs": [
    {
     "data": {
      "image/png": "[encoded data removed]",
      "text/plain": [
       "<Figure size 432x288 with 1 Axes>"
      ]
     },
     "metadata": {
      "needs_background": "light"
     },
     "output_type": "display_data"
    }
   ],
   "source": [
    "f, ax = plt.subplots()\n",
    "figure = sns.countplot(x = 'studytime', data=df, order=[1,2,3,4])\n",
    "ax = ax.set(ylabel=\"Count\", xlabel=\"study time\")\n",
    "figure.grid(False)\n",
    "plt.title('Study Time Distribution')\n",
    "plt.savefig('Study_time_plot.png', bbox_inches='tight')"
   ]
  },
  {
   "cell_type": "markdown",
   "metadata": {},
   "source": [
    "           -failures Distribution"
   ]
  },
  {
   "cell_type": "code",
   "execution_count": 63,
   "metadata": {},
   "outputs": [
    {
     "data": {
      "image/png": "[encoded data removed]",
      "text/plain": [
       "<Figure size 432x288 with 1 Axes>"
      ]
     },
     "metadata": {
      "needs_background": "light"
     },
     "output_type": "display_data"
    }
   ],
   "source": [
    "f, ax = plt.subplots()\n",
    "figure = sns.countplot(x = 'failures', data=df, order=[0,1,2,3])\n",
    "ax = ax.set(ylabel=\"Count\", xlabel=\"failures\")\n",
    "figure.grid(False)\n",
    "plt.title('failures Distribution')\n",
    "plt.savefig('failures_plot.png', bbox_inches='tight')"
   ]
  },
  {
   "cell_type": "markdown",
   "metadata": {},
   "source": [
    "     -family relationship Distribution"
   ]
  },
  {
   "cell_type": "code",
   "execution_count": 64,
   "metadata": {},
   "outputs": [
    {
     "data": {
      "image/png": "[encoded data removed]",
      "text/plain": [
       "<Figure size 432x288 with 1 Axes>"
      ]
     },
     "metadata": {
      "needs_background": "light"
     },
     "output_type": "display_data"
    }
   ],
   "source": [
    "f, ax = plt.subplots()\n",
    "figure = sns.countplot(x = 'famrel', data=df, order=[1,2,3,4,5])\n",
    "ax = ax.set(ylabel=\"Count\", xlabel=\"family relationship\")\n",
    "figure.grid(False)\n",
    "plt.title('family relationship Distribution')\n",
    "plt.savefig('fam_relationship_plot.png', bbox_inches='tight')"
   ]
  },
  {
   "cell_type": "markdown",
   "metadata": {},
   "source": [
    "     -Free time Distribution"
   ]
  },
  {
   "cell_type": "code",
   "execution_count": 65,
   "metadata": {},
   "outputs": [
    {
     "data": {
      "image/png": "[encoded data removed]",
      "text/plain": [
       "<Figure size 432x288 with 1 Axes>"
      ]
     },
     "metadata": {
      "needs_background": "light"
     },
     "output_type": "display_data"
    }
   ],
   "source": [
    "f, ax = plt.subplots()\n",
    "figure = sns.countplot(x = 'freetime', data=df, order=[1,2,3,4,5])\n",
    "ax = ax.set(ylabel=\"Count\", xlabel=\"Freetime\")\n",
    "figure.grid(False)\n",
    "plt.title('Free time Distribution')\n",
    "plt.savefig('free_time_plot.png', bbox_inches='tight')"
   ]
  },
  {
   "cell_type": "markdown",
   "metadata": {},
   "source": [
    "     -Going Out Distribution\n",
    "     "
   ]
  },
  {
   "cell_type": "code",
   "execution_count": 66,
   "metadata": {},
   "outputs": [
    {
     "data": {
      "image/png": "[encoded data removed]",
      "text/plain": [
       "<Figure size 432x288 with 1 Axes>"
      ]
     },
     "metadata": {
      "needs_background": "light"
     },
     "output_type": "display_data"
    }
   ],
   "source": [
    "f, ax = plt.subplots()\n",
    "figure = sns.countplot(x = 'goout', data=df, order=[1,2,3,4,5])\n",
    "ax = ax.set(ylabel=\"Count\", xlabel=\"Going Out\")\n",
    "figure.grid(False)\n",
    "plt.title('Going Out Distribution')\n",
    "plt.savefig('Going_out_plot.png', bbox_inches='tight')\n"
   ]
  },
  {
   "cell_type": "markdown",
   "metadata": {},
   "source": [
    "    -alcohol consumption Distribution"
   ]
  },
  {
   "cell_type": "code",
   "execution_count": 67,
   "metadata": {},
   "outputs": [
    {
     "data": {
      "image/png": "[encoded data removed]",
      "text/plain": [
       "<Figure size 432x288 with 1 Axes>"
      ]
     },
     "metadata": {
      "needs_background": "light"
     },
     "output_type": "display_data"
    },
    {
     "data": {
      "image/png": "[encoded data removed]",
      "text/plain": [
       "<Figure size 432x288 with 1 Axes>"
      ]
     },
     "metadata": {
      "needs_background": "light"
     },
     "output_type": "display_data"
    }
   ],
   "source": [
    "f, ax = plt.subplots()\n",
    "figure = sns.countplot(x = 'Dalc', data=df, order=[1,2,3,4,5])\n",
    "ax = ax.set(ylabel=\"Count\", xlabel=\"Working\")\n",
    "figure.grid(False)\n",
    "plt.title('Working day alcohol consumption Distribution')\n",
    "\n",
    "f, ax = plt.subplots()\n",
    "figure = sns.countplot(x = 'Walc', data=df, order=[1,2,3,4,5])\n",
    "ax = ax.set(ylabel=\"Count\", xlabel=\"Weekends\")\n",
    "figure.grid(False)\n",
    "plt.title('Weekend alcohol consumption Distribution')\n",
    "plt.savefig('alcohol_consumption_plot.png', bbox_inches='tight')"
   ]
  },
  {
   "cell_type": "markdown",
   "metadata": {},
   "source": [
    "    -distribution of student status"
   ]
  },
  {
   "cell_type": "code",
   "execution_count": 68,
   "metadata": {},
   "outputs": [
    {
     "data": {
      "text/plain": [
       "1    265\n",
       "0    130\n",
       "Name: passed, dtype: int64"
      ]
     },
     "execution_count": 68,
     "metadata": {},
     "output_type": "execute_result"
    }
   ],
   "source": [
    "df['passed'].value_counts()"
   ]
  },
  {
   "cell_type": "code",
   "execution_count": 69,
   "metadata": {},
   "outputs": [
    {
     "data": {
      "image/png": "[encoded data removed]",
      "text/plain": [
       "<Figure size 432x288 with 1 Axes>"
      ]
     },
     "metadata": {},
     "output_type": "display_data"
    }
   ],
   "source": [
    "labels = 'student pass the final exam ', 'student fail the final exam'\n",
    "sizes = [265, 130]\n",
    "colors=['lightskyblue','yellow']\n",
    "fig1, ax1 = plt.subplots()\n",
    "ax1.pie(sizes,  labels=labels, autopct='%1.1f%%',colors=colors,\n",
    "        shadow=True, startangle=90)\n",
    "ax1.axis('equal')  # Equal aspect ratio ensures that pie is drawn as a circle.\n",
    "plt.show()"
   ]
  },
  {
   "cell_type": "markdown",
   "metadata": {},
   "source": [
    "   d) Now leats look at the most impactufull features for student failure\n",
    "    "
   ]
  },
  {
   "cell_type": "markdown",
   "metadata": {},
   "source": [
    "                 1-using correlation \n",
    "                 "
   ]
  },
  {
   "cell_type": "code",
   "execution_count": 70,
   "metadata": {},
   "outputs": [
    {
     "data": {
      "image/png": "[encoded data removed]",
      "text/plain": [
       "<Figure size 576x864 with 2 Axes>"
      ]
     },
     "metadata": {
      "needs_background": "light"
     },
     "output_type": "display_data"
    }
   ],
   "source": [
    "# visualise correlation between student status and other features\n",
    "plt.figure(figsize=(8, 12))\n",
    "heatmap = sns.heatmap(df.corr()[['passed']].sort_values(by='passed', ascending=False), vmin=-1, vmax=1, annot=True, cmap='BrBG')\n",
    "heatmap.set_title('Features Correlating with the status of student', fontdict={'fontsize':18}, pad=16);\n"
   ]
  },
  {
   "cell_type": "markdown",
   "metadata": {},
   "source": [
    "it seems that most impactefull elements for student status are :\n",
    "\n",
    "    _ for negatif impact we had:\n",
    "    \n",
    "        -failures\n",
    "        -goout\n",
    "        -age\n",
    "        \n",
    "    _ for positif impact\n",
    "    \n",
    "       -heigher\n",
    "        -Medu\n",
    "        -Fedu"
   ]
  },
  
  
  
  
  
  
  
  
  {
   "cell_type": "code",
   "execution_count": null,
   "metadata": {},
   "outputs": [],
   "source": []
  },
  {
   "cell_type": "code",
   "execution_count": null,
   "metadata": {},
   "outputs": [],
   "source": []
  },
  
  
  {
   "cell_type": "code",
   "execution_count": null,
   "metadata": {},
   "outputs": [],
   "source": []
  },
  {
   "cell_type": "code",
   "execution_count": null,
   "metadata": {},
   "outputs": [],
   "source": []
  },
  {
   "cell_type": "code",
   "execution_count": null,
   "metadata": {},
   "outputs": [],
   "source": []
  },
  {
   "cell_type": "code",
   "execution_count": null,
   "metadata": {},
   "outputs": [],
   "source": []
  },
  {
   "cell_type": "code",
   "execution_count": null,
   "metadata": {},
   "outputs": [],
   "source": []
  },
  {
   "cell_type": "markdown",
   "metadata": {},
   "source": [
    "**Features scalling**"
   ]
  },
  {
   "cell_type": "code",
   "execution_count": 5,
   "metadata": {},
   "outputs": [
    {
     "data": {
      "text/html": [
       "<div>\n",
       "<style scoped>\n",
       "    .dataframe tbody tr th:only-of-type {\n",
       "        vertical-align: middle;\n",
       "    }\n",
       "\n",
       "    .dataframe tbody tr th {\n",
       "        vertical-align: top;\n",
       "    }\n",
       "\n",
       "    .dataframe thead th {\n",
       "        text-align: right;\n",
       "    }\n",
       "</style>\n",
       "<table border=\"1\" class=\"dataframe\">\n",
       "  <thead>\n",
       "    <tr style=\"text-align: right;\">\n",
       "      <th></th>\n",
       "      <th>school</th>\n",
       "      <th>sex</th>\n",
       "      <th>age</th>\n",
       "      <th>address</th>\n",
       "      <th>famsize</th>\n",
       "      <th>Pstatus</th>\n",
       "      <th>Medu</th>\n",
       "      <th>Fedu</th>\n",
       "      <th>Mjob</th>\n",
       "      <th>Fjob</th>\n",
       "      <th>...</th>\n",
       "      <th>internet</th>\n",
       "      <th>romantic</th>\n",
       "      <th>famrel</th>\n",
       "      <th>freetime</th>\n",
       "      <th>goout</th>\n",
       "      <th>Dalc</th>\n",
       "      <th>Walc</th>\n",
       "      <th>health</th>\n",
       "      <th>absences</th>\n",
       "      <th>passed</th>\n",
       "    </tr>\n",
       "  </thead>\n",
       "  <tbody>\n",
       "    <tr>\n",
       "      <th>0</th>\n",
       "      <td>0.0</td>\n",
       "      <td>1.0</td>\n",
       "      <td>0.059264</td>\n",
       "      <td>0.0</td>\n",
       "      <td>1.0</td>\n",
       "      <td>1.0</td>\n",
       "      <td>1.00</td>\n",
       "      <td>1.00</td>\n",
       "      <td>0.75</td>\n",
       "      <td>0.0</td>\n",
       "      <td>...</td>\n",
       "      <td>0.0</td>\n",
       "      <td>0.0</td>\n",
       "      <td>0.75</td>\n",
       "      <td>0.5</td>\n",
       "      <td>0.75</td>\n",
       "      <td>0.00</td>\n",
       "      <td>0.0</td>\n",
       "      <td>0.5</td>\n",
       "      <td>0.003882</td>\n",
       "      <td>0.0</td>\n",
       "    </tr>\n",
       "    <tr>\n",
       "      <th>1</th>\n",
       "      <td>0.0</td>\n",
       "      <td>1.0</td>\n",
       "      <td>0.013809</td>\n",
       "      <td>0.0</td>\n",
       "      <td>1.0</td>\n",
       "      <td>0.0</td>\n",
       "      <td>0.25</td>\n",
       "      <td>0.25</td>\n",
       "      <td>0.75</td>\n",
       "      <td>1.0</td>\n",
       "      <td>...</td>\n",
       "      <td>1.0</td>\n",
       "      <td>0.0</td>\n",
       "      <td>1.00</td>\n",
       "      <td>0.5</td>\n",
       "      <td>0.50</td>\n",
       "      <td>0.00</td>\n",
       "      <td>0.0</td>\n",
       "      <td>0.5</td>\n",
       "      <td>-0.022785</td>\n",
       "      <td>0.0</td>\n",
       "    </tr>\n",
       "    <tr>\n",
       "      <th>2</th>\n",
       "      <td>0.0</td>\n",
       "      <td>1.0</td>\n",
       "      <td>-0.077100</td>\n",
       "      <td>0.0</td>\n",
       "      <td>0.0</td>\n",
       "      <td>0.0</td>\n",
       "      <td>0.25</td>\n",
       "      <td>0.25</td>\n",
       "      <td>0.75</td>\n",
       "      <td>1.0</td>\n",
       "      <td>...</td>\n",
       "      <td>1.0</td>\n",
       "      <td>0.0</td>\n",
       "      <td>0.75</td>\n",
       "      <td>0.5</td>\n",
       "      <td>0.25</td>\n",
       "      <td>0.25</td>\n",
       "      <td>0.5</td>\n",
       "      <td>0.5</td>\n",
       "      <td>0.057215</td>\n",
       "      <td>1.0</td>\n",
       "    </tr>\n",
       "  </tbody>\n",
       "</table>\n",
       "<p>3 rows × 31 columns</p>\n",
       "</div>"
      ],
      "text/plain": [
       "   school  sex       age  address  famsize  Pstatus  Medu  Fedu  Mjob  Fjob  \\\n",
       "0     0.0  1.0  0.059264      0.0      1.0      1.0  1.00  1.00  0.75   0.0   \n",
       "1     0.0  1.0  0.013809      0.0      1.0      0.0  0.25  0.25  0.75   1.0   \n",
       "2     0.0  1.0 -0.077100      0.0      0.0      0.0  0.25  0.25  0.75   1.0   \n",
       "\n",
       "   ...  internet  romantic  famrel  freetime  goout  Dalc  Walc  health  \\\n",
       "0  ...       0.0       0.0    0.75       0.5   0.75  0.00   0.0     0.5   \n",
       "1  ...       1.0       0.0    1.00       0.5   0.50  0.00   0.0     0.5   \n",
       "2  ...       1.0       0.0    0.75       0.5   0.25  0.25   0.5     0.5   \n",
       "\n",
       "   absences  passed  \n",
       "0  0.003882     0.0  \n",
       "1 -0.022785     0.0  \n",
       "2  0.057215     1.0  \n",
       "\n",
       "[3 rows x 31 columns]"
      ]
     },
     "execution_count": 5,
     "metadata": {},
     "output_type": "execute_result"
    }
   ],
   "source": [
    "feature_scaling(df)\n",
    "X_train,X_test,y_train,y_test = split(df,0.2)\n",
    "\n",
    "# Now we are ready for models training\n",
    "df.iloc[0:3]"
   ]
  },
  {
   "cell_type": "markdown",
   "metadata": {},
   "source": [
    "# Logistic regression"
   ]
  },
  {
   "cell_type": "code",
   "execution_count": 6,
   "metadata": {},
   "outputs": [],
   "source": [
    "# call split(df, test_size)"
   ]
  },
  {
   "cell_type": "code",
   "execution_count": null,
   "metadata": {},
   "outputs": [],
   "source": []
  },
  {
   "cell_type": "code",
   "execution_count": null,
   "metadata": {},
   "outputs": [],
   "source": []
  },
  {
   "cell_type": "code",
   "execution_count": null,
   "metadata": {},
   "outputs": [],
   "source": []
  },
  {
   "cell_type": "code",
   "execution_count": null,
   "metadata": {},
   "outputs": [],
   "source": []
  },
  {
   "cell_type": "code",
   "execution_count": null,
   "metadata": {},
   "outputs": [],
   "source": []
  },
  {
   "cell_type": "markdown",
   "metadata": {},
   "source": [
    "# k-nearest neighbors"
   ]
  },
  {
   "cell_type": "code",
   "execution_count": 7,
   "metadata": {},
   "outputs": [],
   "source": [
    "# call split(df, test_size)"
   ]
  },
  {
   "cell_type": "code",
   "execution_count": null,
   "metadata": {},
   "outputs": [],
   "source": []
  },
  {
   "cell_type": "code",
   "execution_count": null,
   "metadata": {},
   "outputs": [],
   "source": []
  },
  {
   "cell_type": "code",
   "execution_count": null,
   "metadata": {},
   "outputs": [],
   "source": []
  },
  {
   "cell_type": "code",
   "execution_count": null,
   "metadata": {},
   "outputs": [],
   "source": []
  },
  {
   "cell_type": "code",
   "execution_count": null,
   "metadata": {},
   "outputs": [],
   "source": []
  },
  {
   "cell_type": "markdown",
   "metadata": {},
   "source": [
    "# Support vector machine "
   ]
  },
  {
   "cell_type": "code",
   "execution_count": 13,
   "metadata": {},
   "outputs": [],
   "source": [
    "# Mohammed AL JADD\n",
    "# Functions will help us\n",
    "\n",
    "\n",
    "# ------------------------------------------------------------------------------------------------------------------------------\n",
    "# Show results of every model-\n",
    "\n",
    "def showResults(accuracy, trainingTime, y_pred,model):\n",
    "    \n",
    "    print('------------------------------------------------Results :',model,'-----------------------------------------------------')\n",
    "    confusionMatrix = confusion_matrix(y_test, y_pred)\n",
    "    print('\\n The ROC curve is :\\n')\n",
    "    fpr,tpr,thresholds=roc_curve(y_test,y_pred)\n",
    "    plt.plot([0, 1],[0, 1],'--')\n",
    "    plt.plot(fpr,tpr,label=model)\n",
    "    plt.xlabel('false positive')\n",
    "    plt.ylabel('false negative')\n",
    "    plt.legend()\n",
    "    plt.show()\n",
    "    print('----------------------------------------------')\n",
    "    print('The model  accuracy:', accuracy,'%')\n",
    "    print('----------------------------------------------')\n",
    "    print('The confusion matrix is :\\n',confusionMatrix)\n",
    "    print('----------------------------------------------')\n",
    "    print('The training time is: ',trainingTime)\n",
    "    print('----------------------------------------------')\n",
    "    print('The f1 score is :',f1_score(y_test, y_pred, average='macro'))  \n",
    "    print('--------------------------------------------------------------------------------------------------------------------')\n",
    "    \n",
    "\n",
    "\n",
    "    \n",
    "# ------------------------------------------------------------------------------------------------------------------------------\n",
    "# C, degree and gamma are the parameters that are used in SVM classffier 'svc(C=..,..),svc(C,degree=..)',svc(C,gamma=..)\n",
    "# The following functions will return those values that minimize the error on (X_val,y_val) set\n",
    "# So this (X_val,y_val) set will be used to get the optimal SVM parameters before evaluating the model on the test set\n",
    "\n",
    "\n",
    "# Optimal C \n",
    "def optimal_C_value():\n",
    "    Ci = np.array(( 0.0001,0.001,0.01,0.05,0.1,4,10,40,100))\n",
    "    minError = float('Inf')\n",
    "    optimal_C = float('Inf')\n",
    "\n",
    "    for c in Ci:\n",
    "        clf = SVC(C=c,kernel='linear')\n",
    "        clf.fit(X_train, y_train)\n",
    "        predictions = clf.predict(X_val)\n",
    "        error = np.mean(np.double(predictions != y_val))\n",
    "        if error < minError:\n",
    "            minError = error\n",
    "            optimal_C = c\n",
    "    return optimal_C\n",
    "\n",
    "\n",
    "# Optimal C and the degree of the polynomial\n",
    "def optimal_C_d_values():\n",
    "    Ci = np.array(( 0.0001,0.001,0.01,0.05,0.1,4,10,40,100))\n",
    "    Di = np.array(( 2, 5, 10, 15, 20, 25, 30))\n",
    "    minError = float('Inf')\n",
    "    optimal_C = float('Inf')\n",
    "    optimal_d = float('Inf')\n",
    "\n",
    "    for d in Di:\n",
    "        for c in Ci:\n",
    "            clf = SVC(C=c,kernel='poly', degree=d)\n",
    "            clf.fit(X_train, y_train)\n",
    "            predictions = clf.predict(X_val)\n",
    "            error = np.mean(np.double(predictions != y_val))\n",
    "            if error < minError:\n",
    "                minError = error\n",
    "                optimal_C = c\n",
    "                optimal_d = d\n",
    "    return optimal_C,optimal_d\n",
    "\n",
    "\n",
    "# Optimal C and gamma\n",
    "def optimal_C_gamma_values():\n",
    "    Ci = np.array(( 0.0001,0.001,0.01,0.05,0.1,4,10,40,100))\n",
    "    Gi = np.array(( 0.000001,0.00001,0.01,1,2,3,5,20,70,100,500,1000))\n",
    "    minError = float('Inf')\n",
    "    optimal_C = float('Inf')\n",
    "    optimal_g = float('Inf')\n",
    "\n",
    "    for g in Gi:\n",
    "        for c in Ci:\n",
    "            clf = SVC(C=c,kernel='rbf', gamma=g)\n",
    "            clf.fit(X_train, y_train)\n",
    "            predictions = clf.predict(X_val)\n",
    "            error = np.mean(np.double(predictions != y_val))\n",
    "            if error < minError:\n",
    "                minError = error\n",
    "                optimal_C = c\n",
    "                optimal_g = g\n",
    "    return optimal_C,optimal_g\n",
    "\n",
    "\n",
    "# ------------------------------------------------------------------------------------------------------------------------------\n",
    "# Compare the three kernels\n",
    "\n",
    "\n",
    "def compare_kernels():\n",
    "    print('------------------------------------------------ Comparison -----------------------------------------------------')\n",
    "    print('\\n')\n",
    "    f11 = \"{:.2f}\".format(f1_score(y_test, y_linear, average='macro'))\n",
    "    f22 = \"{:.2f}\".format(f1_score(y_test, y_poly, average='macro'))\n",
    "    f33 = \"{:.2f}\".format(f1_score(y_test, y_gauss, average='macro'))\n",
    "    a1,a2 = confusion_matrix(y_test, y_linear)[0],confusion_matrix(y_test, y_linear)[1]\n",
    "    b1,b2 = confusion_matrix(y_test, y_poly)[0],confusion_matrix(y_test, y_poly)[1]\n",
    "    c1,c2 = confusion_matrix(y_test, y_gauss)[0],confusion_matrix(y_test, y_gauss)[1]\n",
    "    data_rows = [('training time',time1, time2, time3),\n",
    "                 ('','','',''),\n",
    "                  ('accuracy %',linear_accuracy, poly_accuracy, gauss_accuracy),\n",
    "                 ('','','',''),\n",
    "                 ('confusion matrix',a1, b1, c1),\n",
    "                ('',a2,b2,c2),\n",
    "                 ('','','',''),\n",
    "                ('f1 score',f11,f22,f33)]\n",
    "    t = Table(rows=data_rows, names=('metrice','Linear kernel', 'polynomial kernel', 'gaussian kernel'))\n",
    "    print(t)\n",
    "    print('\\n\\n')\n",
    "    print('The Roc curves :\\n')\n",
    "    y_pred1 = y_linear\n",
    "    y_pred2 = y_poly\n",
    "    y_pred3 = y_gauss\n",
    "    \n",
    "    fpr,tpr,thresholds=roc_curve(y_test,y_pred1)\n",
    "    plt.plot([0, 1],[0, 1],'--')\n",
    "    plt.plot(fpr,tpr,label='Linear kernel')\n",
    "    plt.xlabel('false positive')\n",
    "    plt.ylabel('false negative')\n",
    "    fpr,tpr,thresholds=roc_curve(y_test,y_pred2)\n",
    "    plt.plot(fpr,tpr,label='Polynomial kernel')\n",
    "    fpr,tpr,thresholds=roc_curve(y_test,y_pred3)\n",
    "    plt.plot(fpr,tpr,label='Gaussian kernel')\n",
    "    plt.legend()\n",
    "    plt.show()\n",
    "\n",
    "\n",
    "# ------------------------------------------------------------------------------------------------------------------------------\n",
    "# Print results of the choosen kernel\n",
    "\n",
    "def best_kernel(kernel):\n",
    "    time = 0\n",
    "    f1 = 0\n",
    "    accuracy = 0\n",
    "    if kernel == 'linear kernel':\n",
    "        time = time1\n",
    "        f1 = \"{:.2f}\".format(f1_score(y_test, y_linear, average='macro'))\n",
    "        accuracy = linear_accuracy\n",
    "    elif kernel == 'polynomial kernel':\n",
    "        time = time2\n",
    "        f1 = \"{:.2f}\".format(f1_score(y_test, y_poly, average='macro'))\n",
    "        accuracy = poly_accuracy\n",
    "    else :\n",
    "        time = time3\n",
    "        f1 = \"{:.2f}\".format(f1_score(y_test, y_gauss, average='macro'))\n",
    "        accuracy = gauss_accuracy\n",
    "    print('The choosen kernel :',kernel)\n",
    "    print('the training :',time)\n",
    "    print('the accuracy :',round(accuracy),'%')\n",
    "    print('the f1 score :',f1)\n",
    "    \n",
    "    \n",
    "    \n",
    "    \n",
    "    \n",
    "# ------------------------------------------------------------------------------------------------------------------------------\n",
    "# Splitting the data for SVM\n",
    "# Here We will split data into test set, cross validation (X_val, y_val) set and training set\n",
    "# The cross validation (X_val, y_val) is used for choosing the optimal value for svm parameters C, degree and gamma\n",
    "data = df.to_numpy()\n",
    "n = data.shape[1]    \n",
    "x = data[:,0:n-1]\n",
    "y = data[:,n-1]\n",
    "X_train,X_rest,y_train,y_rest = train_test_split(x,y,test_size=0.4, random_state=0)\n",
    "X_val,X_test,y_val,y_test = train_test_split(X_rest,y_rest,test_size=0.4, random_state=0) \n",
    "\n",
    "# We will use the three different svm classifier kernels\n",
    "# Linear kernel, polynomial kernel and gaussian kernel and we will choose the most accurate"
   ]
  },
  {
   "cell_type": "markdown",
   "metadata": {},
   "source": [
    "**Linear Kernel :**"
   ]
  },
  {
   "cell_type": "code",
   "execution_count": 14,
   "metadata": {},
   "outputs": [
    {
     "name": "stdout",
     "output_type": "stream",
     "text": [
      "------------------------------------------------Results : SVM linear kernel -----------------------------------------------------\n",
      "\n",
      " The ROC curve is :\n",
      "\n"
     ]
    },
    {
     "data": {
      "image/png": "[encoded data removed]",
      "text/plain": [
       "<Figure size 432x288 with 1 Axes>"
      ]
     },
     "metadata": {
      "needs_background": "light"
     },
     "output_type": "display_data"
    },
    {
     "name": "stdout",
     "output_type": "stream",
     "text": [
      "----------------------------------------------\n",
      "The model  accuracy: 82.8125 %\n",
      "----------------------------------------------\n",
      "The confusion matrix is :\n",
      " [[ 9 10]\n",
      " [ 1 44]]\n",
      "----------------------------------------------\n",
      "The training time is:  14ms\n",
      "----------------------------------------------\n",
      "The f1 score is : 0.7547892720306513\n",
      "--------------------------------------------------------------------------------------------------------------------\n"
     ]
    }
   ],
   "source": [
    "###################################################### Linear kernel ###########################################################\n",
    "\n",
    "# Let's get the optimal C value for the linear kernal\n",
    "optimal_C = optimal_C_value()\n",
    "\n",
    "\n",
    "# Now let's use the optimal C value\n",
    "linear_clf = SVC(C=optimal_C,kernel='linear')\n",
    "\n",
    "# Let's train the model with the optimal C value and calculate the training time\n",
    "tic = time.time()\n",
    "linear_clf.fit(X_train, y_train)\n",
    "toc = time.time()\n",
    "time1 = str(round(1000*(toc-tic))) + \"ms\"\n",
    "y_linear = linear_clf.predict(X_test)\n",
    "linear_accuracy = accuracy_score(y_test, y_linear)*100\n",
    "\n",
    "# Let's show the resuls\n",
    "showResults(linear_accuracy, time1, y_linear,'SVM linear kernel')"
   ]
  },
  {
   "cell_type": "markdown",
   "metadata": {},
   "source": [
    "**Polynomial Kernel :**"
   ]
  },
  {
   "cell_type": "code",
   "execution_count": 15,
   "metadata": {},
   "outputs": [
    {
     "name": "stdout",
     "output_type": "stream",
     "text": [
      "------------------------------------------------Results : SVM polynomial kernel -----------------------------------------------------\n",
      "\n",
      " The ROC curve is :\n",
      "\n"
     ]
    },
    {
     "data": {
      "image/png": "[encoded data removed]",
      "text/plain": [
       "<Figure size 432x288 with 1 Axes>"
      ]
     },
     "metadata": {
      "needs_background": "light"
     },
     "output_type": "display_data"
    },
    {
     "name": "stdout",
     "output_type": "stream",
     "text": [
      "----------------------------------------------\n",
      "The model  accuracy: 73.4375 %\n",
      "----------------------------------------------\n",
      "The confusion matrix is :\n",
      " [[ 8 11]\n",
      " [ 6 39]]\n",
      "----------------------------------------------\n",
      "The training time is:  0ms\n",
      "----------------------------------------------\n",
      "The f1 score is : 0.6529505582137161\n",
      "--------------------------------------------------------------------------------------------------------------------\n"
     ]
    }
   ],
   "source": [
    "###################################################### Polynomial kernel ######################################################\n",
    "\n",
    "# Let's get the optimal C and the degree value for the polynomial kernal\n",
    "optimal_C, optimal_d = optimal_C_d_values()\n",
    "\n",
    "# Now let's use the optimal c value and the optimal degree value\n",
    "poly_clf = SVC(C=optimal_C,kernel='poly', degree=optimal_d)\n",
    "\n",
    "# Let's train the model with the optimal C value and calculate the training time\n",
    "tic = time.time()\n",
    "poly_clf.fit(X_train, y_train)\n",
    "toc = time.time()\n",
    "time2 = str(round(1000*(toc-tic))) + \"ms\"\n",
    "y_poly = poly_clf.predict(X_test)\n",
    "poly_accuracy = (accuracy_score(y_test, y_poly)*100)\n",
    "\n",
    "# Let's show the resuls\n",
    "showResults(poly_accuracy, time2, y_poly,'SVM polynomial kernel')"
   ]
  },
  {
   "cell_type": "markdown",
   "metadata": {},
   "source": [
    "**Gaussian Kernel :**"
   ]
  },
  {
   "cell_type": "code",
   "execution_count": 16,
   "metadata": {},
   "outputs": [
    {
     "name": "stdout",
     "output_type": "stream",
     "text": [
      "------------------------------------------------Results : SVM gaussian kernel -----------------------------------------------------\n",
      "\n",
      " The ROC curve is :\n",
      "\n"
     ]
    },
    {
     "data": {
      "image/png": "[encoded data removed]",
      "text/plain": [
       "<Figure size 432x288 with 1 Axes>"
      ]
     },
     "metadata": {
      "needs_background": "light"
     },
     "output_type": "display_data"
    },
    {
     "name": "stdout",
     "output_type": "stream",
     "text": [
      "----------------------------------------------\n",
      "The model  accuracy: 78.125 %\n",
      "----------------------------------------------\n",
      "The confusion matrix is :\n",
      " [[ 7 12]\n",
      " [ 2 43]]\n",
      "----------------------------------------------\n",
      "The training time is:  0ms\n",
      "----------------------------------------------\n",
      "The f1 score is : 0.6799999999999999\n",
      "--------------------------------------------------------------------------------------------------------------------\n"
     ]
    }
   ],
   "source": [
    "###################################################### Gaussian kernel ######################################################\n",
    "\n",
    "# Let's get the optimal C value for the gaussian kernal\n",
    "optimal_C, optimal_gamma = optimal_C_gamma_values() \n",
    "\n",
    "# Now let's use the optimal c value\n",
    "gauss_clf = SVC(C=optimal_C,kernel='rbf',gamma=optimal_gamma)\n",
    "\n",
    "# Let's train the model with the optimal C value and calculate the training time\n",
    "tic = time.time()\n",
    "gauss_clf.fit(X_train, y_train)\n",
    "toc = time.time()\n",
    "time3 = str(round(1000*(toc-tic))) + \"ms\"\n",
    "y_gauss = gauss_clf.predict(X_test)\n",
    "gauss_accuracy = (accuracy_score(y_test, y_gauss)*100)\n",
    "\n",
    "# Let's show the resuls\n",
    "showResults(gauss_accuracy, time3, y_gauss,'SVM gaussian kernel')"
   ]
  },
  {
   "cell_type": "markdown",
   "metadata": {},
   "source": [
    "**Comparison of the three svm kernels**"
   ]
  },
  {
   "cell_type": "code",
   "execution_count": 17,
   "metadata": {},
   "outputs": [
    {
     "name": "stdout",
     "output_type": "stream",
     "text": [
      "------------------------------------------------ Comparison -----------------------------------------------------\n",
      "\n",
      "\n",
      "    metrice      Linear kernel polynomial kernel gaussian kernel\n",
      "---------------- ------------- ----------------- ---------------\n",
      "   training time          14ms               0ms             0ms\n",
      "                                                                \n",
      "      accuracy %       82.8125           73.4375          78.125\n",
      "                                                                \n",
      "confusion matrix       [ 9 10]           [ 8 11]         [ 7 12]\n",
      "                       [ 1 44]           [ 6 39]         [ 2 43]\n",
      "                                                                \n",
      "        f1 score          0.75              0.65            0.68\n",
      "\n",
      "\n",
      "\n",
      "The Roc curves :\n",
      "\n"
     ]
    },
    {
     "data": {
      "image/png": "[encoded data removed]",
      "text/plain": [
       "<Figure size 432x288 with 1 Axes>"
      ]
     },
     "metadata": {
      "needs_background": "light"
     },
     "output_type": "display_data"
    }
   ],
   "source": [
    "compare_kernels()"
   ]
  },
  {
   "cell_type": "code",
   "execution_count": null,
   "metadata": {},
   "outputs": [],
   "source": []
  },
  {
   "cell_type": "code",
   "execution_count": null,
   "metadata": {},
   "outputs": [],
   "source": []
  },
  {
   "cell_type": "code",
   "execution_count": null,
   "metadata": {},
   "outputs": [],
   "source": []
  },
  {
   "cell_type": "code",
   "execution_count": null,
   "metadata": {},
   "outputs": [],
   "source": []
  },
  {
   "cell_type": "markdown",
   "metadata": {},
   "source": [
    "# Comparison of the three algorithms"
   ]
  },
  {
   "cell_type": "code",
   "execution_count": null,
   "metadata": {},
   "outputs": [],
   "source": []
  },
  {
   "cell_type": "code",
   "execution_count": null,
   "metadata": {},
   "outputs": [],
   "source": []
  },
  {
   "cell_type": "code",
   "execution_count": null,
   "metadata": {},
   "outputs": [],
   "source": []
  },
  {
   "cell_type": "code",
   "execution_count": null,
   "metadata": {},
   "outputs": [],
   "source": []
  },
  {
   "cell_type": "code",
   "execution_count": null,
   "metadata": {},
   "outputs": [],
   "source": []
  },
  {
   "cell_type": "code",
   "execution_count": null,
   "metadata": {},
   "outputs": [],
   "source": []
  }
 ],
 "metadata": {
  "kernelspec": {
   "display_name": "Python 3",
   "language": "python",
   "name": "python3"
  },
  "language_info": {
   "codemirror_mode": {
    "name": "ipython",
    "version": 3
   },
   "file_extension": ".py",
   "mimetype": "text/x-python",
   "name": "python",
   "nbconvert_exporter": "python",
   "pygments_lexer": "ipython3",
   "version": "3.8.3"
  }
 },
 "nbformat": 4,
 "nbformat_minor": 4
}
